{
 "cells": [
  {
   "cell_type": "markdown",
   "metadata": {},
   "source": [
    "# Data report for the cytotox dataset for LNA gapmers"
   ]
  },
  {
   "cell_type": "markdown",
   "metadata": {},
   "source": [
    "This dataset was sourced from https://doi.org/10.1016/j.omtn.2019.12.011. This study investigated the cytotoxic potential of LNA gapmers in HeLa cells. The readout was caspase activation after 24 hours of transfection with 100nM of ASO."
   ]
  },
  {
   "cell_type": "code",
   "execution_count": 1,
   "metadata": {},
   "outputs": [],
   "source": [
    "from oligogym.data import DatasetDownloader\n",
    "from oligogym.features import OneHotEncoder\n",
    "from oligogym.helm import helm2xna\n",
    "from oligogym.models import RandomForestModel\n",
    "from oligogym.metrics import regression_metrics\n",
    "from oligogym.stats import get_cosine_dist_to_nearest_neighbor, get_outliers\n",
    "from sklearn.decomposition import PCA\n",
    "from sklearn.cluster import KMeans\n",
    "from sklearn.ensemble import RandomForestClassifier\n",
    "\n",
    "import seaborn as sns\n",
    "import matplotlib.pyplot as plt\n",
    "import numpy as np\n",
    "import pandas as pd\n"
   ]
  },
  {
   "cell_type": "markdown",
   "metadata": {},
   "source": [
    "## Processed dataset\n"
   ]
  },
  {
   "cell_type": "code",
   "execution_count": 2,
   "metadata": {},
   "outputs": [
    {
     "data": {
      "application/vnd.microsoft.datawrangler.viewer.v0+json": {
       "columns": [
        {
         "name": "index",
         "rawType": "int64",
         "type": "integer"
        },
        {
         "name": "x",
         "rawType": "object",
         "type": "string"
        },
        {
         "name": "y",
         "rawType": "float64",
         "type": "float"
        },
        {
         "name": "y_raw",
         "rawType": "float64",
         "type": "float"
        },
        {
         "name": "targets",
         "rawType": "object",
         "type": "string"
        },
        {
         "name": "smiles",
         "rawType": "object",
         "type": "string"
        },
        {
         "name": "fasta",
         "rawType": "object",
         "type": "string"
        }
       ],
       "conversionMethod": "pd.DataFrame",
       "ref": "9f91c950-b507-4562-a246-83eb7ee6c725",
       "rows": [
        [
         "0",
         "RNA1{[lna](T)[sp].[lna](G)[sp].[lna](G)[sp].[lna](C)[sp].d(A)[sp].d(A)[sp].d(G)[sp].d(C)[sp].d(A)[sp].d(T)[sp].d(C)[sp].d(C)[sp].[lna](T)[sp].[lna](G)[sp].[lna](T)[sp].[lna](A)}$$$$",
         "0.4168840164494639",
         "348.966481922972",
         "HIF1A",
         "Cc1cn([C@@H]2O[C@@]3(COP(=O)(S)O[C@H]4C[C@H](n5ccc(N)nc5=O)O[C@@H]4COP(=O)(S)O[C@H]4C[C@H](n5ccc(N)nc5=O)O[C@@H]4COP(=O)(S)O[C@H]4C[C@H](n5cc(C)c(=O)[nH]c5=O)O[C@@H]4COP(=O)(S)O[C@H]4C[C@H](n5cnc6c(N)ncnc65)O[C@@H]4COP(=O)(S)O[C@H]4C[C@H](n5ccc(N)nc5=O)O[C@@H]4COP(=O)(S)O[C@H]4C[C@H](n5cnc6c(=O)[nH]c(N)nc65)O[C@@H]4COP(=O)(S)O[C@H]4C[C@H](n5cnc6c(N)ncnc65)O[C@@H]4COP(=O)(S)O[C@H]4C[C@H](n5cnc6c(N)ncnc65)O[C@@H]4COP(=O)(S)O[C@H]4[C@H]5OC[C@]4(COP(=O)(S)O[C@H]4[C@H]6OC[C@]4(COP(=O)(S)O[C@H]4[C@H]7OC[C@]4(COP(=O)(S)O[C@H]4[C@H]8OC[C@]4(CO)O[C@H]8n4cc(C)c(=O)[nH]c4=O)O[C@H]7n4cnc7c(=O)[nH]c(N)nc74)O[C@H]6n4cnc6c(=O)[nH]c(N)nc64)O[C@H]5n4ccc(N)nc4=O)CO[C@@H]2[C@@H]3OP(=O)(S)OC[C@@]23CO[C@@H]([C@H](n4cnc5c(=O)[nH]c(N)nc54)O2)[C@@H]3OP(=O)(S)OC[C@@]23CO[C@@H]([C@H](n4cc(C)c(=O)[nH]c4=O)O2)[C@@H]3OP(=O)(S)OC[C@@]23CO[C@@H]([C@H](n4cnc5c(N)ncnc54)O2)[C@@H]3O)c(=O)[nH]c1=O",
         "TGGCAAGCATCCTGTA"
        ],
        [
         "1",
         "RNA1{[lna](T)[sp].[lna](G)[sp].[lna](G)[sp].[lna](C)[sp].[lna](A)[sp].d(A)[sp].d(G)[sp].d(C)[sp].d(A)[sp].d(T)[sp].d(C)[sp].[lna](C)[sp].[lna](T)[sp].[lna](G)[sp].[lna](T)[sp].[lna](A)}$$$$",
         "0.567015951178105",
         "444.7894401305418",
         "HIF1A",
         "Cc1cn([C@@H]2O[C@@]3(COP(=O)(S)O[C@H]4[C@H]5OC[C@]4(COP(=O)(S)O[C@H]4C[C@H](n6ccc(N)nc6=O)O[C@@H]4COP(=O)(S)O[C@H]4C[C@H](n6cc(C)c(=O)[nH]c6=O)O[C@@H]4COP(=O)(S)O[C@H]4C[C@H](n6cnc7c(N)ncnc76)O[C@@H]4COP(=O)(S)O[C@H]4C[C@H](n6ccc(N)nc6=O)O[C@@H]4COP(=O)(S)O[C@H]4C[C@H](n6cnc7c(=O)[nH]c(N)nc76)O[C@@H]4COP(=O)(S)O[C@H]4C[C@H](n6cnc7c(N)ncnc76)O[C@@H]4COP(=O)(S)O[C@H]4[C@H]6OC[C@]4(COP(=O)(S)O[C@H]4[C@H]7OC[C@]4(COP(=O)(S)O[C@H]4[C@H]8OC[C@]4(COP(=O)(S)O[C@H]4[C@H]9OC[C@]4(COP(=O)(S)O[C@H]4[C@H]%10OC[C@]4(CO)O[C@H]%10n4cc(C)c(=O)[nH]c4=O)O[C@H]9n4cnc9c(=O)[nH]c(N)nc94)O[C@H]8n4cnc8c(=O)[nH]c(N)nc84)O[C@H]7n4ccc(N)nc4=O)O[C@H]6n4cnc6c(N)ncnc64)O[C@H]5n4ccc(N)nc4=O)CO[C@@H]2[C@@H]3OP(=O)(S)OC[C@@]23CO[C@@H]([C@H](n4cnc5c(=O)[nH]c(N)nc54)O2)[C@@H]3OP(=O)(S)OC[C@@]23CO[C@@H]([C@H](n4cc(C)c(=O)[nH]c4=O)O2)[C@@H]3OP(=O)(S)OC[C@@]23CO[C@@H]([C@H](n4cnc5c(N)ncnc54)O2)[C@@H]3O)c(=O)[nH]c1=O",
         "TGGCAAGCATCCTGTA"
        ],
        [
         "2",
         "RNA1{[lna](T)[sp].[lna](G)[sp].[lna](G)[sp].[lna](C)[sp].d(A)[sp].d(A)[sp].d(G)[sp].d(C)[sp].d(A)[sp].d(T)[sp].d(C)[sp].[lna](C)[sp].[lna](T)[sp].[lna](G)[sp].[lna](T)[sp].[lna](A)}$$$$",
         "0.519096939179876",
         "414.2047314717626",
         "HIF1A",
         "Cc1cn([C@@H]2O[C@@]3(COP(=O)(S)O[C@H]4[C@H]5OC[C@]4(COP(=O)(S)O[C@H]4C[C@H](n6ccc(N)nc6=O)O[C@@H]4COP(=O)(S)O[C@H]4C[C@H](n6cc(C)c(=O)[nH]c6=O)O[C@@H]4COP(=O)(S)O[C@H]4C[C@H](n6cnc7c(N)ncnc76)O[C@@H]4COP(=O)(S)O[C@H]4C[C@H](n6ccc(N)nc6=O)O[C@@H]4COP(=O)(S)O[C@H]4C[C@H](n6cnc7c(=O)[nH]c(N)nc76)O[C@@H]4COP(=O)(S)O[C@H]4C[C@H](n6cnc7c(N)ncnc76)O[C@@H]4COP(=O)(S)O[C@H]4C[C@H](n6cnc7c(N)ncnc76)O[C@@H]4COP(=O)(S)O[C@H]4[C@H]6OC[C@]4(COP(=O)(S)O[C@H]4[C@H]7OC[C@]4(COP(=O)(S)O[C@H]4[C@H]8OC[C@]4(COP(=O)(S)O[C@H]4[C@H]9OC[C@]4(CO)O[C@H]9n4cc(C)c(=O)[nH]c4=O)O[C@H]8n4cnc8c(=O)[nH]c(N)nc84)O[C@H]7n4cnc7c(=O)[nH]c(N)nc74)O[C@H]6n4ccc(N)nc4=O)O[C@H]5n4ccc(N)nc4=O)CO[C@@H]2[C@@H]3OP(=O)(S)OC[C@@]23CO[C@@H]([C@H](n4cnc5c(=O)[nH]c(N)nc54)O2)[C@@H]3OP(=O)(S)OC[C@@]23CO[C@@H]([C@H](n4cc(C)c(=O)[nH]c4=O)O2)[C@@H]3OP(=O)(S)OC[C@@]23CO[C@@H]([C@H](n4cnc5c(N)ncnc54)O2)[C@@H]3O)c(=O)[nH]c1=O",
         "TGGCAAGCATCCTGTA"
        ],
        [
         "3",
         "RNA1{[lna](T)[sp].[lna](G)[sp].[lna](G)[sp].d(C)[sp].[lna](A)[sp].d(A)[sp].d(G)[sp].d(C)[sp].d(A)[sp].d(T)[sp].d(C)[sp].[lna](C)[sp].[lna](T)[sp].[lna](G)[sp].[lna](T)[sp].[lna](A)}$$$$",
         "0.7104374668820181",
         "536.3294174858098",
         "HIF1A",
         "Cc1cn([C@@H]2O[C@@]3(COP(=O)(S)O[C@H]4[C@H]5OC[C@]4(COP(=O)(S)O[C@H]4C[C@H](n6ccc(N)nc6=O)O[C@@H]4COP(=O)(S)O[C@H]4C[C@H](n6cc(C)c(=O)[nH]c6=O)O[C@@H]4COP(=O)(S)O[C@H]4C[C@H](n6cnc7c(N)ncnc76)O[C@@H]4COP(=O)(S)O[C@H]4C[C@H](n6ccc(N)nc6=O)O[C@@H]4COP(=O)(S)O[C@H]4C[C@H](n6cnc7c(=O)[nH]c(N)nc76)O[C@@H]4COP(=O)(S)O[C@H]4C[C@H](n6cnc7c(N)ncnc76)O[C@@H]4COP(=O)(S)O[C@H]4[C@H]6OC[C@]4(COP(=O)(S)O[C@H]4C[C@H](n7ccc(N)nc7=O)O[C@@H]4COP(=O)(S)O[C@H]4[C@H]7OC[C@]4(COP(=O)(S)O[C@H]4[C@H]8OC[C@]4(COP(=O)(S)O[C@H]4[C@H]9OC[C@]4(CO)O[C@H]9n4cc(C)c(=O)[nH]c4=O)O[C@H]8n4cnc8c(=O)[nH]c(N)nc84)O[C@H]7n4cnc7c(=O)[nH]c(N)nc74)O[C@H]6n4cnc6c(N)ncnc64)O[C@H]5n4ccc(N)nc4=O)CO[C@@H]2[C@@H]3OP(=O)(S)OC[C@@]23CO[C@@H]([C@H](n4cnc5c(=O)[nH]c(N)nc54)O2)[C@@H]3OP(=O)(S)OC[C@@]23CO[C@@H]([C@H](n4cc(C)c(=O)[nH]c4=O)O2)[C@@H]3OP(=O)(S)OC[C@@]23CO[C@@H]([C@H](n4cnc5c(N)ncnc54)O2)[C@@H]3O)c(=O)[nH]c1=O",
         "TGGCAAGCATCCTGTA"
        ],
        [
         "4",
         "RNA1{[lna](T)[sp].[lna](G)[sp].[lna](G)[sp].d(C)[sp].d(A)[sp].d(A)[sp].d(G)[sp].d(C)[sp].d(A)[sp].d(T)[sp].d(C)[sp].[lna](C)[sp].[lna](T)[sp].[lna](G)[sp].[lna](T)[sp].[lna](A)}$$$$",
         "0.6158227436461209",
         "475.9407820709585",
         "HIF1A",
         "Cc1cn([C@@H]2O[C@@]3(COP(=O)(S)O[C@H]4[C@H]5OC[C@]4(COP(=O)(S)O[C@H]4C[C@H](n6ccc(N)nc6=O)O[C@@H]4COP(=O)(S)O[C@H]4C[C@H](n6cc(C)c(=O)[nH]c6=O)O[C@@H]4COP(=O)(S)O[C@H]4C[C@H](n6cnc7c(N)ncnc76)O[C@@H]4COP(=O)(S)O[C@H]4C[C@H](n6ccc(N)nc6=O)O[C@@H]4COP(=O)(S)O[C@H]4C[C@H](n6cnc7c(=O)[nH]c(N)nc76)O[C@@H]4COP(=O)(S)O[C@H]4C[C@H](n6cnc7c(N)ncnc76)O[C@@H]4COP(=O)(S)O[C@H]4C[C@H](n6cnc7c(N)ncnc76)O[C@@H]4COP(=O)(S)O[C@H]4C[C@H](n6ccc(N)nc6=O)O[C@@H]4COP(=O)(S)O[C@H]4[C@H]6OC[C@]4(COP(=O)(S)O[C@H]4[C@H]7OC[C@]4(COP(=O)(S)O[C@H]4[C@H]8OC[C@]4(CO)O[C@H]8n4cc(C)c(=O)[nH]c4=O)O[C@H]7n4cnc7c(=O)[nH]c(N)nc74)O[C@H]6n4cnc6c(=O)[nH]c(N)nc64)O[C@H]5n4ccc(N)nc4=O)CO[C@@H]2[C@@H]3OP(=O)(S)OC[C@@]23CO[C@@H]([C@H](n4cnc5c(=O)[nH]c(N)nc54)O2)[C@@H]3OP(=O)(S)OC[C@@]23CO[C@@H]([C@H](n4cc(C)c(=O)[nH]c4=O)O2)[C@@H]3OP(=O)(S)OC[C@@]23CO[C@@H]([C@H](n4cnc5c(N)ncnc54)O2)[C@@H]3O)c(=O)[nH]c1=O",
         "TGGCAAGCATCCTGTA"
        ]
       ],
       "shape": {
        "columns": 6,
        "rows": 5
       }
      },
      "text/html": [
       "<div>\n",
       "<style scoped>\n",
       "    .dataframe tbody tr th:only-of-type {\n",
       "        vertical-align: middle;\n",
       "    }\n",
       "\n",
       "    .dataframe tbody tr th {\n",
       "        vertical-align: top;\n",
       "    }\n",
       "\n",
       "    .dataframe thead th {\n",
       "        text-align: right;\n",
       "    }\n",
       "</style>\n",
       "<table border=\"1\" class=\"dataframe\">\n",
       "  <thead>\n",
       "    <tr style=\"text-align: right;\">\n",
       "      <th></th>\n",
       "      <th>x</th>\n",
       "      <th>y</th>\n",
       "      <th>y_raw</th>\n",
       "      <th>targets</th>\n",
       "      <th>smiles</th>\n",
       "      <th>fasta</th>\n",
       "    </tr>\n",
       "  </thead>\n",
       "  <tbody>\n",
       "    <tr>\n",
       "      <th>0</th>\n",
       "      <td>RNA1{[lna](T)[sp].[lna](G)[sp].[lna](G)[sp].[l...</td>\n",
       "      <td>0.416884</td>\n",
       "      <td>348.966482</td>\n",
       "      <td>HIF1A</td>\n",
       "      <td>Cc1cn([C@@H]2O[C@@]3(COP(=O)(S)O[C@H]4C[C@H](n...</td>\n",
       "      <td>TGGCAAGCATCCTGTA</td>\n",
       "    </tr>\n",
       "    <tr>\n",
       "      <th>1</th>\n",
       "      <td>RNA1{[lna](T)[sp].[lna](G)[sp].[lna](G)[sp].[l...</td>\n",
       "      <td>0.567016</td>\n",
       "      <td>444.789440</td>\n",
       "      <td>HIF1A</td>\n",
       "      <td>Cc1cn([C@@H]2O[C@@]3(COP(=O)(S)O[C@H]4[C@H]5OC...</td>\n",
       "      <td>TGGCAAGCATCCTGTA</td>\n",
       "    </tr>\n",
       "    <tr>\n",
       "      <th>2</th>\n",
       "      <td>RNA1{[lna](T)[sp].[lna](G)[sp].[lna](G)[sp].[l...</td>\n",
       "      <td>0.519097</td>\n",
       "      <td>414.204731</td>\n",
       "      <td>HIF1A</td>\n",
       "      <td>Cc1cn([C@@H]2O[C@@]3(COP(=O)(S)O[C@H]4[C@H]5OC...</td>\n",
       "      <td>TGGCAAGCATCCTGTA</td>\n",
       "    </tr>\n",
       "    <tr>\n",
       "      <th>3</th>\n",
       "      <td>RNA1{[lna](T)[sp].[lna](G)[sp].[lna](G)[sp].d(...</td>\n",
       "      <td>0.710437</td>\n",
       "      <td>536.329417</td>\n",
       "      <td>HIF1A</td>\n",
       "      <td>Cc1cn([C@@H]2O[C@@]3(COP(=O)(S)O[C@H]4[C@H]5OC...</td>\n",
       "      <td>TGGCAAGCATCCTGTA</td>\n",
       "    </tr>\n",
       "    <tr>\n",
       "      <th>4</th>\n",
       "      <td>RNA1{[lna](T)[sp].[lna](G)[sp].[lna](G)[sp].d(...</td>\n",
       "      <td>0.615823</td>\n",
       "      <td>475.940782</td>\n",
       "      <td>HIF1A</td>\n",
       "      <td>Cc1cn([C@@H]2O[C@@]3(COP(=O)(S)O[C@H]4[C@H]5OC...</td>\n",
       "      <td>TGGCAAGCATCCTGTA</td>\n",
       "    </tr>\n",
       "  </tbody>\n",
       "</table>\n",
       "</div>"
      ],
      "text/plain": [
       "                                                   x         y       y_raw  \\\n",
       "0  RNA1{[lna](T)[sp].[lna](G)[sp].[lna](G)[sp].[l...  0.416884  348.966482   \n",
       "1  RNA1{[lna](T)[sp].[lna](G)[sp].[lna](G)[sp].[l...  0.567016  444.789440   \n",
       "2  RNA1{[lna](T)[sp].[lna](G)[sp].[lna](G)[sp].[l...  0.519097  414.204731   \n",
       "3  RNA1{[lna](T)[sp].[lna](G)[sp].[lna](G)[sp].d(...  0.710437  536.329417   \n",
       "4  RNA1{[lna](T)[sp].[lna](G)[sp].[lna](G)[sp].d(...  0.615823  475.940782   \n",
       "\n",
       "  targets                                             smiles             fasta  \n",
       "0   HIF1A  Cc1cn([C@@H]2O[C@@]3(COP(=O)(S)O[C@H]4C[C@H](n...  TGGCAAGCATCCTGTA  \n",
       "1   HIF1A  Cc1cn([C@@H]2O[C@@]3(COP(=O)(S)O[C@H]4[C@H]5OC...  TGGCAAGCATCCTGTA  \n",
       "2   HIF1A  Cc1cn([C@@H]2O[C@@]3(COP(=O)(S)O[C@H]4[C@H]5OC...  TGGCAAGCATCCTGTA  \n",
       "3   HIF1A  Cc1cn([C@@H]2O[C@@]3(COP(=O)(S)O[C@H]4[C@H]5OC...  TGGCAAGCATCCTGTA  \n",
       "4   HIF1A  Cc1cn([C@@H]2O[C@@]3(COP(=O)(S)O[C@H]4[C@H]5OC...  TGGCAAGCATCCTGTA  "
      ]
     },
     "execution_count": 2,
     "metadata": {},
     "output_type": "execute_result"
    }
   ],
   "source": [
    "downloader = DatasetDownloader()\n",
    "dataset = downloader.download(\"cytotox_lna\")\n",
    "dataset.data.head()"
   ]
  },
  {
   "cell_type": "markdown",
   "metadata": {},
   "source": [
    "## Features statistics"
   ]
  },
  {
   "cell_type": "code",
   "execution_count": 3,
   "metadata": {},
   "outputs": [
    {
     "data": {
      "application/vnd.microsoft.datawrangler.viewer.v0+json": {
       "columns": [
        {
         "name": "index",
         "rawType": "int64",
         "type": "integer"
        },
        {
         "name": "avg_nt_seq_len",
         "rawType": "float64",
         "type": "float"
        },
        {
         "name": "combined_unique_monomers",
         "rawType": "object",
         "type": "unknown"
        },
        {
         "name": "avg_GC_content",
         "rawType": "float64",
         "type": "float"
        },
        {
         "name": "avg_G_content",
         "rawType": "float64",
         "type": "float"
        },
        {
         "name": "avg_C_content",
         "rawType": "float64",
         "type": "float"
        },
        {
         "name": "avg_A_content",
         "rawType": "float64",
         "type": "float"
        },
        {
         "name": "avg_TU_content",
         "rawType": "float64",
         "type": "float"
        },
        {
         "name": "num_duplicates",
         "rawType": "int64",
         "type": "integer"
        }
       ],
       "conversionMethod": "pd.DataFrame",
       "ref": "0411bcf3-b5db-46c6-9aa4-af18c7ecf0a6",
       "rows": [
        [
         "0",
         "15.0",
         "['A', 'C', 'G', 'T', 'd', 'lna', 'sp']",
         "47.27564102564103",
         "17.948717948717945",
         "38.30128205128205",
         "18.589743589743588",
         "34.13461538461538",
         "0"
        ]
       ],
       "shape": {
        "columns": 8,
        "rows": 1
       }
      },
      "text/html": [
       "<div>\n",
       "<style scoped>\n",
       "    .dataframe tbody tr th:only-of-type {\n",
       "        vertical-align: middle;\n",
       "    }\n",
       "\n",
       "    .dataframe tbody tr th {\n",
       "        vertical-align: top;\n",
       "    }\n",
       "\n",
       "    .dataframe thead th {\n",
       "        text-align: right;\n",
       "    }\n",
       "</style>\n",
       "<table border=\"1\" class=\"dataframe\">\n",
       "  <thead>\n",
       "    <tr style=\"text-align: right;\">\n",
       "      <th></th>\n",
       "      <th>avg_nt_seq_len</th>\n",
       "      <th>combined_unique_monomers</th>\n",
       "      <th>avg_GC_content</th>\n",
       "      <th>avg_G_content</th>\n",
       "      <th>avg_C_content</th>\n",
       "      <th>avg_A_content</th>\n",
       "      <th>avg_TU_content</th>\n",
       "      <th>num_duplicates</th>\n",
       "    </tr>\n",
       "  </thead>\n",
       "  <tbody>\n",
       "    <tr>\n",
       "      <th>0</th>\n",
       "      <td>15.0</td>\n",
       "      <td>[A, C, G, T, d, lna, sp]</td>\n",
       "      <td>47.275641</td>\n",
       "      <td>17.948718</td>\n",
       "      <td>38.301282</td>\n",
       "      <td>18.589744</td>\n",
       "      <td>34.134615</td>\n",
       "      <td>0</td>\n",
       "    </tr>\n",
       "  </tbody>\n",
       "</table>\n",
       "</div>"
      ],
      "text/plain": [
       "   avg_nt_seq_len  combined_unique_monomers  avg_GC_content  avg_G_content  \\\n",
       "0            15.0  [A, C, G, T, d, lna, sp]       47.275641      17.948718   \n",
       "\n",
       "   avg_C_content  avg_A_content  avg_TU_content  num_duplicates  \n",
       "0      38.301282      18.589744       34.134615               0  "
      ]
     },
     "execution_count": 3,
     "metadata": {},
     "output_type": "execute_result"
    }
   ],
   "source": [
    "dataset.get_helm_stats()"
   ]
  },
  {
   "cell_type": "code",
   "execution_count": 4,
   "metadata": {},
   "outputs": [
    {
     "name": "stdout",
     "output_type": "stream",
     "text": [
      "Unique base sequences in the dataset\n",
      "------------------------------------\n",
      "C.A.A.G.C.A.T.C.C.T.G.T.A\n",
      "T.G.G.C.A.A.G.C.A.T.C.C.T\n",
      "A.C.T.G.C.C.T.T.C.T.T.A.C\n",
      "T.T.A.C.T.G.C.C.T.T.C.T.T\n",
      "G.T.T.A.C.T.G.C.C.T.T.C.T\n",
      "T.G.G.C.A.A.G.C.A.T.C.C.T.G.T.A\n",
      "T.A.C.T.G.C.C.T.T.C.T.T.A\n",
      "G.T.T.A.C.T.G.C.C.T.T.C.T.T.A.C\n",
      "G.C.A.A.G.C.A.T.C.C.T.G.T\n",
      "G.G.C.A.A.G.C.A.T.C.C.T.G\n"
     ]
    }
   ],
   "source": [
    "print('Unique base sequences in the dataset')\n",
    "print('------------------------------------')\n",
    "\n",
    "unique_base_sequences=list(set([helm2xna(i).polymers['RNA1']['base'] for i in dataset.x]))\n",
    "for i in unique_base_sequences:\n",
    "    print(i)"
   ]
  },
  {
   "cell_type": "markdown",
   "metadata": {},
   "source": [
    "This dataset contains only a few unique base sequences, with most of the differences between compounds coming from the sugar modication patterns"
   ]
  },
  {
   "cell_type": "code",
   "execution_count": 5,
   "metadata": {},
   "outputs": [
    {
     "name": "stdout",
     "output_type": "stream",
     "text": [
      "There are 288 unique sugar pattern in the dataset.\n"
     ]
    }
   ],
   "source": [
    "number_of_unique_LNA_patterns = len(set([helm2xna(i).polymers['RNA1']['sugar'] for i in dataset.x]))\n",
    "print(f\"There are {number_of_unique_LNA_patterns} unique sugar pattern in the dataset.\")"
   ]
  },
  {
   "cell_type": "markdown",
   "metadata": {},
   "source": [
    "For this dataset we use a one-hot encoder to display the molecular space, since k-mers would not capture the differences between compounds."
   ]
  },
  {
   "cell_type": "code",
   "execution_count": 6,
   "metadata": {},
   "outputs": [
    {
     "data": {
      "image/png": "[encoded data removed]",
      "text/plain": [
       "<Figure size 640x480 with 1 Axes>"
      ]
     },
     "metadata": {},
     "output_type": "display_data"
    }
   ],
   "source": [
    "X_train, X_test, y_train, y_test = dataset.split(split_strategy=\"random\", random_state=42)\n",
    "cosine_dist_nucleobase = get_cosine_dist_to_nearest_neighbor(X_train, X_test)\n",
    "\n",
    "featurizer = OneHotEncoder(encode_components=['sugar'])\n",
    "X_train = featurizer.fit_transform(X_train)\n",
    "X_test = featurizer.transform(X_test)\n",
    "\n",
    "pca = PCA(n_components=2)\n",
    "X_train_pca = pca.fit_transform(X_train.reshape(len(X_train), -1))\n",
    "X_test_pca = pca.transform(X_test.reshape(len(X_test), -1))\n",
    "\n",
    "fig, ax = plt.subplots()\n",
    "sns.scatterplot(x=X_train_pca[:, 0], y=X_train_pca[:, 1], ax=ax, color='blue', label='Train')\n",
    "sns.scatterplot(x=X_test_pca[:, 0], y=X_test_pca[:, 1], ax=ax, color='red', label='Test')\n",
    "\n",
    "ax.set_title('PCA of X_train and X_test (random split)')\n",
    "ax.set_xlabel('Principal Component 1')\n",
    "ax.set_ylabel('Principal Component 2')\n",
    "ax.legend()\n",
    "\n",
    "plt.show()"
   ]
  },
  {
   "cell_type": "markdown",
   "metadata": {},
   "source": [
    "Due to the nature of the dataset, a clustering analysis is not relevant.\n"
   ]
  },
  {
   "cell_type": "markdown",
   "metadata": {},
   "source": [
    "## Labels statistics"
   ]
  },
  {
   "cell_type": "code",
   "execution_count": 7,
   "metadata": {},
   "outputs": [
    {
     "data": {
      "application/vnd.microsoft.datawrangler.viewer.v0+json": {
       "columns": [
        {
         "name": "index",
         "rawType": "int64",
         "type": "integer"
        },
        {
         "name": "nobs",
         "rawType": "int64",
         "type": "integer"
        },
        {
         "name": "minmax",
         "rawType": "object",
         "type": "unknown"
        },
        {
         "name": "mean",
         "rawType": "float64",
         "type": "float"
        },
        {
         "name": "variance",
         "rawType": "float64",
         "type": "float"
        },
        {
         "name": "skewness",
         "rawType": "float64",
         "type": "float"
        },
        {
         "name": "kurtosis",
         "rawType": "float64",
         "type": "float"
        },
        {
         "name": "num_zeros",
         "rawType": "int64",
         "type": "integer"
        }
       ],
       "conversionMethod": "pd.DataFrame",
       "ref": "633fc7cc-7f9e-4590-9802-078698375de2",
       "rows": [
        [
         "0",
         "768",
         "(0.0, 1.0)",
         "0.3176917773064663",
         "0.043718245522004706",
         "0.5187535036346707",
         "-0.5006465033073204",
         "1"
        ]
       ],
       "shape": {
        "columns": 7,
        "rows": 1
       }
      },
      "text/html": [
       "<div>\n",
       "<style scoped>\n",
       "    .dataframe tbody tr th:only-of-type {\n",
       "        vertical-align: middle;\n",
       "    }\n",
       "\n",
       "    .dataframe tbody tr th {\n",
       "        vertical-align: top;\n",
       "    }\n",
       "\n",
       "    .dataframe thead th {\n",
       "        text-align: right;\n",
       "    }\n",
       "</style>\n",
       "<table border=\"1\" class=\"dataframe\">\n",
       "  <thead>\n",
       "    <tr style=\"text-align: right;\">\n",
       "      <th></th>\n",
       "      <th>nobs</th>\n",
       "      <th>minmax</th>\n",
       "      <th>mean</th>\n",
       "      <th>variance</th>\n",
       "      <th>skewness</th>\n",
       "      <th>kurtosis</th>\n",
       "      <th>num_zeros</th>\n",
       "    </tr>\n",
       "  </thead>\n",
       "  <tbody>\n",
       "    <tr>\n",
       "      <th>0</th>\n",
       "      <td>768</td>\n",
       "      <td>(0.0, 1.0)</td>\n",
       "      <td>0.317692</td>\n",
       "      <td>0.043718</td>\n",
       "      <td>0.518754</td>\n",
       "      <td>-0.500647</td>\n",
       "      <td>1</td>\n",
       "    </tr>\n",
       "  </tbody>\n",
       "</table>\n",
       "</div>"
      ],
      "text/plain": [
       "   nobs      minmax      mean  variance  skewness  kurtosis  num_zeros\n",
       "0   768  (0.0, 1.0)  0.317692  0.043718  0.518754 -0.500647          1"
      ]
     },
     "execution_count": 7,
     "metadata": {},
     "output_type": "execute_result"
    }
   ],
   "source": [
    "dataset.get_label_stats()"
   ]
  },
  {
   "cell_type": "code",
   "execution_count": 8,
   "metadata": {},
   "outputs": [
    {
     "name": "stdout",
     "output_type": "stream",
     "text": [
      "0 datapoints are identified as outliers by IQR method\n"
     ]
    }
   ],
   "source": [
    "print(f\"{len(get_outliers(dataset.y))} datapoints are identified as outliers by IQR method\")"
   ]
  },
  {
   "cell_type": "code",
   "execution_count": 9,
   "metadata": {},
   "outputs": [
    {
     "data": {
      "image/png": "[encoded data removed]",
      "text/plain": [
       "<Figure size 1000x400 with 2 Axes>"
      ]
     },
     "metadata": {},
     "output_type": "display_data"
    }
   ],
   "source": [
    "fig, axs = plt.subplots(1, 2, figsize=(10, 4))\n",
    "\n",
    "sns.histplot(dataset.y, ax=axs[0], color='blue', kde=True, bins=100)\n",
    "axs[0].set_title('Histogram of labels')\n",
    "axs[0].set_xlabel('Average caspase induction score')\n",
    "axs[0].set_ylabel('Frequency')\n",
    "\n",
    "sns.boxplot(x=dataset.y, ax=axs[1], color='blue')\n",
    "axs[1].set_title('Box plot of labels')\n",
    "axs[1].set_xlabel('Average caspase induction score')\n",
    "\n",
    "plt.tight_layout()\n",
    "plt.show()"
   ]
  },
  {
   "cell_type": "code",
   "execution_count": 10,
   "metadata": {},
   "outputs": [
    {
     "name": "stdout",
     "output_type": "stream",
     "text": [
      "Max raw caspase score: 721.1451168211564\n",
      "Min raw caspase score: 82.88678503607098\n"
     ]
    }
   ],
   "source": [
    "print(f\"Max raw caspase score: {dataset.data.y_raw.max()}\")\n",
    "print(f\"Min raw caspase score: {dataset.data.y_raw.min()}\")"
   ]
  },
  {
   "cell_type": "markdown",
   "metadata": {},
   "source": [
    "# Predictability analysis"
   ]
  },
  {
   "cell_type": "code",
   "execution_count": 11,
   "metadata": {},
   "outputs": [
    {
     "name": "stdout",
     "output_type": "stream",
     "text": [
      "{'r2_score': 0.9741553552495392, 'root_mean_squared_error': 0.03338632858268826, 'mean_absolute_error': 0.02316860902823625, 'pearson_correlation': 0.9879547663069161, 'spearman_correlation': 0.9895122638118955}\n",
      "{'r2_score': 0.8047430692356106, 'root_mean_squared_error': 0.09441042476473922, 'mean_absolute_error': 0.06764846446999771, 'pearson_correlation': 0.8994698132285939, 'spearman_correlation': 0.9002669689576711}\n"
     ]
    }
   ],
   "source": [
    "X_train, X_test, y_train, y_test = dataset.split(split_strategy=\"random\", random_state=42)\n",
    "featurizer = OneHotEncoder()\n",
    "X_train = featurizer.fit_transform(X_train)\n",
    "X_test = featurizer.transform(X_test)\n",
    "\n",
    "model = RandomForestModel(task=\"regression\")\n",
    "model.fit(X_train, y_train)\n",
    "y_pred = model.predict(X_test)\n",
    "y_pred_train = model.predict(X_train)\n",
    "metrics_train = regression_metrics(y_train, y_pred_train)\n",
    "metrics = regression_metrics(y_test, y_pred)\n",
    "print(metrics_train)\n",
    "print(metrics)\n"
   ]
  },
  {
   "cell_type": "markdown",
   "metadata": {},
   "source": [
    "## Recommendation for dataset\n",
    "\n",
    "The original study (https://doi.org/10.1016/j.omtn.2019.12.011) wanted to investigate the effect of varying position of LNA modification to the toxicity and potency of ASO gapmer. Therefore the nucleobase sequences were kept mostly the same, focusing on particular regions in the HIF1A gene. Therefore a backbone or random based splitting strategy is recommended. However a model trained on this dataset would most likely generalize quite poorly to new sequences. **Its use as part of a predictor for designing new gapmer where the LNA designs are kept mostly the same is therefore not recommended.** \n",
    "\n",
    "The caspase induction score seems well distributed with no obvious outliers. Although, the raw score have an unsual scale with minimum around 80 and maximum around 700, therefore a minmax-scaled score is recommended as task label, especially for better convergence of neural network model."
   ]
  }
 ],
 "metadata": {
  "kernelspec": {
   "display_name": ".venv",
   "language": "python",
   "name": "python3"
  },
  "language_info": {
   "codemirror_mode": {
    "name": "ipython",
    "version": 3
   },
   "file_extension": ".py",
   "mimetype": "text/x-python",
   "name": "python",
   "nbconvert_exporter": "python",
   "pygments_lexer": "ipython3",
   "version": "3.11.4"
  }
 },
 "nbformat": 4,
 "nbformat_minor": 2
}
