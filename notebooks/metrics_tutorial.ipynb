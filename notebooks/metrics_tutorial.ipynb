{
 "cells": [
  {
   "cell_type": "markdown",
   "metadata": {},
   "source": [
    "# Working with different metrics in OligoGym\n",
    "\n",
    "The OligoGym metrics module provide several common metrics (mostly inherited from sklearn and scipy) to evaluate regression and classification models. It also provide custom function to automatically calculate several metrics silmutaneously. ```selection_metrics``` in particular, calculate a set of metrics that reflect selection of compounds through ranking of regression score or digitization of the score into discrete classes as common with toxicity readouts. This notebook provide examples of the type of metrics availble in the metrics module."
   ]
  },
  {
   "cell_type": "code",
   "execution_count": 1,
   "metadata": {},
   "outputs": [],
   "source": [
    "from oligogym.data import DatasetDownloader\n",
    "from oligogym.models import XGBoostModel\n",
    "from oligogym.features import KMersCounts\n",
    "from oligogym import metrics\n",
    "\n",
    "import seaborn as sns\n",
    "import matplotlib.pyplot as plt"
   ]
  },
  {
   "cell_type": "code",
   "execution_count": 2,
   "metadata": {},
   "outputs": [],
   "source": [
    "downloader = DatasetDownloader()"
   ]
  },
  {
   "cell_type": "markdown",
   "metadata": {},
   "source": [
    "## Evaluate regression model with siRNA potency data"
   ]
  },
  {
   "cell_type": "code",
   "execution_count": 3,
   "metadata": {},
   "outputs": [
    {
     "name": "stdout",
     "output_type": "stream",
     "text": [
      "Dataset 'Ichihara_2007_1' has been successfully downloaded.\n",
      "A precurated collection of unmodified siRNA potency data. The dataset can be split into two. Ichihara_2007_1 is a dataset from Huesken_2005 of siRNA screen using GFP reporter assay.\n"
     ]
    },
    {
     "data": {
      "text/html": [
       "<div>\n",
       "<style scoped>\n",
       "    .dataframe tbody tr th:only-of-type {\n",
       "        vertical-align: middle;\n",
       "    }\n",
       "\n",
       "    .dataframe tbody tr th {\n",
       "        vertical-align: top;\n",
       "    }\n",
       "\n",
       "    .dataframe thead th {\n",
       "        text-align: right;\n",
       "    }\n",
       "</style>\n",
       "<table border=\"1\" class=\"dataframe\">\n",
       "  <thead>\n",
       "    <tr style=\"text-align: right;\">\n",
       "      <th></th>\n",
       "      <th>x</th>\n",
       "      <th>y</th>\n",
       "      <th>y_raw</th>\n",
       "      <th>targets</th>\n",
       "      <th>smiles</th>\n",
       "      <th>fasta</th>\n",
       "    </tr>\n",
       "  </thead>\n",
       "  <tbody>\n",
       "    <tr>\n",
       "      <th>0</th>\n",
       "      <td>RNA1{r(A)p.r(A)p.r(A)p.r(U)p.r(C)p.r(A)p.r(A)p...</td>\n",
       "      <td>46.2</td>\n",
       "      <td>46.2</td>\n",
       "      <td>RHOQ</td>\n",
       "      <td>Cc1cn([C@H]2C[C@H](O)[C@@H](COP(=O)(O)O[C@H]3C...</td>\n",
       "      <td>AAAUCAAUUAACAUAUUAG.CUAAUAUGUUAAUUGAUUUAU</td>\n",
       "    </tr>\n",
       "    <tr>\n",
       "      <th>1</th>\n",
       "      <td>RNA1{r(A)p.r(U)p.r(A)p.r(A)p.r(A)p.r(U)p.r(C)p...</td>\n",
       "      <td>38.4</td>\n",
       "      <td>38.4</td>\n",
       "      <td>RHOQ</td>\n",
       "      <td>Cc1cn([C@H]2C[C@H](OP(=O)(O)OC[C@H]3O[C@@H](n4...</td>\n",
       "      <td>AUAAAUCAAUUAACAUAUU.AAUAUGUUAAUUGAUUUAUAC</td>\n",
       "    </tr>\n",
       "    <tr>\n",
       "      <th>2</th>\n",
       "      <td>RNA1{r(G)p.r(A)p.r(A)p.r(A)p.r(G)p.r(G)p.r(A)p...</td>\n",
       "      <td>51.4</td>\n",
       "      <td>51.4</td>\n",
       "      <td>RHOQ</td>\n",
       "      <td>Cc1cn([C@H]2C[C@H](OP(=O)(O)OC[C@H]3O[C@@H](n4...</td>\n",
       "      <td>GAAAGGAAUUGUAUAAAUC.GAUUUAUACAAUUCCUUUCAA</td>\n",
       "    </tr>\n",
       "    <tr>\n",
       "      <th>3</th>\n",
       "      <td>RNA1{r(A)p.r(U)p.r(A)p.r(A)p.r(A)p.r(A)p.r(U)p...</td>\n",
       "      <td>36.4</td>\n",
       "      <td>36.4</td>\n",
       "      <td>RHOQ</td>\n",
       "      <td>Cc1cn([C@H]2C[C@H](O)[C@@H](COP(=O)(O)O[C@H]3C...</td>\n",
       "      <td>AUAAAAUUGAAAGGAAUUG.CAAUUCCUUUCAAUUUUAUCU</td>\n",
       "    </tr>\n",
       "    <tr>\n",
       "      <th>4</th>\n",
       "      <td>RNA1{r(C)p.r(U)p.r(U)p.r(A)p.r(U)p.r(U)p.r(U)p...</td>\n",
       "      <td>52.2</td>\n",
       "      <td>52.2</td>\n",
       "      <td>RHOQ</td>\n",
       "      <td>Cc1cn([C@H]2C[C@H](OP(=O)(O)OC[C@H]3O[C@@H](n4...</td>\n",
       "      <td>CUUAUUUAAUUUUGGUCUG.CAGACCAAAAUUAAAUAAGAA</td>\n",
       "    </tr>\n",
       "  </tbody>\n",
       "</table>\n",
       "</div>"
      ],
      "text/plain": [
       "                                                   x     y  y_raw targets  \\\n",
       "0  RNA1{r(A)p.r(A)p.r(A)p.r(U)p.r(C)p.r(A)p.r(A)p...  46.2   46.2    RHOQ   \n",
       "1  RNA1{r(A)p.r(U)p.r(A)p.r(A)p.r(A)p.r(U)p.r(C)p...  38.4   38.4    RHOQ   \n",
       "2  RNA1{r(G)p.r(A)p.r(A)p.r(A)p.r(G)p.r(G)p.r(A)p...  51.4   51.4    RHOQ   \n",
       "3  RNA1{r(A)p.r(U)p.r(A)p.r(A)p.r(A)p.r(A)p.r(U)p...  36.4   36.4    RHOQ   \n",
       "4  RNA1{r(C)p.r(U)p.r(U)p.r(A)p.r(U)p.r(U)p.r(U)p...  52.2   52.2    RHOQ   \n",
       "\n",
       "                                              smiles  \\\n",
       "0  Cc1cn([C@H]2C[C@H](O)[C@@H](COP(=O)(O)O[C@H]3C...   \n",
       "1  Cc1cn([C@H]2C[C@H](OP(=O)(O)OC[C@H]3O[C@@H](n4...   \n",
       "2  Cc1cn([C@H]2C[C@H](OP(=O)(O)OC[C@H]3O[C@@H](n4...   \n",
       "3  Cc1cn([C@H]2C[C@H](O)[C@@H](COP(=O)(O)O[C@H]3C...   \n",
       "4  Cc1cn([C@H]2C[C@H](OP(=O)(O)OC[C@H]3O[C@@H](n4...   \n",
       "\n",
       "                                       fasta  \n",
       "0  AAAUCAAUUAACAUAUUAG.CUAAUAUGUUAAUUGAUUUAU  \n",
       "1  AUAAAUCAAUUAACAUAUU.AAUAUGUUAAUUGAUUUAUAC  \n",
       "2  GAAAGGAAUUGUAUAAAUC.GAUUUAUACAAUUCCUUUCAA  \n",
       "3  AUAAAAUUGAAAGGAAUUG.CAAUUCCUUUCAAUUUUAUCU  \n",
       "4  CUUAUUUAAUUUUGGUCUG.CAGACCAAAAUUAAAUAAGAA  "
      ]
     },
     "execution_count": 3,
     "metadata": {},
     "output_type": "execute_result"
    }
   ],
   "source": [
    "data = downloader.download('siRNA1',verbose=1)\n",
    "print(data.desc)\n",
    "data.data.head()"
   ]
  },
  {
   "cell_type": "code",
   "execution_count": 4,
   "metadata": {},
   "outputs": [],
   "source": [
    "x_train, x_test, y_train, y_test = data.split(split_strategy='random')\n",
    "feat = KMersCounts(k=[1,2,3],modification_abundance=True)\n",
    "feat_x_train = feat.fit_transform(x_train)\n",
    "feat_x_test = feat.transform(x_test)"
   ]
  },
  {
   "cell_type": "code",
   "execution_count": 5,
   "metadata": {},
   "outputs": [],
   "source": [
    "model = XGBoostModel()\n",
    "model.fit(feat_x_train, y_train)\n",
    "y_pred = model.predict(feat_x_test)"
   ]
  },
  {
   "cell_type": "code",
   "execution_count": 6,
   "metadata": {},
   "outputs": [
    {
     "data": {
      "text/plain": [
       "{'r2_score': 0.38794478251680786,\n",
       " 'root_mean_squared_error': 16.079482330511706,\n",
       " 'mean_absolute_error': 12.812271296757691,\n",
       " 'pearson_correlation': 0.6235600734103589,\n",
       " 'spearman_correlation': 0.6292656680524044}"
      ]
     },
     "execution_count": 6,
     "metadata": {},
     "output_type": "execute_result"
    }
   ],
   "source": [
    "metrics.regression_metrics(y_test,y_pred)"
   ]
  },
  {
   "cell_type": "code",
   "execution_count": null,
   "metadata": {},
   "outputs": [],
   "source": []
  }
 ],
 "metadata": {
  "kernelspec": {
   "display_name": "oligogym",
   "language": "python",
   "name": "python3"
  },
  "language_info": {
   "codemirror_mode": {
    "name": "ipython",
    "version": 3
   },
   "file_extension": ".py",
   "mimetype": "text/x-python",
   "name": "python",
   "nbconvert_exporter": "python",
   "pygments_lexer": "ipython3",
   "version": "3.10.16"
  }
 },
 "nbformat": 4,
 "nbformat_minor": 2
}
