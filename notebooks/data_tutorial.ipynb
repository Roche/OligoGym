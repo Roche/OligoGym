{
 "cells": [
  {
   "cell_type": "markdown",
   "metadata": {},
   "source": [
    "# Working with Dataset object in OligoGym\n",
    "\n",
    "The OligoGym.data module several custom classes for working with oligonucleotide datasets.\n"
   ]
  },
  {
   "cell_type": "code",
   "execution_count": 1,
   "metadata": {},
   "outputs": [],
   "source": [
    "import pandas as pd\n",
    "import json\n",
    "\n",
    "from oligogym.data import Dataset, DatasetDownloader"
   ]
  },
  {
   "cell_type": "markdown",
   "metadata": {},
   "source": [
    "## Working with your own dataset"
   ]
  },
  {
   "cell_type": "code",
   "execution_count": 2,
   "metadata": {},
   "outputs": [
    {
     "data": {
      "application/vnd.microsoft.datawrangler.viewer.v0+json": {
       "columns": [
        {
         "name": "index",
         "rawType": "int64",
         "type": "integer"
        },
        {
         "name": "x",
         "rawType": "object",
         "type": "string"
        },
        {
         "name": "y",
         "rawType": "float64",
         "type": "float"
        },
        {
         "name": "targets",
         "rawType": "object",
         "type": "string"
        }
       ],
       "conversionMethod": "pd.DataFrame",
       "ref": "4f48238c-7c20-40c7-be74-ed645469b2e1",
       "rows": [
        [
         "0",
         "RNA1{r(A)p.r(A)p.r(A)p.r(U)p.r(C)p.r(A)p.r(A)p.r(U)p.r(U)p.r(A)p.r(A)p.r(C)p.r(A)p.r(U)p.r(A)p.r(U)p.r(U)p.r(A)p.r(G)p.d(T)p.d(T)}|RNA2{r(C)p.r(U)p.r(A)p.r(A)p.r(U)p.r(A)p.r(U)p.r(G)p.r(U)p.r(U)p.r(A)p.r(A)p.r(U)p.r(U)p.r(G)p.r(A)p.r(U)p.r(U)p.r(U)p.d(A)p.d(T)}$$$RNA1{StrandType:ss}|RNA2{StrandType:as}$",
         "46.2",
         "BD135193"
        ],
        [
         "1",
         "RNA1{r(A)p.r(U)p.r(A)p.r(A)p.r(A)p.r(U)p.r(C)p.r(A)p.r(A)p.r(U)p.r(U)p.r(A)p.r(A)p.r(C)p.r(A)p.r(U)p.r(A)p.r(U)p.r(U)p.d(T)p.d(T)}|RNA2{r(A)p.r(A)p.r(U)p.r(A)p.r(U)p.r(G)p.r(U)p.r(U)p.r(A)p.r(A)p.r(U)p.r(U)p.r(G)p.r(A)p.r(U)p.r(U)p.r(U)p.r(A)p.r(U)p.d(A)p.d(C)}$$$RNA1{StrandType:ss}|RNA2{StrandType:as}$",
         "38.4",
         "BD135193"
        ],
        [
         "2",
         "RNA1{r(G)p.r(A)p.r(A)p.r(A)p.r(G)p.r(G)p.r(A)p.r(A)p.r(U)p.r(U)p.r(G)p.r(U)p.r(A)p.r(U)p.r(A)p.r(A)p.r(A)p.r(U)p.r(C)p.d(T)p.d(T)}|RNA2{r(G)p.r(A)p.r(U)p.r(U)p.r(U)p.r(A)p.r(U)p.r(A)p.r(C)p.r(A)p.r(A)p.r(U)p.r(U)p.r(C)p.r(C)p.r(U)p.r(U)p.r(U)p.r(C)p.d(A)p.d(A)}$$$RNA1{StrandType:ss}|RNA2{StrandType:as}$",
         "51.4",
         "BD135193"
        ],
        [
         "3",
         "RNA1{r(A)p.r(U)p.r(A)p.r(A)p.r(A)p.r(A)p.r(U)p.r(U)p.r(G)p.r(A)p.r(A)p.r(A)p.r(G)p.r(G)p.r(A)p.r(A)p.r(U)p.r(U)p.r(G)p.d(T)p.d(T)}|RNA2{r(C)p.r(A)p.r(A)p.r(U)p.r(U)p.r(C)p.r(C)p.r(U)p.r(U)p.r(U)p.r(C)p.r(A)p.r(A)p.r(U)p.r(U)p.r(U)p.r(U)p.r(A)p.r(U)p.d(C)p.d(T)}$$$RNA1{StrandType:ss}|RNA2{StrandType:as}$",
         "36.4",
         "BD135193"
        ],
        [
         "4",
         "RNA1{r(C)p.r(U)p.r(U)p.r(A)p.r(U)p.r(U)p.r(U)p.r(A)p.r(A)p.r(U)p.r(U)p.r(U)p.r(U)p.r(G)p.r(G)p.r(U)p.r(C)p.r(U)p.r(G)p.d(T)p.d(T)}|RNA2{r(C)p.r(A)p.r(G)p.r(A)p.r(C)p.r(C)p.r(A)p.r(A)p.r(A)p.r(A)p.r(U)p.r(U)p.r(A)p.r(A)p.r(A)p.r(U)p.r(A)p.r(A)p.r(G)p.d(A)p.d(A)}$$$RNA1{StrandType:ss}|RNA2{StrandType:as}$",
         "52.2",
         "BD135193"
        ]
       ],
       "shape": {
        "columns": 3,
        "rows": 5
       }
      },
      "text/html": [
       "<div>\n",
       "<style scoped>\n",
       "    .dataframe tbody tr th:only-of-type {\n",
       "        vertical-align: middle;\n",
       "    }\n",
       "\n",
       "    .dataframe tbody tr th {\n",
       "        vertical-align: top;\n",
       "    }\n",
       "\n",
       "    .dataframe thead th {\n",
       "        text-align: right;\n",
       "    }\n",
       "</style>\n",
       "<table border=\"1\" class=\"dataframe\">\n",
       "  <thead>\n",
       "    <tr style=\"text-align: right;\">\n",
       "      <th></th>\n",
       "      <th>x</th>\n",
       "      <th>y</th>\n",
       "      <th>targets</th>\n",
       "    </tr>\n",
       "  </thead>\n",
       "  <tbody>\n",
       "    <tr>\n",
       "      <th>0</th>\n",
       "      <td>RNA1{r(A)p.r(A)p.r(A)p.r(U)p.r(C)p.r(A)p.r(A)p...</td>\n",
       "      <td>46.2</td>\n",
       "      <td>BD135193</td>\n",
       "    </tr>\n",
       "    <tr>\n",
       "      <th>1</th>\n",
       "      <td>RNA1{r(A)p.r(U)p.r(A)p.r(A)p.r(A)p.r(U)p.r(C)p...</td>\n",
       "      <td>38.4</td>\n",
       "      <td>BD135193</td>\n",
       "    </tr>\n",
       "    <tr>\n",
       "      <th>2</th>\n",
       "      <td>RNA1{r(G)p.r(A)p.r(A)p.r(A)p.r(G)p.r(G)p.r(A)p...</td>\n",
       "      <td>51.4</td>\n",
       "      <td>BD135193</td>\n",
       "    </tr>\n",
       "    <tr>\n",
       "      <th>3</th>\n",
       "      <td>RNA1{r(A)p.r(U)p.r(A)p.r(A)p.r(A)p.r(A)p.r(U)p...</td>\n",
       "      <td>36.4</td>\n",
       "      <td>BD135193</td>\n",
       "    </tr>\n",
       "    <tr>\n",
       "      <th>4</th>\n",
       "      <td>RNA1{r(C)p.r(U)p.r(U)p.r(A)p.r(U)p.r(U)p.r(U)p...</td>\n",
       "      <td>52.2</td>\n",
       "      <td>BD135193</td>\n",
       "    </tr>\n",
       "  </tbody>\n",
       "</table>\n",
       "</div>"
      ],
      "text/plain": [
       "                                                   x     y   targets\n",
       "0  RNA1{r(A)p.r(A)p.r(A)p.r(U)p.r(C)p.r(A)p.r(A)p...  46.2  BD135193\n",
       "1  RNA1{r(A)p.r(U)p.r(A)p.r(A)p.r(A)p.r(U)p.r(C)p...  38.4  BD135193\n",
       "2  RNA1{r(G)p.r(A)p.r(A)p.r(A)p.r(G)p.r(G)p.r(A)p...  51.4  BD135193\n",
       "3  RNA1{r(A)p.r(U)p.r(A)p.r(A)p.r(A)p.r(A)p.r(U)p...  36.4  BD135193\n",
       "4  RNA1{r(C)p.r(U)p.r(U)p.r(A)p.r(U)p.r(U)p.r(U)p...  52.2  BD135193"
      ]
     },
     "execution_count": 2,
     "metadata": {},
     "output_type": "execute_result"
    }
   ],
   "source": [
    "example_data = pd.read_csv('../data/example_data.csv')\n",
    "example_data.head()"
   ]
  },
  {
   "cell_type": "code",
   "execution_count": 3,
   "metadata": {},
   "outputs": [],
   "source": [
    "x = example_data.x\n",
    "y = example_data.y\n",
    "targets = example_data.targets"
   ]
  },
  {
   "cell_type": "code",
   "execution_count": 4,
   "metadata": {},
   "outputs": [
    {
     "data": {
      "text/plain": [
       "{'name': 'Ichihara_2007_1',\n",
       " 'desc': 'A precurated collection of unmodified siRNA potency data. The dataset can be split into two. Ichihara_2007_1 is a dataset from Huesken_2005 of siRNA screen using GFP reporter assay.',\n",
       " 'modality': 'siRNA',\n",
       " 'size': 2431,\n",
       " 'label_desc': 'Percentage inhibition relative to control using an eCFP-eYFP dual reporter assay.',\n",
       " 'model_system': 'In vitro',\n",
       " 'collection': 'Potency',\n",
       " 'num_targets': 30,\n",
       " 'task': 'Regression',\n",
       " 'rec_split': 'Nucleobase',\n",
       " 'rec_metric': 'Spearmanr',\n",
       " 'featurizers': ['OneHotEncoder', 'KMerCounts'],\n",
       " 'source': 'https://doi.org/10.1093/nar/gkm699'}"
      ]
     },
     "execution_count": 4,
     "metadata": {},
     "output_type": "execute_result"
    }
   ],
   "source": [
    "f = open('../data/example_data.json')\n",
    "example_json = json.load(f)\n",
    "example_json"
   ]
  },
  {
   "cell_type": "markdown",
   "metadata": {},
   "source": [
    "### Building Dataset() object\n",
    "\n",
    "* you can simply build a dataset by first creating a Dataset object on your json file. This can either be a path to the json file or a dictionary\n",
    "* the Dataset object read the content in the json file and store it as attribute\n",
    "* you can call build(x,y,targets) to store the information in the Dataset object as pandas dataframe"
   ]
  },
  {
   "cell_type": "code",
   "execution_count": 5,
   "metadata": {},
   "outputs": [
    {
     "data": {
      "application/vnd.microsoft.datawrangler.viewer.v0+json": {
       "columns": [
        {
         "name": "index",
         "rawType": "int64",
         "type": "integer"
        },
        {
         "name": "x",
         "rawType": "object",
         "type": "string"
        },
        {
         "name": "y",
         "rawType": "float64",
         "type": "float"
        },
        {
         "name": "targets",
         "rawType": "object",
         "type": "string"
        }
       ],
       "conversionMethod": "pd.DataFrame",
       "ref": "a6e72213-cf0b-4b43-8f85-143424fd919e",
       "rows": [
        [
         "0",
         "RNA1{r(A)p.r(A)p.r(A)p.r(U)p.r(C)p.r(A)p.r(A)p.r(U)p.r(U)p.r(A)p.r(A)p.r(C)p.r(A)p.r(U)p.r(A)p.r(U)p.r(U)p.r(A)p.r(G)p.d(T)p.d(T)}|RNA2{r(C)p.r(U)p.r(A)p.r(A)p.r(U)p.r(A)p.r(U)p.r(G)p.r(U)p.r(U)p.r(A)p.r(A)p.r(U)p.r(U)p.r(G)p.r(A)p.r(U)p.r(U)p.r(U)p.d(A)p.d(T)}$$$RNA1{StrandType:ss}|RNA2{StrandType:as}$",
         "46.2",
         "BD135193"
        ],
        [
         "1",
         "RNA1{r(A)p.r(U)p.r(A)p.r(A)p.r(A)p.r(U)p.r(C)p.r(A)p.r(A)p.r(U)p.r(U)p.r(A)p.r(A)p.r(C)p.r(A)p.r(U)p.r(A)p.r(U)p.r(U)p.d(T)p.d(T)}|RNA2{r(A)p.r(A)p.r(U)p.r(A)p.r(U)p.r(G)p.r(U)p.r(U)p.r(A)p.r(A)p.r(U)p.r(U)p.r(G)p.r(A)p.r(U)p.r(U)p.r(U)p.r(A)p.r(U)p.d(A)p.d(C)}$$$RNA1{StrandType:ss}|RNA2{StrandType:as}$",
         "38.4",
         "BD135193"
        ],
        [
         "2",
         "RNA1{r(G)p.r(A)p.r(A)p.r(A)p.r(G)p.r(G)p.r(A)p.r(A)p.r(U)p.r(U)p.r(G)p.r(U)p.r(A)p.r(U)p.r(A)p.r(A)p.r(A)p.r(U)p.r(C)p.d(T)p.d(T)}|RNA2{r(G)p.r(A)p.r(U)p.r(U)p.r(U)p.r(A)p.r(U)p.r(A)p.r(C)p.r(A)p.r(A)p.r(U)p.r(U)p.r(C)p.r(C)p.r(U)p.r(U)p.r(U)p.r(C)p.d(A)p.d(A)}$$$RNA1{StrandType:ss}|RNA2{StrandType:as}$",
         "51.4",
         "BD135193"
        ],
        [
         "3",
         "RNA1{r(A)p.r(U)p.r(A)p.r(A)p.r(A)p.r(A)p.r(U)p.r(U)p.r(G)p.r(A)p.r(A)p.r(A)p.r(G)p.r(G)p.r(A)p.r(A)p.r(U)p.r(U)p.r(G)p.d(T)p.d(T)}|RNA2{r(C)p.r(A)p.r(A)p.r(U)p.r(U)p.r(C)p.r(C)p.r(U)p.r(U)p.r(U)p.r(C)p.r(A)p.r(A)p.r(U)p.r(U)p.r(U)p.r(U)p.r(A)p.r(U)p.d(C)p.d(T)}$$$RNA1{StrandType:ss}|RNA2{StrandType:as}$",
         "36.4",
         "BD135193"
        ],
        [
         "4",
         "RNA1{r(C)p.r(U)p.r(U)p.r(A)p.r(U)p.r(U)p.r(U)p.r(A)p.r(A)p.r(U)p.r(U)p.r(U)p.r(U)p.r(G)p.r(G)p.r(U)p.r(C)p.r(U)p.r(G)p.d(T)p.d(T)}|RNA2{r(C)p.r(A)p.r(G)p.r(A)p.r(C)p.r(C)p.r(A)p.r(A)p.r(A)p.r(A)p.r(U)p.r(U)p.r(A)p.r(A)p.r(A)p.r(U)p.r(A)p.r(A)p.r(G)p.d(A)p.d(A)}$$$RNA1{StrandType:ss}|RNA2{StrandType:as}$",
         "52.2",
         "BD135193"
        ]
       ],
       "shape": {
        "columns": 3,
        "rows": 5
       }
      },
      "text/html": [
       "<div>\n",
       "<style scoped>\n",
       "    .dataframe tbody tr th:only-of-type {\n",
       "        vertical-align: middle;\n",
       "    }\n",
       "\n",
       "    .dataframe tbody tr th {\n",
       "        vertical-align: top;\n",
       "    }\n",
       "\n",
       "    .dataframe thead th {\n",
       "        text-align: right;\n",
       "    }\n",
       "</style>\n",
       "<table border=\"1\" class=\"dataframe\">\n",
       "  <thead>\n",
       "    <tr style=\"text-align: right;\">\n",
       "      <th></th>\n",
       "      <th>x</th>\n",
       "      <th>y</th>\n",
       "      <th>targets</th>\n",
       "    </tr>\n",
       "  </thead>\n",
       "  <tbody>\n",
       "    <tr>\n",
       "      <th>0</th>\n",
       "      <td>RNA1{r(A)p.r(A)p.r(A)p.r(U)p.r(C)p.r(A)p.r(A)p...</td>\n",
       "      <td>46.2</td>\n",
       "      <td>BD135193</td>\n",
       "    </tr>\n",
       "    <tr>\n",
       "      <th>1</th>\n",
       "      <td>RNA1{r(A)p.r(U)p.r(A)p.r(A)p.r(A)p.r(U)p.r(C)p...</td>\n",
       "      <td>38.4</td>\n",
       "      <td>BD135193</td>\n",
       "    </tr>\n",
       "    <tr>\n",
       "      <th>2</th>\n",
       "      <td>RNA1{r(G)p.r(A)p.r(A)p.r(A)p.r(G)p.r(G)p.r(A)p...</td>\n",
       "      <td>51.4</td>\n",
       "      <td>BD135193</td>\n",
       "    </tr>\n",
       "    <tr>\n",
       "      <th>3</th>\n",
       "      <td>RNA1{r(A)p.r(U)p.r(A)p.r(A)p.r(A)p.r(A)p.r(U)p...</td>\n",
       "      <td>36.4</td>\n",
       "      <td>BD135193</td>\n",
       "    </tr>\n",
       "    <tr>\n",
       "      <th>4</th>\n",
       "      <td>RNA1{r(C)p.r(U)p.r(U)p.r(A)p.r(U)p.r(U)p.r(U)p...</td>\n",
       "      <td>52.2</td>\n",
       "      <td>BD135193</td>\n",
       "    </tr>\n",
       "  </tbody>\n",
       "</table>\n",
       "</div>"
      ],
      "text/plain": [
       "                                                   x     y   targets\n",
       "0  RNA1{r(A)p.r(A)p.r(A)p.r(U)p.r(C)p.r(A)p.r(A)p...  46.2  BD135193\n",
       "1  RNA1{r(A)p.r(U)p.r(A)p.r(A)p.r(A)p.r(U)p.r(C)p...  38.4  BD135193\n",
       "2  RNA1{r(G)p.r(A)p.r(A)p.r(A)p.r(G)p.r(G)p.r(A)p...  51.4  BD135193\n",
       "3  RNA1{r(A)p.r(U)p.r(A)p.r(A)p.r(A)p.r(A)p.r(U)p...  36.4  BD135193\n",
       "4  RNA1{r(C)p.r(U)p.r(U)p.r(A)p.r(U)p.r(U)p.r(U)p...  52.2  BD135193"
      ]
     },
     "execution_count": 5,
     "metadata": {},
     "output_type": "execute_result"
    }
   ],
   "source": [
    "dataset = Dataset(example_json)\n",
    "dataset.build(x, y, targets)\n",
    "dataset.data.head()"
   ]
  },
  {
   "cell_type": "markdown",
   "metadata": {},
   "source": [
    "you can also assign your dataframe to Datset object directly if your dataframe already has x, y and target as column headers"
   ]
  },
  {
   "cell_type": "code",
   "execution_count": 6,
   "metadata": {},
   "outputs": [
    {
     "data": {
      "application/vnd.microsoft.datawrangler.viewer.v0+json": {
       "columns": [
        {
         "name": "index",
         "rawType": "int64",
         "type": "integer"
        },
        {
         "name": "x",
         "rawType": "object",
         "type": "string"
        },
        {
         "name": "y",
         "rawType": "float64",
         "type": "float"
        },
        {
         "name": "targets",
         "rawType": "object",
         "type": "string"
        }
       ],
       "conversionMethod": "pd.DataFrame",
       "ref": "80274070-8127-4d6c-9460-d06a43df90ff",
       "rows": [
        [
         "0",
         "RNA1{r(A)p.r(A)p.r(A)p.r(U)p.r(C)p.r(A)p.r(A)p.r(U)p.r(U)p.r(A)p.r(A)p.r(C)p.r(A)p.r(U)p.r(A)p.r(U)p.r(U)p.r(A)p.r(G)p.d(T)p.d(T)}|RNA2{r(C)p.r(U)p.r(A)p.r(A)p.r(U)p.r(A)p.r(U)p.r(G)p.r(U)p.r(U)p.r(A)p.r(A)p.r(U)p.r(U)p.r(G)p.r(A)p.r(U)p.r(U)p.r(U)p.d(A)p.d(T)}$$$RNA1{StrandType:ss}|RNA2{StrandType:as}$",
         "46.2",
         "BD135193"
        ],
        [
         "1",
         "RNA1{r(A)p.r(U)p.r(A)p.r(A)p.r(A)p.r(U)p.r(C)p.r(A)p.r(A)p.r(U)p.r(U)p.r(A)p.r(A)p.r(C)p.r(A)p.r(U)p.r(A)p.r(U)p.r(U)p.d(T)p.d(T)}|RNA2{r(A)p.r(A)p.r(U)p.r(A)p.r(U)p.r(G)p.r(U)p.r(U)p.r(A)p.r(A)p.r(U)p.r(U)p.r(G)p.r(A)p.r(U)p.r(U)p.r(U)p.r(A)p.r(U)p.d(A)p.d(C)}$$$RNA1{StrandType:ss}|RNA2{StrandType:as}$",
         "38.4",
         "BD135193"
        ],
        [
         "2",
         "RNA1{r(G)p.r(A)p.r(A)p.r(A)p.r(G)p.r(G)p.r(A)p.r(A)p.r(U)p.r(U)p.r(G)p.r(U)p.r(A)p.r(U)p.r(A)p.r(A)p.r(A)p.r(U)p.r(C)p.d(T)p.d(T)}|RNA2{r(G)p.r(A)p.r(U)p.r(U)p.r(U)p.r(A)p.r(U)p.r(A)p.r(C)p.r(A)p.r(A)p.r(U)p.r(U)p.r(C)p.r(C)p.r(U)p.r(U)p.r(U)p.r(C)p.d(A)p.d(A)}$$$RNA1{StrandType:ss}|RNA2{StrandType:as}$",
         "51.4",
         "BD135193"
        ],
        [
         "3",
         "RNA1{r(A)p.r(U)p.r(A)p.r(A)p.r(A)p.r(A)p.r(U)p.r(U)p.r(G)p.r(A)p.r(A)p.r(A)p.r(G)p.r(G)p.r(A)p.r(A)p.r(U)p.r(U)p.r(G)p.d(T)p.d(T)}|RNA2{r(C)p.r(A)p.r(A)p.r(U)p.r(U)p.r(C)p.r(C)p.r(U)p.r(U)p.r(U)p.r(C)p.r(A)p.r(A)p.r(U)p.r(U)p.r(U)p.r(U)p.r(A)p.r(U)p.d(C)p.d(T)}$$$RNA1{StrandType:ss}|RNA2{StrandType:as}$",
         "36.4",
         "BD135193"
        ],
        [
         "4",
         "RNA1{r(C)p.r(U)p.r(U)p.r(A)p.r(U)p.r(U)p.r(U)p.r(A)p.r(A)p.r(U)p.r(U)p.r(U)p.r(U)p.r(G)p.r(G)p.r(U)p.r(C)p.r(U)p.r(G)p.d(T)p.d(T)}|RNA2{r(C)p.r(A)p.r(G)p.r(A)p.r(C)p.r(C)p.r(A)p.r(A)p.r(A)p.r(A)p.r(U)p.r(U)p.r(A)p.r(A)p.r(A)p.r(U)p.r(A)p.r(A)p.r(G)p.d(A)p.d(A)}$$$RNA1{StrandType:ss}|RNA2{StrandType:as}$",
         "52.2",
         "BD135193"
        ]
       ],
       "shape": {
        "columns": 3,
        "rows": 5
       }
      },
      "text/html": [
       "<div>\n",
       "<style scoped>\n",
       "    .dataframe tbody tr th:only-of-type {\n",
       "        vertical-align: middle;\n",
       "    }\n",
       "\n",
       "    .dataframe tbody tr th {\n",
       "        vertical-align: top;\n",
       "    }\n",
       "\n",
       "    .dataframe thead th {\n",
       "        text-align: right;\n",
       "    }\n",
       "</style>\n",
       "<table border=\"1\" class=\"dataframe\">\n",
       "  <thead>\n",
       "    <tr style=\"text-align: right;\">\n",
       "      <th></th>\n",
       "      <th>x</th>\n",
       "      <th>y</th>\n",
       "      <th>targets</th>\n",
       "    </tr>\n",
       "  </thead>\n",
       "  <tbody>\n",
       "    <tr>\n",
       "      <th>0</th>\n",
       "      <td>RNA1{r(A)p.r(A)p.r(A)p.r(U)p.r(C)p.r(A)p.r(A)p...</td>\n",
       "      <td>46.2</td>\n",
       "      <td>BD135193</td>\n",
       "    </tr>\n",
       "    <tr>\n",
       "      <th>1</th>\n",
       "      <td>RNA1{r(A)p.r(U)p.r(A)p.r(A)p.r(A)p.r(U)p.r(C)p...</td>\n",
       "      <td>38.4</td>\n",
       "      <td>BD135193</td>\n",
       "    </tr>\n",
       "    <tr>\n",
       "      <th>2</th>\n",
       "      <td>RNA1{r(G)p.r(A)p.r(A)p.r(A)p.r(G)p.r(G)p.r(A)p...</td>\n",
       "      <td>51.4</td>\n",
       "      <td>BD135193</td>\n",
       "    </tr>\n",
       "    <tr>\n",
       "      <th>3</th>\n",
       "      <td>RNA1{r(A)p.r(U)p.r(A)p.r(A)p.r(A)p.r(A)p.r(U)p...</td>\n",
       "      <td>36.4</td>\n",
       "      <td>BD135193</td>\n",
       "    </tr>\n",
       "    <tr>\n",
       "      <th>4</th>\n",
       "      <td>RNA1{r(C)p.r(U)p.r(U)p.r(A)p.r(U)p.r(U)p.r(U)p...</td>\n",
       "      <td>52.2</td>\n",
       "      <td>BD135193</td>\n",
       "    </tr>\n",
       "  </tbody>\n",
       "</table>\n",
       "</div>"
      ],
      "text/plain": [
       "                                                   x     y   targets\n",
       "0  RNA1{r(A)p.r(A)p.r(A)p.r(U)p.r(C)p.r(A)p.r(A)p...  46.2  BD135193\n",
       "1  RNA1{r(A)p.r(U)p.r(A)p.r(A)p.r(A)p.r(U)p.r(C)p...  38.4  BD135193\n",
       "2  RNA1{r(G)p.r(A)p.r(A)p.r(A)p.r(G)p.r(G)p.r(A)p...  51.4  BD135193\n",
       "3  RNA1{r(A)p.r(U)p.r(A)p.r(A)p.r(A)p.r(A)p.r(U)p...  36.4  BD135193\n",
       "4  RNA1{r(C)p.r(U)p.r(U)p.r(A)p.r(U)p.r(U)p.r(U)p...  52.2  BD135193"
      ]
     },
     "execution_count": 6,
     "metadata": {},
     "output_type": "execute_result"
    }
   ],
   "source": [
    "dataset = Dataset(example_json)\n",
    "dataset.data = example_data\n",
    "dataset.data.head()"
   ]
  },
  {
   "cell_type": "markdown",
   "metadata": {},
   "source": [
    "## Working with provided datasets\n",
    "\n",
    "The datasets and their corresponding metadata are stored in the package resources module."
   ]
  },
  {
   "cell_type": "code",
   "execution_count": 7,
   "metadata": {},
   "outputs": [
    {
     "data": {
      "application/vnd.microsoft.datawrangler.viewer.v0+json": {
       "columns": [
        {
         "name": "index",
         "rawType": "int64",
         "type": "integer"
        },
        {
         "name": "key",
         "rawType": "object",
         "type": "string"
        },
        {
         "name": "name",
         "rawType": "object",
         "type": "string"
        },
        {
         "name": "desc",
         "rawType": "object",
         "type": "string"
        },
        {
         "name": "modality",
         "rawType": "object",
         "type": "string"
        },
        {
         "name": "size",
         "rawType": "int64",
         "type": "integer"
        },
        {
         "name": "label_desc",
         "rawType": "object",
         "type": "string"
        },
        {
         "name": "model_system",
         "rawType": "object",
         "type": "string"
        },
        {
         "name": "collection",
         "rawType": "object",
         "type": "string"
        },
        {
         "name": "num_targets",
         "rawType": "int64",
         "type": "integer"
        },
        {
         "name": "task",
         "rawType": "object",
         "type": "string"
        },
        {
         "name": "rec_split",
         "rawType": "object",
         "type": "string"
        },
        {
         "name": "rec_metric",
         "rawType": "object",
         "type": "string"
        },
        {
         "name": "featurizers",
         "rawType": "object",
         "type": "string"
        },
        {
         "name": "source",
         "rawType": "object",
         "type": "string"
        }
       ],
       "conversionMethod": "pd.DataFrame",
       "ref": "1f621b7f-ddbb-442c-aee7-babc90833e66",
       "rows": [
        [
         "0",
         "Ichihara",
         "Ichihara_2007_2",
         "A precurated collection of unmodified siRNA potency data. The dataset can be split into two. Ichihara_2007_2 is a dataset from 5 different studies with different assays so its likely the quality is worse than Ichihara_2007_1.",
         "siRNA",
         "419",
         "Percentage inhibition relative to control from various assays as reported by authors of the curated dataset.",
         "In vitro",
         "Activity",
         "12",
         "Regression",
         "Random",
         "['Spearmanr', 'Pearsonr']",
         "['OneHotEncoder', 'KMersCounts']",
         "https://doi.org/10.1093/nar/gkm699"
        ],
        [
         "1",
         "TLR8",
         "Alharbi_2020_2",
         "2'OMe gapmer screen of TLR7 inhibition",
         "ASO",
         "192",
         "TLR7 level after induction with 100nM ASO as measured by fluorescence as using NF-κB-Luciferase reporter in HEK293-TLR7 cells. Values relative to those obtained after induction with Resiquimod (=100)",
         "In vitro",
         "Immunomodulation",
         "4",
         "Regression",
         "Random",
         "['Spearmanr', 'Pearsonr']",
         "['OneHotEncoder', 'KMersCounts']",
         "https://doi.org/10.1093/nar/gkaa523"
        ],
        [
         "2",
         "Shmushkovich",
         "Shmushkovich_2018_1",
         "Study of cholesterol-conjugated siRNA efficacy using dual luciferase reporter in HeLa cells at 1 μM",
         "siRNA",
         "356",
         "Percentage remaining relative to control of siRNA measured using dual luciferase reporter in HeLa cells at 1 μM",
         "In vitro",
         "Activity",
         "1",
         "Regression",
         "Random",
         "['Spearmanr', 'Pearsonr']",
         "['OneHotEncoder', 'KMerCounts']",
         "https://doi.org/10.1093/nar/gky745"
        ],
        [
         "3",
         "ASOptimizer",
         "Hwang_2024_1",
         "A collection of inhibitory activity for different gapmers ASO collected from various patents and publication",
         "ASO",
         "32602",
         "Percentage inhibition of target mRNA relative to untreated controls",
         "In vitro",
         "Activity",
         "18",
         "Regression",
         "Random",
         "['Spearmanr', 'Pearsonr']",
         "['OneHotEncoder', 'KMerCounts']",
         "https://doi.org/10.1016/j.omtn.2024.102186"
        ],
        [
         "4",
         "Neurotox LNA",
         "Hagedorn_2022_1",
         "Acute nuerotox of LNA gapmer as measured by calcium oscillation score in cell",
         "ASO",
         "1825",
         "Calcium oscillation score",
         "In vitro",
         "Toxicity",
         "3",
         "Regression",
         "Random",
         "['Spearmanr', 'Pearsonr']",
         "['OneHotEncoder', 'KMersCounts']",
         "https://doi.org/10.1089/nat.2021.0071"
        ],
        [
         "5",
         "TLR7",
         "Alharbi_2020_1",
         "2'OMe gapmer screen of TLR8 potentiation",
         "ASO",
         "192",
         "TLR8 level after induction with 100nM ASO as measured by fluorescence as using NF-κB-Luciferase reporter in HEK293-TLR8 cells. Values relative to those obtained after induction with Resiquimod (=1.0)",
         "In vitro",
         "Immunomodulation",
         "4",
         "Regression",
         "Random",
         "['Spearmanr', 'Pearsonr']",
         "['OneHotEncoder', 'KMersCounts']",
         "https://doi.org/10.1093/nar/gkaa523"
        ],
        [
         "6",
         "Huesken",
         "Ichihara_2007_1",
         "A precurated collection of unmodified siRNA potency data. The dataset can be split into two. Ichihara_2007_1 is a dataset from Huesken_2005 of siRNA screen using GFP reporter assay.",
         "siRNA",
         "2431",
         "Percentage inhibition relative to control using an eCFP-eYFP dual reporter assay.",
         "In vitro",
         "Activity",
         "30",
         "Regression",
         "Random",
         "['Spearmanr', 'Pearsonr']",
         "['OneHotEncoder', 'KMersCounts']",
         "https://doi.org/10.1093/nar/gkm699"
        ],
        [
         "7",
         "OpenASO",
         "McQuisten_2007_1",
         "An ASO-activity dataset collected by IDT from a now defunct ASO database (https://doi.org/10.1093/bioinformatics/16.9.843) and also from patent data. According to the publication each ASO have a full phosphothioate backbone and no chimeric sequences.",
         "ASO",
         "3913",
         "Activity range from 0 (complete target inhibition) to  1 (no difference in target activity when compared to appropriate control). The activity were all measured from either protein product or direct mRNA level.",
         "undefined",
         "Activity",
         "86",
         "Regression",
         "Random",
         "['Spearmanr', 'Pearsonr']",
         "['OneHotEncoder', 'KMersCounts']",
         "['https://doi.org/10.1186/1471-2105-8-184', 'https://github.com/lackeylela/openASO']"
        ],
        [
         "8",
         "Cytotox LNA",
         "Papargyri_2020_1",
         "A study looking at the relationship between nucleobase and LNA sequence on aso activity and cytotoxicity.",
         "ASO",
         "768",
         "Minmax-scaled average caspase level (N=3) measured in HeLa cells",
         "In vitro",
         "Toxicity",
         "1",
         "Regression",
         "Random",
         "['Spearmanr', 'Pearsonr']",
         "['OneHotEncoder', 'KMersCounts']",
         "https://doi.org/10.1016/j.omtn.2019.12.011"
        ],
        [
         "9",
         "siRNAmod",
         "Martinelli_2023_1",
         "A curated siRNA potency dataset that contain only sugar and base information.",
         "siRNA",
         "907",
         "Percentage knockdown of the target mRNA",
         "undefined",
         "Activity",
         "1",
         "Regression",
         "Random",
         "['Spearmanr', 'Pearsonr']",
         "['OneHotEncoder', 'KMersCounts']",
         "https://doi.org/10.1016/j.ygeno.2024.110815"
        ],
        [
         "10",
         "Neurotox MOE",
         "MOE_Neurotox_1",
         "Acute neurotox data for MOE modifed ASOs scraped from patent",
         "ASO",
         "2437",
         "Rounded 3h FOB score in mice (7 categories: 0 (safe) > 7(toxic))",
         "In vivo",
         "Acute Neurotoxicity",
         "13",
         "Regression",
         "Random",
         "['Spearmanr', 'Pearsonr']",
         "['OneHotEncoder', 'KMersCounts']",
         "['https://patents.google.com/patent/WO2020172559A1', 'https://patents.google.com/patent/WO2016168592A2', 'https://patents.google.com/patent/WO2021021673A1', 'https://patents.google.com/patent/WO2015153800A2', 'https://patents.google.com/patent/WO2020205463A1', 'https://patents.google.com/patent/WO2020006267A1', 'https://patents.google.com/patent/WO2020023737A1', 'https://patents.google.com/patent/WO2020243292A1', 'https://patents.google.com/patent/WO2020106996A1', 'https://patents.google.com/patent/WO2022026589A1', 'https://patents.google.com/patent/WO2022165122A1', 'https://patents.google.com/patent/WO2021174019A1', 'https://patents.google.com/patent/WO2022032060A2']"
        ],
        [
         "11",
         "Sherwood",
         "Knott_2014_1",
         "A biased screening of shRNA using the miR-30 scaffold, DSIR algorithm was used to select for sequences likely to be active",
         "shRNA",
         "291551",
         "MinMax-scaled score from the raw score obtained from a high-throughput assay based on sort-seq strategy using fluorescence reporter construct with the target site in the 3UTR of the reporter gene.",
         "In vitro",
         "Activity",
         "17802",
         "Regression",
         "Random",
         "['Spearmanr', 'Pearsonr']",
         "['OneHotEncoder', 'KMersCounts']",
         "https://doi.org/10.1016/j.molcel.2014.10.025"
        ]
       ],
       "shape": {
        "columns": 14,
        "rows": 12
       }
      },
      "text/html": [
       "<div>\n",
       "<style scoped>\n",
       "    .dataframe tbody tr th:only-of-type {\n",
       "        vertical-align: middle;\n",
       "    }\n",
       "\n",
       "    .dataframe tbody tr th {\n",
       "        vertical-align: top;\n",
       "    }\n",
       "\n",
       "    .dataframe thead th {\n",
       "        text-align: right;\n",
       "    }\n",
       "</style>\n",
       "<table border=\"1\" class=\"dataframe\">\n",
       "  <thead>\n",
       "    <tr style=\"text-align: right;\">\n",
       "      <th></th>\n",
       "      <th>key</th>\n",
       "      <th>name</th>\n",
       "      <th>desc</th>\n",
       "      <th>modality</th>\n",
       "      <th>size</th>\n",
       "      <th>label_desc</th>\n",
       "      <th>model_system</th>\n",
       "      <th>collection</th>\n",
       "      <th>num_targets</th>\n",
       "      <th>task</th>\n",
       "      <th>rec_split</th>\n",
       "      <th>rec_metric</th>\n",
       "      <th>featurizers</th>\n",
       "      <th>source</th>\n",
       "    </tr>\n",
       "  </thead>\n",
       "  <tbody>\n",
       "    <tr>\n",
       "      <th>0</th>\n",
       "      <td>Ichihara</td>\n",
       "      <td>Ichihara_2007_2</td>\n",
       "      <td>A precurated collection of unmodified siRNA po...</td>\n",
       "      <td>siRNA</td>\n",
       "      <td>419</td>\n",
       "      <td>Percentage inhibition relative to control from...</td>\n",
       "      <td>In vitro</td>\n",
       "      <td>Activity</td>\n",
       "      <td>12</td>\n",
       "      <td>Regression</td>\n",
       "      <td>Random</td>\n",
       "      <td>['Spearmanr', 'Pearsonr']</td>\n",
       "      <td>['OneHotEncoder', 'KMersCounts']</td>\n",
       "      <td>https://doi.org/10.1093/nar/gkm699</td>\n",
       "    </tr>\n",
       "    <tr>\n",
       "      <th>1</th>\n",
       "      <td>TLR8</td>\n",
       "      <td>Alharbi_2020_2</td>\n",
       "      <td>2'OMe gapmer screen of TLR7 inhibition</td>\n",
       "      <td>ASO</td>\n",
       "      <td>192</td>\n",
       "      <td>TLR7 level after induction with 100nM ASO as m...</td>\n",
       "      <td>In vitro</td>\n",
       "      <td>Immunomodulation</td>\n",
       "      <td>4</td>\n",
       "      <td>Regression</td>\n",
       "      <td>Random</td>\n",
       "      <td>['Spearmanr', 'Pearsonr']</td>\n",
       "      <td>['OneHotEncoder', 'KMersCounts']</td>\n",
       "      <td>https://doi.org/10.1093/nar/gkaa523</td>\n",
       "    </tr>\n",
       "    <tr>\n",
       "      <th>2</th>\n",
       "      <td>Shmushkovich</td>\n",
       "      <td>Shmushkovich_2018_1</td>\n",
       "      <td>Study of cholesterol-conjugated siRNA efficacy...</td>\n",
       "      <td>siRNA</td>\n",
       "      <td>356</td>\n",
       "      <td>Percentage remaining relative to control of si...</td>\n",
       "      <td>In vitro</td>\n",
       "      <td>Activity</td>\n",
       "      <td>1</td>\n",
       "      <td>Regression</td>\n",
       "      <td>Random</td>\n",
       "      <td>['Spearmanr', 'Pearsonr']</td>\n",
       "      <td>['OneHotEncoder', 'KMerCounts']</td>\n",
       "      <td>https://doi.org/10.1093/nar/gky745</td>\n",
       "    </tr>\n",
       "    <tr>\n",
       "      <th>3</th>\n",
       "      <td>ASOptimizer</td>\n",
       "      <td>Hwang_2024_1</td>\n",
       "      <td>A collection of inhibitory activity for differ...</td>\n",
       "      <td>ASO</td>\n",
       "      <td>32602</td>\n",
       "      <td>Percentage inhibition of target mRNA relative ...</td>\n",
       "      <td>In vitro</td>\n",
       "      <td>Activity</td>\n",
       "      <td>18</td>\n",
       "      <td>Regression</td>\n",
       "      <td>Random</td>\n",
       "      <td>['Spearmanr', 'Pearsonr']</td>\n",
       "      <td>['OneHotEncoder', 'KMerCounts']</td>\n",
       "      <td>https://doi.org/10.1016/j.omtn.2024.102186</td>\n",
       "    </tr>\n",
       "    <tr>\n",
       "      <th>4</th>\n",
       "      <td>Neurotox LNA</td>\n",
       "      <td>Hagedorn_2022_1</td>\n",
       "      <td>Acute nuerotox of LNA gapmer as measured by ca...</td>\n",
       "      <td>ASO</td>\n",
       "      <td>1825</td>\n",
       "      <td>Calcium oscillation score</td>\n",
       "      <td>In vitro</td>\n",
       "      <td>Toxicity</td>\n",
       "      <td>3</td>\n",
       "      <td>Regression</td>\n",
       "      <td>Random</td>\n",
       "      <td>['Spearmanr', 'Pearsonr']</td>\n",
       "      <td>['OneHotEncoder', 'KMersCounts']</td>\n",
       "      <td>https://doi.org/10.1089/nat.2021.0071</td>\n",
       "    </tr>\n",
       "    <tr>\n",
       "      <th>5</th>\n",
       "      <td>TLR7</td>\n",
       "      <td>Alharbi_2020_1</td>\n",
       "      <td>2'OMe gapmer screen of TLR8 potentiation</td>\n",
       "      <td>ASO</td>\n",
       "      <td>192</td>\n",
       "      <td>TLR8 level after induction with 100nM ASO as m...</td>\n",
       "      <td>In vitro</td>\n",
       "      <td>Immunomodulation</td>\n",
       "      <td>4</td>\n",
       "      <td>Regression</td>\n",
       "      <td>Random</td>\n",
       "      <td>['Spearmanr', 'Pearsonr']</td>\n",
       "      <td>['OneHotEncoder', 'KMersCounts']</td>\n",
       "      <td>https://doi.org/10.1093/nar/gkaa523</td>\n",
       "    </tr>\n",
       "    <tr>\n",
       "      <th>6</th>\n",
       "      <td>Huesken</td>\n",
       "      <td>Ichihara_2007_1</td>\n",
       "      <td>A precurated collection of unmodified siRNA po...</td>\n",
       "      <td>siRNA</td>\n",
       "      <td>2431</td>\n",
       "      <td>Percentage inhibition relative to control usin...</td>\n",
       "      <td>In vitro</td>\n",
       "      <td>Activity</td>\n",
       "      <td>30</td>\n",
       "      <td>Regression</td>\n",
       "      <td>Random</td>\n",
       "      <td>['Spearmanr', 'Pearsonr']</td>\n",
       "      <td>['OneHotEncoder', 'KMersCounts']</td>\n",
       "      <td>https://doi.org/10.1093/nar/gkm699</td>\n",
       "    </tr>\n",
       "    <tr>\n",
       "      <th>7</th>\n",
       "      <td>OpenASO</td>\n",
       "      <td>McQuisten_2007_1</td>\n",
       "      <td>An ASO-activity dataset collected by IDT from ...</td>\n",
       "      <td>ASO</td>\n",
       "      <td>3913</td>\n",
       "      <td>Activity range from 0 (complete target inhibit...</td>\n",
       "      <td>undefined</td>\n",
       "      <td>Activity</td>\n",
       "      <td>86</td>\n",
       "      <td>Regression</td>\n",
       "      <td>Random</td>\n",
       "      <td>['Spearmanr', 'Pearsonr']</td>\n",
       "      <td>['OneHotEncoder', 'KMersCounts']</td>\n",
       "      <td>['https://doi.org/10.1186/1471-2105-8-184', 'h...</td>\n",
       "    </tr>\n",
       "    <tr>\n",
       "      <th>8</th>\n",
       "      <td>Cytotox LNA</td>\n",
       "      <td>Papargyri_2020_1</td>\n",
       "      <td>A study looking at the relationship between nu...</td>\n",
       "      <td>ASO</td>\n",
       "      <td>768</td>\n",
       "      <td>Minmax-scaled average caspase level (N=3) meas...</td>\n",
       "      <td>In vitro</td>\n",
       "      <td>Toxicity</td>\n",
       "      <td>1</td>\n",
       "      <td>Regression</td>\n",
       "      <td>Random</td>\n",
       "      <td>['Spearmanr', 'Pearsonr']</td>\n",
       "      <td>['OneHotEncoder', 'KMersCounts']</td>\n",
       "      <td>https://doi.org/10.1016/j.omtn.2019.12.011</td>\n",
       "    </tr>\n",
       "    <tr>\n",
       "      <th>9</th>\n",
       "      <td>siRNAmod</td>\n",
       "      <td>Martinelli_2023_1</td>\n",
       "      <td>A curated siRNA potency dataset that contain o...</td>\n",
       "      <td>siRNA</td>\n",
       "      <td>907</td>\n",
       "      <td>Percentage knockdown of the target mRNA</td>\n",
       "      <td>undefined</td>\n",
       "      <td>Activity</td>\n",
       "      <td>1</td>\n",
       "      <td>Regression</td>\n",
       "      <td>Random</td>\n",
       "      <td>['Spearmanr', 'Pearsonr']</td>\n",
       "      <td>['OneHotEncoder', 'KMersCounts']</td>\n",
       "      <td>https://doi.org/10.1016/j.ygeno.2024.110815</td>\n",
       "    </tr>\n",
       "    <tr>\n",
       "      <th>10</th>\n",
       "      <td>Neurotox MOE</td>\n",
       "      <td>MOE_Neurotox_1</td>\n",
       "      <td>Acute neurotox data for MOE modifed ASOs scrap...</td>\n",
       "      <td>ASO</td>\n",
       "      <td>2437</td>\n",
       "      <td>Rounded 3h FOB score in mice (7 categories: 0 ...</td>\n",
       "      <td>In vivo</td>\n",
       "      <td>Acute Neurotoxicity</td>\n",
       "      <td>13</td>\n",
       "      <td>Regression</td>\n",
       "      <td>Random</td>\n",
       "      <td>['Spearmanr', 'Pearsonr']</td>\n",
       "      <td>['OneHotEncoder', 'KMersCounts']</td>\n",
       "      <td>['https://patents.google.com/patent/WO20201725...</td>\n",
       "    </tr>\n",
       "    <tr>\n",
       "      <th>11</th>\n",
       "      <td>Sherwood</td>\n",
       "      <td>Knott_2014_1</td>\n",
       "      <td>A biased screening of shRNA using the miR-30 s...</td>\n",
       "      <td>shRNA</td>\n",
       "      <td>291551</td>\n",
       "      <td>MinMax-scaled score from the raw score obtaine...</td>\n",
       "      <td>In vitro</td>\n",
       "      <td>Activity</td>\n",
       "      <td>17802</td>\n",
       "      <td>Regression</td>\n",
       "      <td>Random</td>\n",
       "      <td>['Spearmanr', 'Pearsonr']</td>\n",
       "      <td>['OneHotEncoder', 'KMersCounts']</td>\n",
       "      <td>https://doi.org/10.1016/j.molcel.2014.10.025</td>\n",
       "    </tr>\n",
       "  </tbody>\n",
       "</table>\n",
       "</div>"
      ],
      "text/plain": [
       "             key                 name  \\\n",
       "0       Ichihara      Ichihara_2007_2   \n",
       "1           TLR8       Alharbi_2020_2   \n",
       "2   Shmushkovich  Shmushkovich_2018_1   \n",
       "3    ASOptimizer         Hwang_2024_1   \n",
       "4   Neurotox LNA      Hagedorn_2022_1   \n",
       "5           TLR7       Alharbi_2020_1   \n",
       "6        Huesken      Ichihara_2007_1   \n",
       "7        OpenASO     McQuisten_2007_1   \n",
       "8    Cytotox LNA     Papargyri_2020_1   \n",
       "9       siRNAmod    Martinelli_2023_1   \n",
       "10  Neurotox MOE       MOE_Neurotox_1   \n",
       "11      Sherwood         Knott_2014_1   \n",
       "\n",
       "                                                 desc modality    size  \\\n",
       "0   A precurated collection of unmodified siRNA po...    siRNA     419   \n",
       "1              2'OMe gapmer screen of TLR7 inhibition      ASO     192   \n",
       "2   Study of cholesterol-conjugated siRNA efficacy...    siRNA     356   \n",
       "3   A collection of inhibitory activity for differ...      ASO   32602   \n",
       "4   Acute nuerotox of LNA gapmer as measured by ca...      ASO    1825   \n",
       "5            2'OMe gapmer screen of TLR8 potentiation      ASO     192   \n",
       "6   A precurated collection of unmodified siRNA po...    siRNA    2431   \n",
       "7   An ASO-activity dataset collected by IDT from ...      ASO    3913   \n",
       "8   A study looking at the relationship between nu...      ASO     768   \n",
       "9   A curated siRNA potency dataset that contain o...    siRNA     907   \n",
       "10  Acute neurotox data for MOE modifed ASOs scrap...      ASO    2437   \n",
       "11  A biased screening of shRNA using the miR-30 s...    shRNA  291551   \n",
       "\n",
       "                                           label_desc model_system  \\\n",
       "0   Percentage inhibition relative to control from...     In vitro   \n",
       "1   TLR7 level after induction with 100nM ASO as m...     In vitro   \n",
       "2   Percentage remaining relative to control of si...     In vitro   \n",
       "3   Percentage inhibition of target mRNA relative ...     In vitro   \n",
       "4                           Calcium oscillation score     In vitro   \n",
       "5   TLR8 level after induction with 100nM ASO as m...     In vitro   \n",
       "6   Percentage inhibition relative to control usin...     In vitro   \n",
       "7   Activity range from 0 (complete target inhibit...    undefined   \n",
       "8   Minmax-scaled average caspase level (N=3) meas...     In vitro   \n",
       "9             Percentage knockdown of the target mRNA    undefined   \n",
       "10  Rounded 3h FOB score in mice (7 categories: 0 ...      In vivo   \n",
       "11  MinMax-scaled score from the raw score obtaine...     In vitro   \n",
       "\n",
       "             collection  num_targets        task rec_split  \\\n",
       "0              Activity           12  Regression    Random   \n",
       "1      Immunomodulation            4  Regression    Random   \n",
       "2              Activity            1  Regression    Random   \n",
       "3              Activity           18  Regression    Random   \n",
       "4              Toxicity            3  Regression    Random   \n",
       "5      Immunomodulation            4  Regression    Random   \n",
       "6              Activity           30  Regression    Random   \n",
       "7              Activity           86  Regression    Random   \n",
       "8              Toxicity            1  Regression    Random   \n",
       "9              Activity            1  Regression    Random   \n",
       "10  Acute Neurotoxicity           13  Regression    Random   \n",
       "11             Activity        17802  Regression    Random   \n",
       "\n",
       "                   rec_metric                       featurizers  \\\n",
       "0   ['Spearmanr', 'Pearsonr']  ['OneHotEncoder', 'KMersCounts']   \n",
       "1   ['Spearmanr', 'Pearsonr']  ['OneHotEncoder', 'KMersCounts']   \n",
       "2   ['Spearmanr', 'Pearsonr']   ['OneHotEncoder', 'KMerCounts']   \n",
       "3   ['Spearmanr', 'Pearsonr']   ['OneHotEncoder', 'KMerCounts']   \n",
       "4   ['Spearmanr', 'Pearsonr']  ['OneHotEncoder', 'KMersCounts']   \n",
       "5   ['Spearmanr', 'Pearsonr']  ['OneHotEncoder', 'KMersCounts']   \n",
       "6   ['Spearmanr', 'Pearsonr']  ['OneHotEncoder', 'KMersCounts']   \n",
       "7   ['Spearmanr', 'Pearsonr']  ['OneHotEncoder', 'KMersCounts']   \n",
       "8   ['Spearmanr', 'Pearsonr']  ['OneHotEncoder', 'KMersCounts']   \n",
       "9   ['Spearmanr', 'Pearsonr']  ['OneHotEncoder', 'KMersCounts']   \n",
       "10  ['Spearmanr', 'Pearsonr']  ['OneHotEncoder', 'KMersCounts']   \n",
       "11  ['Spearmanr', 'Pearsonr']  ['OneHotEncoder', 'KMersCounts']   \n",
       "\n",
       "                                               source  \n",
       "0                  https://doi.org/10.1093/nar/gkm699  \n",
       "1                 https://doi.org/10.1093/nar/gkaa523  \n",
       "2                  https://doi.org/10.1093/nar/gky745  \n",
       "3          https://doi.org/10.1016/j.omtn.2024.102186  \n",
       "4               https://doi.org/10.1089/nat.2021.0071  \n",
       "5                 https://doi.org/10.1093/nar/gkaa523  \n",
       "6                  https://doi.org/10.1093/nar/gkm699  \n",
       "7   ['https://doi.org/10.1186/1471-2105-8-184', 'h...  \n",
       "8          https://doi.org/10.1016/j.omtn.2019.12.011  \n",
       "9         https://doi.org/10.1016/j.ygeno.2024.110815  \n",
       "10  ['https://patents.google.com/patent/WO20201725...  \n",
       "11       https://doi.org/10.1016/j.molcel.2014.10.025  "
      ]
     },
     "execution_count": 7,
     "metadata": {},
     "output_type": "execute_result"
    }
   ],
   "source": [
    "downloader = DatasetDownloader()\n",
    "downloader.all_datasets_info"
   ]
  },
  {
   "cell_type": "code",
   "execution_count": 8,
   "metadata": {},
   "outputs": [
    {
     "name": "stdout",
     "output_type": "stream",
     "text": [
      "Dataset 'Hwang_2024_1' has been successfully downloaded.\n"
     ]
    },
    {
     "data": {
      "application/vnd.microsoft.datawrangler.viewer.v0+json": {
       "columns": [
        {
         "name": "index",
         "rawType": "int64",
         "type": "integer"
        },
        {
         "name": "x",
         "rawType": "object",
         "type": "string"
        },
        {
         "name": "y",
         "rawType": "float64",
         "type": "float"
        },
        {
         "name": "y_raw",
         "rawType": "float64",
         "type": "float"
        },
        {
         "name": "targets",
         "rawType": "object",
         "type": "string"
        },
        {
         "name": "smiles",
         "rawType": "object",
         "type": "string"
        },
        {
         "name": "fasta",
         "rawType": "object",
         "type": "string"
        },
        {
         "name": "cell_line",
         "rawType": "object",
         "type": "string"
        },
        {
         "name": "concentration",
         "rawType": "float64",
         "type": "float"
        }
       ],
       "conversionMethod": "pd.DataFrame",
       "ref": "12c32318-9520-4bb4-825b-8e535496c8cc",
       "rows": [
        [
         "0",
         "RNA1{[cEt](G)[sp].[cEt](C)[sp].[cEt](T)[sp].d(A)[sp].d(A)[sp].d(A)[sp].d(A)[sp].d(C)[sp].d(A)[sp].d(A)[sp].d(A)[sp].d(T)[sp].d(G)[sp].[cEt](C)[sp].[cEt](T)[sp].[cEt](A)}$$$$V2.0",
         "33.0",
         "33.0",
         "KRAS",
         "Cc1cn([C@H]2C[C@H](OP(=O)([S-])[O]C[C@H]3O[C@@H](n4cnc5c(=O)[nH]c(N)nc54)C[C@@H]3OP(=O)([S-])[O]C[C@]34O[C@@H](n5ccc(N)nc5=O)[C@H](O[C@@H]3C)[C@@H]4OP(=O)([S-])[O]C[C@]34O[C@@H](n5cc(C)c(=O)[nH]c5=O)[C@H](O[C@@H]3C)[C@@H]4OP(=O)([S-])[O]C[C@]34O[C@@H](n5cnc6c(N)ncnc65)[C@H](O[C@@H]3C)[C@@H]4O)[C@@H](C[O]P(=O)([S-])O[C@H]3C[C@H](n4cnc5c(N)ncnc54)O[C@@H]3C[O]P(=O)([S-])O[C@H]3C[C@H](n4cnc5c(N)ncnc54)O[C@@H]3C[O]P(=O)([S-])O[C@H]3C[C@H](n4cnc5c(N)ncnc54)O[C@@H]3C[O]P(=O)([S-])O[C@H]3C[C@H](n4ccc(N)nc4=O)O[C@@H]3C[O]P(=O)([S-])O[C@H]3C[C@H](n4cnc5c(N)ncnc54)O[C@@H]3C[O]P(=O)([S-])O[C@H]3C[C@H](n4cnc5c(N)ncnc54)O[C@@H]3C[O]P(=O)([S-])O[C@H]3C[C@H](n4cnc5c(N)ncnc54)O[C@@H]3C[O]P(=O)([S-])O[C@H]3C[C@H](n4cnc5c(N)ncnc54)O[C@@H]3C[O]P(=O)([S-])O[C@H]3[C@H]4O[C@H](C)[C@]3(C[O]P(=O)([S-])O[C@H]3[C@H]5O[C@H](C)[C@]3(C[O]P(=O)([S-])O[C@H]3[C@H]6O[C@H](C)[C@]3(C[OH])O[C@H]6n3cnc6c(=O)[nH]c(N)nc63)O[C@H]5n3ccc(N)nc3=O)O[C@H]4n3cc(C)c(=O)[nH]c3=O)O2)c(=O)[nH]c1=O",
         "GCTAAAACAAATGCTA",
         "A431",
         "2.0"
        ],
        [
         "1",
         "RNA1{[cEt](T)[sp].[cEt](A)[sp].[cEt](T)[sp].d(A)[sp].d(A)[sp].d(T)[sp].d(G)[sp].d(G)[sp].d(T)[sp].d(G)[sp].d(A)[sp].d(A)[sp].d(T)[sp].[cEt](A)[sp].[cEt](T)[sp].[cEt](C)}$$$$V2.0",
         "7.0",
         "7.0",
         "KRAS",
         "Cc1cn([C@H]2C[C@H](OP(=O)([S-])[O]C[C@]34O[C@@H](n5cnc6c(N)ncnc65)[C@H](O[C@@H]3C)[C@@H]4OP(=O)([S-])[O]C[C@]34O[C@@H](n5cc(C)c(=O)[nH]c5=O)[C@H](O[C@@H]3C)[C@@H]4OP(=O)([S-])[O]C[C@]34O[C@@H](n5ccc(N)nc5=O)[C@H](O[C@@H]3C)[C@@H]4O)[C@@H](C[O]P(=O)([S-])O[C@H]3C[C@H](n4cnc5c(N)ncnc54)O[C@@H]3C[O]P(=O)([S-])O[C@H]3C[C@H](n4cnc5c(N)ncnc54)O[C@@H]3C[O]P(=O)([S-])O[C@H]3C[C@H](n4cnc5c(=O)[nH]c(N)nc54)O[C@@H]3C[O]P(=O)([S-])O[C@H]3C[C@H](n4cc(C)c(=O)[nH]c4=O)O[C@@H]3C[O]P(=O)([S-])O[C@H]3C[C@H](n4cnc5c(=O)[nH]c(N)nc54)O[C@@H]3C[O]P(=O)([S-])O[C@H]3C[C@H](n4cnc5c(=O)[nH]c(N)nc54)O[C@@H]3C[O]P(=O)([S-])O[C@H]3C[C@H](n4cc(C)c(=O)[nH]c4=O)O[C@@H]3C[O]P(=O)([S-])O[C@H]3C[C@H](n4cnc5c(N)ncnc54)O[C@@H]3C[O]P(=O)([S-])O[C@H]3C[C@H](n4cnc5c(N)ncnc54)O[C@@H]3C[O]P(=O)([S-])O[C@H]3[C@H]4O[C@H](C)[C@]3(C[O]P(=O)([S-])O[C@H]3[C@H]5O[C@H](C)[C@]3(C[O]P(=O)([S-])O[C@H]3[C@H]6O[C@H](C)[C@]3(C[OH])O[C@H]6n3cc(C)c(=O)[nH]c3=O)O[C@H]5n3cnc5c(N)ncnc53)O[C@H]4n3cc(C)c(=O)[nH]c3=O)O2)c(=O)[nH]c1=O",
         "TATAATGGTGAATATC",
         "A431",
         "2.0"
        ],
        [
         "2",
         "RNA1{[cEt](G)[sp].[cEt](C)[sp].[cEt](A)[sp].d(T)[sp].d(G)[sp].d(A)[sp].d(A)[sp].d(G)[sp].d(A)[sp].d(T)[sp].d(T)[sp].d(T)[sp].d(C)[sp].[cEt](T)[sp].[cEt](G)[sp].[cEt](G)}$$$$V2.0",
         "62.0",
         "62.0",
         "KRAS",
         "Cc1cn([C@H]2C[C@H](OP(=O)([S-])[O]C[C@H]3O[C@@H](n4ccc(N)nc4=O)C[C@@H]3OP(=O)([S-])[O]C[C@]34O[C@@H](n5cc(C)c(=O)[nH]c5=O)[C@H](O[C@@H]3C)[C@@H]4OP(=O)([S-])[O]C[C@]34O[C@@H](n5cnc6c(=O)[nH]c(N)nc65)[C@H](O[C@@H]3C)[C@@H]4OP(=O)([S-])[O]C[C@]34O[C@@H](n5cnc6c(=O)[nH]c(N)nc65)[C@H](O[C@@H]3C)[C@@H]4O)[C@@H](C[O]P(=O)([S-])O[C@H]3C[C@H](n4cc(C)c(=O)[nH]c4=O)O[C@@H]3C[O]P(=O)([S-])O[C@H]3C[C@H](n4cc(C)c(=O)[nH]c4=O)O[C@@H]3C[O]P(=O)([S-])O[C@H]3C[C@H](n4cnc5c(N)ncnc54)O[C@@H]3C[O]P(=O)([S-])O[C@H]3C[C@H](n4cnc5c(=O)[nH]c(N)nc54)O[C@@H]3C[O]P(=O)([S-])O[C@H]3C[C@H](n4cnc5c(N)ncnc54)O[C@@H]3C[O]P(=O)([S-])O[C@H]3C[C@H](n4cnc5c(N)ncnc54)O[C@@H]3C[O]P(=O)([S-])O[C@H]3C[C@H](n4cnc5c(=O)[nH]c(N)nc54)O[C@@H]3C[O]P(=O)([S-])O[C@H]3C[C@H](n4cc(C)c(=O)[nH]c4=O)O[C@@H]3C[O]P(=O)([S-])O[C@H]3[C@H]4O[C@H](C)[C@]3(C[O]P(=O)([S-])O[C@H]3[C@H]5O[C@H](C)[C@]3(C[O]P(=O)([S-])O[C@H]3[C@H]6O[C@H](C)[C@]3(C[OH])O[C@H]6n3cnc6c(=O)[nH]c(N)nc63)O[C@H]5n3ccc(N)nc3=O)O[C@H]4n3cnc4c(N)ncnc43)O2)c(=O)[nH]c1=O",
         "GCATGAAGATTTCTGG",
         "A431",
         "2.0"
        ],
        [
         "3",
         "RNA1{[cEt](G)[sp].[cEt](G)[sp].[cEt](T)[sp].d(G)[sp].d(A)[sp].d(A)[sp].d(T)[sp].d(A)[sp].d(T)[sp].d(C)[sp].d(T)[sp].d(T)[sp].d(C)[sp].[cEt](A)[sp].[cEt](A)[sp].[cEt](A)}$$$$V2.0",
         "28.0",
         "28.0",
         "KRAS",
         "Cc1cn([C@H]2C[C@H](OP(=O)([S-])[O]C[C@H]3O[C@@H](n4cc(C)c(=O)[nH]c4=O)C[C@@H]3OP(=O)([S-])[O]C[C@H]3O[C@@H](n4ccc(N)nc4=O)C[C@@H]3OP(=O)([S-])[O]C[C@]34O[C@@H](n5cnc6c(N)ncnc65)[C@H](O[C@@H]3C)[C@@H]4OP(=O)([S-])[O]C[C@]34O[C@@H](n5cnc6c(N)ncnc65)[C@H](O[C@@H]3C)[C@@H]4OP(=O)([S-])[O]C[C@]34O[C@@H](n5cnc6c(N)ncnc65)[C@H](O[C@@H]3C)[C@@H]4O)[C@@H](C[O]P(=O)([S-])O[C@H]3C[C@H](n4ccc(N)nc4=O)O[C@@H]3C[O]P(=O)([S-])O[C@H]3C[C@H](n4cc(C)c(=O)[nH]c4=O)O[C@@H]3C[O]P(=O)([S-])O[C@H]3C[C@H](n4cnc5c(N)ncnc54)O[C@@H]3C[O]P(=O)([S-])O[C@H]3C[C@H](n4cc(C)c(=O)[nH]c4=O)O[C@@H]3C[O]P(=O)([S-])O[C@H]3C[C@H](n4cnc5c(N)ncnc54)O[C@@H]3C[O]P(=O)([S-])O[C@H]3C[C@H](n4cnc5c(N)ncnc54)O[C@@H]3C[O]P(=O)([S-])O[C@H]3C[C@H](n4cnc5c(=O)[nH]c(N)nc54)O[C@@H]3C[O]P(=O)([S-])O[C@H]3[C@H]4O[C@H](C)[C@]3(C[O]P(=O)([S-])O[C@H]3[C@H]5O[C@H](C)[C@]3(C[O]P(=O)([S-])O[C@H]3[C@H]6O[C@H](C)[C@]3(C[OH])O[C@H]6n3cnc6c(=O)[nH]c(N)nc63)O[C@H]5n3cnc5c(=O)[nH]c(N)nc53)O[C@H]4n3cc(C)c(=O)[nH]c3=O)O2)c(=O)[nH]c1=O",
         "GGTGAATATCTTCAAA",
         "A431",
         "2.0"
        ],
        [
         "4",
         "RNA1{[cEt](C)[sp].[cEt](A)[sp].[cEt](C)[sp].d(T)[sp].d(T)[sp].d(G)[sp].d(T)[sp].d(A)[sp].d(C)[sp].d(T)[sp].d(A)[sp].d(G)[sp].d(T)[sp].[cEt](A)[sp].[cEt](T)[sp].[cEt](G)}$$$$V2.0",
         "36.0",
         "36.0",
         "KRAS",
         "Cc1cn([C@H]2C[C@H](OP(=O)([S-])[O]C[C@H]3O[C@@H](n4cnc5c(N)ncnc54)C[C@@H]3OP(=O)([S-])[O]C[C@H]3O[C@@H](n4cnc5c(=O)[nH]c(N)nc54)C[C@@H]3OP(=O)([S-])[O]C[C@H]3O[C@@H](n4cc(C)c(=O)[nH]c4=O)C[C@@H]3OP(=O)([S-])[O]C[C@]34O[C@@H](n5cnc6c(N)ncnc65)[C@H](O[C@@H]3C)[C@@H]4OP(=O)([S-])[O]C[C@]34O[C@@H](n5cc(C)c(=O)[nH]c5=O)[C@H](O[C@@H]3C)[C@@H]4OP(=O)([S-])[O]C[C@]34O[C@@H](n5cnc6c(=O)[nH]c(N)nc65)[C@H](O[C@@H]3C)[C@@H]4O)[C@@H](C[O]P(=O)([S-])O[C@H]3C[C@H](n4ccc(N)nc4=O)O[C@@H]3C[O]P(=O)([S-])O[C@H]3C[C@H](n4cnc5c(N)ncnc54)O[C@@H]3C[O]P(=O)([S-])O[C@H]3C[C@H](n4cc(C)c(=O)[nH]c4=O)O[C@@H]3C[O]P(=O)([S-])O[C@H]3C[C@H](n4cnc5c(=O)[nH]c(N)nc54)O[C@@H]3C[O]P(=O)([S-])O[C@H]3C[C@H](n4cc(C)c(=O)[nH]c4=O)O[C@@H]3C[O]P(=O)([S-])O[C@H]3C[C@H](n4cc(C)c(=O)[nH]c4=O)O[C@@H]3C[O]P(=O)([S-])O[C@H]3[C@H]4O[C@H](C)[C@]3(C[O]P(=O)([S-])O[C@H]3[C@H]5O[C@H](C)[C@]3(C[O]P(=O)([S-])O[C@H]3[C@H]6O[C@H](C)[C@]3(C[OH])O[C@H]6n3ccc(N)nc3=O)O[C@H]5n3cnc5c(N)ncnc53)O[C@H]4n3ccc(N)nc3=O)O2)c(=O)[nH]c1=O",
         "CACTTGTACTAGTATG",
         "A431",
         "2.0"
        ]
       ],
       "shape": {
        "columns": 8,
        "rows": 5
       }
      },
      "text/html": [
       "<div>\n",
       "<style scoped>\n",
       "    .dataframe tbody tr th:only-of-type {\n",
       "        vertical-align: middle;\n",
       "    }\n",
       "\n",
       "    .dataframe tbody tr th {\n",
       "        vertical-align: top;\n",
       "    }\n",
       "\n",
       "    .dataframe thead th {\n",
       "        text-align: right;\n",
       "    }\n",
       "</style>\n",
       "<table border=\"1\" class=\"dataframe\">\n",
       "  <thead>\n",
       "    <tr style=\"text-align: right;\">\n",
       "      <th></th>\n",
       "      <th>x</th>\n",
       "      <th>y</th>\n",
       "      <th>y_raw</th>\n",
       "      <th>targets</th>\n",
       "      <th>smiles</th>\n",
       "      <th>fasta</th>\n",
       "      <th>cell_line</th>\n",
       "      <th>concentration</th>\n",
       "    </tr>\n",
       "  </thead>\n",
       "  <tbody>\n",
       "    <tr>\n",
       "      <th>0</th>\n",
       "      <td>RNA1{[cEt](G)[sp].[cEt](C)[sp].[cEt](T)[sp].d(...</td>\n",
       "      <td>33.0</td>\n",
       "      <td>33.0</td>\n",
       "      <td>KRAS</td>\n",
       "      <td>Cc1cn([C@H]2C[C@H](OP(=O)([S-])[O]C[C@H]3O[C@@...</td>\n",
       "      <td>GCTAAAACAAATGCTA</td>\n",
       "      <td>A431</td>\n",
       "      <td>2.0</td>\n",
       "    </tr>\n",
       "    <tr>\n",
       "      <th>1</th>\n",
       "      <td>RNA1{[cEt](T)[sp].[cEt](A)[sp].[cEt](T)[sp].d(...</td>\n",
       "      <td>7.0</td>\n",
       "      <td>7.0</td>\n",
       "      <td>KRAS</td>\n",
       "      <td>Cc1cn([C@H]2C[C@H](OP(=O)([S-])[O]C[C@]34O[C@@...</td>\n",
       "      <td>TATAATGGTGAATATC</td>\n",
       "      <td>A431</td>\n",
       "      <td>2.0</td>\n",
       "    </tr>\n",
       "    <tr>\n",
       "      <th>2</th>\n",
       "      <td>RNA1{[cEt](G)[sp].[cEt](C)[sp].[cEt](A)[sp].d(...</td>\n",
       "      <td>62.0</td>\n",
       "      <td>62.0</td>\n",
       "      <td>KRAS</td>\n",
       "      <td>Cc1cn([C@H]2C[C@H](OP(=O)([S-])[O]C[C@H]3O[C@@...</td>\n",
       "      <td>GCATGAAGATTTCTGG</td>\n",
       "      <td>A431</td>\n",
       "      <td>2.0</td>\n",
       "    </tr>\n",
       "    <tr>\n",
       "      <th>3</th>\n",
       "      <td>RNA1{[cEt](G)[sp].[cEt](G)[sp].[cEt](T)[sp].d(...</td>\n",
       "      <td>28.0</td>\n",
       "      <td>28.0</td>\n",
       "      <td>KRAS</td>\n",
       "      <td>Cc1cn([C@H]2C[C@H](OP(=O)([S-])[O]C[C@H]3O[C@@...</td>\n",
       "      <td>GGTGAATATCTTCAAA</td>\n",
       "      <td>A431</td>\n",
       "      <td>2.0</td>\n",
       "    </tr>\n",
       "    <tr>\n",
       "      <th>4</th>\n",
       "      <td>RNA1{[cEt](C)[sp].[cEt](A)[sp].[cEt](C)[sp].d(...</td>\n",
       "      <td>36.0</td>\n",
       "      <td>36.0</td>\n",
       "      <td>KRAS</td>\n",
       "      <td>Cc1cn([C@H]2C[C@H](OP(=O)([S-])[O]C[C@H]3O[C@@...</td>\n",
       "      <td>CACTTGTACTAGTATG</td>\n",
       "      <td>A431</td>\n",
       "      <td>2.0</td>\n",
       "    </tr>\n",
       "  </tbody>\n",
       "</table>\n",
       "</div>"
      ],
      "text/plain": [
       "                                                   x     y  y_raw targets  \\\n",
       "0  RNA1{[cEt](G)[sp].[cEt](C)[sp].[cEt](T)[sp].d(...  33.0   33.0    KRAS   \n",
       "1  RNA1{[cEt](T)[sp].[cEt](A)[sp].[cEt](T)[sp].d(...   7.0    7.0    KRAS   \n",
       "2  RNA1{[cEt](G)[sp].[cEt](C)[sp].[cEt](A)[sp].d(...  62.0   62.0    KRAS   \n",
       "3  RNA1{[cEt](G)[sp].[cEt](G)[sp].[cEt](T)[sp].d(...  28.0   28.0    KRAS   \n",
       "4  RNA1{[cEt](C)[sp].[cEt](A)[sp].[cEt](C)[sp].d(...  36.0   36.0    KRAS   \n",
       "\n",
       "                                              smiles             fasta  \\\n",
       "0  Cc1cn([C@H]2C[C@H](OP(=O)([S-])[O]C[C@H]3O[C@@...  GCTAAAACAAATGCTA   \n",
       "1  Cc1cn([C@H]2C[C@H](OP(=O)([S-])[O]C[C@]34O[C@@...  TATAATGGTGAATATC   \n",
       "2  Cc1cn([C@H]2C[C@H](OP(=O)([S-])[O]C[C@H]3O[C@@...  GCATGAAGATTTCTGG   \n",
       "3  Cc1cn([C@H]2C[C@H](OP(=O)([S-])[O]C[C@H]3O[C@@...  GGTGAATATCTTCAAA   \n",
       "4  Cc1cn([C@H]2C[C@H](OP(=O)([S-])[O]C[C@H]3O[C@@...  CACTTGTACTAGTATG   \n",
       "\n",
       "  cell_line  concentration  \n",
       "0      A431            2.0  \n",
       "1      A431            2.0  \n",
       "2      A431            2.0  \n",
       "3      A431            2.0  \n",
       "4      A431            2.0  "
      ]
     },
     "execution_count": 8,
     "metadata": {},
     "output_type": "execute_result"
    }
   ],
   "source": [
    "dataset = downloader.download(dataset_key=\"ASOptimizer\", verbose=1)\n",
    "dataset.data.head()"
   ]
  },
  {
   "cell_type": "code",
   "execution_count": 9,
   "metadata": {},
   "outputs": [
    {
     "data": {
      "text/plain": [
       "array(['RNA1{[cEt](G)[sp].[cEt](C)[sp].[cEt](T)[sp].d(A)[sp].d(A)[sp].d(A)[sp].d(A)[sp].d(C)[sp].d(A)[sp].d(A)[sp].d(A)[sp].d(T)[sp].d(G)[sp].[cEt](C)[sp].[cEt](T)[sp].[cEt](A)}$$$$V2.0',\n",
       "       'RNA1{[cEt](T)[sp].[cEt](A)[sp].[cEt](T)[sp].d(A)[sp].d(A)[sp].d(T)[sp].d(G)[sp].d(G)[sp].d(T)[sp].d(G)[sp].d(A)[sp].d(A)[sp].d(T)[sp].[cEt](A)[sp].[cEt](T)[sp].[cEt](C)}$$$$V2.0',\n",
       "       'RNA1{[cEt](G)[sp].[cEt](C)[sp].[cEt](A)[sp].d(T)[sp].d(G)[sp].d(A)[sp].d(A)[sp].d(G)[sp].d(A)[sp].d(T)[sp].d(T)[sp].d(T)[sp].d(C)[sp].[cEt](T)[sp].[cEt](G)[sp].[cEt](G)}$$$$V2.0',\n",
       "       'RNA1{[cEt](G)[sp].[cEt](G)[sp].[cEt](T)[sp].d(G)[sp].d(A)[sp].d(A)[sp].d(T)[sp].d(A)[sp].d(T)[sp].d(C)[sp].d(T)[sp].d(T)[sp].d(C)[sp].[cEt](A)[sp].[cEt](A)[sp].[cEt](A)}$$$$V2.0',\n",
       "       'RNA1{[cEt](C)[sp].[cEt](A)[sp].[cEt](C)[sp].d(T)[sp].d(T)[sp].d(G)[sp].d(T)[sp].d(A)[sp].d(C)[sp].d(T)[sp].d(A)[sp].d(G)[sp].d(T)[sp].[cEt](A)[sp].[cEt](T)[sp].[cEt](G)}$$$$V2.0'],\n",
       "      dtype=object)"
      ]
     },
     "execution_count": 9,
     "metadata": {},
     "output_type": "execute_result"
    }
   ],
   "source": [
    "dataset.x[:5]"
   ]
  },
  {
   "cell_type": "code",
   "execution_count": 10,
   "metadata": {},
   "outputs": [
    {
     "data": {
      "text/plain": [
       "array([33.,  7., 62., 28., 36.])"
      ]
     },
     "execution_count": 10,
     "metadata": {},
     "output_type": "execute_result"
    }
   ],
   "source": [
    "dataset.y[:5]"
   ]
  },
  {
   "cell_type": "code",
   "execution_count": 11,
   "metadata": {},
   "outputs": [
    {
     "data": {
      "text/plain": [
       "array(['KRAS', 'KRAS', 'KRAS', 'KRAS', 'KRAS'], dtype=object)"
      ]
     },
     "execution_count": 11,
     "metadata": {},
     "output_type": "execute_result"
    }
   ],
   "source": [
    "dataset.targets[:5]"
   ]
  },
  {
   "cell_type": "markdown",
   "metadata": {},
   "source": [
    "## Explore dataset statistics\n",
    "\n",
    "The function .get_helm_stats() and .get_label_stats() can be called from the Dataset object to calculate basic statistics for the helm sequences and the task labels respectively. The .get_helm_stats() have a 'format' argument that can take either 'aggregate' or 'individual' as input to display the statistics for the whole dataset or for individual helm sequences. There is an argument cosine_dist, which default to False. If set to True, this calculate the cosine distance for each helm sequence to it's nearest neighbor in the list based on kmer frequency counts. This can be slow for larger dataset like sherwood.\n",
    "\n",
    "The .get_label_stats() determine the type of labels in the dataset directly from the Dataset 'task' attribute and display the relevant statistics for specific tasks."
   ]
  },
  {
   "cell_type": "code",
   "execution_count": 12,
   "metadata": {},
   "outputs": [
    {
     "data": {
      "application/vnd.microsoft.datawrangler.viewer.v0+json": {
       "columns": [
        {
         "name": "index",
         "rawType": "int64",
         "type": "integer"
        },
        {
         "name": "avg_nt_seq_len",
         "rawType": "float64",
         "type": "float"
        },
        {
         "name": "combined_unique_monomers",
         "rawType": "object",
         "type": "unknown"
        },
        {
         "name": "avg_GC_content",
         "rawType": "float64",
         "type": "float"
        },
        {
         "name": "avg_G_content",
         "rawType": "float64",
         "type": "float"
        },
        {
         "name": "avg_C_content",
         "rawType": "float64",
         "type": "float"
        },
        {
         "name": "avg_A_content",
         "rawType": "float64",
         "type": "float"
        },
        {
         "name": "avg_TU_content",
         "rawType": "float64",
         "type": "float"
        },
        {
         "name": "num_duplicates",
         "rawType": "int64",
         "type": "integer"
        }
       ],
       "conversionMethod": "pd.DataFrame",
       "ref": "3d5864b7-7cad-46e0-9e00-68d617f6483d",
       "rows": [
        [
         "0",
         "16.77992147720999",
         "['A', 'C', 'G', 'T', 'U', 'amino', 'cEt', 'd', 'lna', 'm', 'moe', 'mop', 'p', 'sp']",
         "43.216327166356564",
         "20.989968218352704",
         "32.72134305718021",
         "27.003002213469912",
         "29.780670620173527",
         "11853"
        ]
       ],
       "shape": {
        "columns": 8,
        "rows": 1
       }
      },
      "text/html": [
       "<div>\n",
       "<style scoped>\n",
       "    .dataframe tbody tr th:only-of-type {\n",
       "        vertical-align: middle;\n",
       "    }\n",
       "\n",
       "    .dataframe tbody tr th {\n",
       "        vertical-align: top;\n",
       "    }\n",
       "\n",
       "    .dataframe thead th {\n",
       "        text-align: right;\n",
       "    }\n",
       "</style>\n",
       "<table border=\"1\" class=\"dataframe\">\n",
       "  <thead>\n",
       "    <tr style=\"text-align: right;\">\n",
       "      <th></th>\n",
       "      <th>avg_nt_seq_len</th>\n",
       "      <th>combined_unique_monomers</th>\n",
       "      <th>avg_GC_content</th>\n",
       "      <th>avg_G_content</th>\n",
       "      <th>avg_C_content</th>\n",
       "      <th>avg_A_content</th>\n",
       "      <th>avg_TU_content</th>\n",
       "      <th>num_duplicates</th>\n",
       "    </tr>\n",
       "  </thead>\n",
       "  <tbody>\n",
       "    <tr>\n",
       "      <th>0</th>\n",
       "      <td>16.779921</td>\n",
       "      <td>[A, C, G, T, U, amino, cEt, d, lna, m, moe, mo...</td>\n",
       "      <td>43.216327</td>\n",
       "      <td>20.989968</td>\n",
       "      <td>32.721343</td>\n",
       "      <td>27.003002</td>\n",
       "      <td>29.780671</td>\n",
       "      <td>11853</td>\n",
       "    </tr>\n",
       "  </tbody>\n",
       "</table>\n",
       "</div>"
      ],
      "text/plain": [
       "   avg_nt_seq_len                           combined_unique_monomers  \\\n",
       "0       16.779921  [A, C, G, T, U, amino, cEt, d, lna, m, moe, mo...   \n",
       "\n",
       "   avg_GC_content  avg_G_content  avg_C_content  avg_A_content  \\\n",
       "0       43.216327      20.989968      32.721343      27.003002   \n",
       "\n",
       "   avg_TU_content  num_duplicates  \n",
       "0       29.780671           11853  "
      ]
     },
     "execution_count": 12,
     "metadata": {},
     "output_type": "execute_result"
    }
   ],
   "source": [
    "dataset_helm_stats = dataset.get_helm_stats(format='aggregate')\n",
    "dataset_helm_stats"
   ]
  },
  {
   "cell_type": "code",
   "execution_count": 13,
   "metadata": {},
   "outputs": [
    {
     "data": {
      "application/vnd.microsoft.datawrangler.viewer.v0+json": {
       "columns": [
        {
         "name": "index",
         "rawType": "int64",
         "type": "integer"
        },
        {
         "name": "RNA1_nt_seq_len",
         "rawType": "int64",
         "type": "integer"
        },
        {
         "name": "RNA1_unique_monomers",
         "rawType": "object",
         "type": "unknown"
        },
        {
         "name": "RNA1_GC_content",
         "rawType": "float64",
         "type": "float"
        },
        {
         "name": "RNA1_G_content",
         "rawType": "float64",
         "type": "float"
        },
        {
         "name": "RNA1_C_content",
         "rawType": "float64",
         "type": "float"
        },
        {
         "name": "RNA1_A_content",
         "rawType": "float64",
         "type": "float"
        },
        {
         "name": "RNA1_TU_content",
         "rawType": "float64",
         "type": "float"
        },
        {
         "name": "RNA1_xna_base",
         "rawType": "object",
         "type": "string"
        },
        {
         "name": "RNA1_xna_sugar",
         "rawType": "object",
         "type": "string"
        },
        {
         "name": "RNA1_xna_phosphate",
         "rawType": "object",
         "type": "string"
        },
        {
         "name": "uniqueness",
         "rawType": "float64",
         "type": "float"
        }
       ],
       "conversionMethod": "pd.DataFrame",
       "ref": "dcacccd7-758c-4f3b-b685-f5ce4d4191be",
       "rows": [
        [
         "0",
         "16",
         "['C', 'G', 'A', 'T', 'd', 'cEt', 'sp']",
         "31.25",
         "12.5",
         "18.75",
         "50.0",
         "18.75",
         "G.C.T.A.A.A.A.C.A.A.A.T.G.C.T.A",
         "cEt.cEt.cEt.d.d.d.d.d.d.d.d.d.d.cEt.cEt.cEt",
         "sp.sp.sp.sp.sp.sp.sp.sp.sp.sp.sp.sp.sp.sp.sp.",
         "1.0"
        ],
        [
         "1",
         "16",
         "['C', 'G', 'A', 'T', 'd', 'cEt', 'sp']",
         "25.0",
         "18.75",
         "6.25",
         "37.5",
         "37.5",
         "T.A.T.A.A.T.G.G.T.G.A.A.T.A.T.C",
         "cEt.cEt.cEt.d.d.d.d.d.d.d.d.d.d.cEt.cEt.cEt",
         "sp.sp.sp.sp.sp.sp.sp.sp.sp.sp.sp.sp.sp.sp.sp.",
         "1.0"
        ],
        [
         "2",
         "16",
         "['C', 'T', 'G', 'A', 'd', 'cEt', 'sp']",
         "43.75",
         "31.25",
         "12.5",
         "25.0",
         "31.25",
         "G.C.A.T.G.A.A.G.A.T.T.T.C.T.G.G",
         "cEt.cEt.cEt.d.d.d.d.d.d.d.d.d.d.cEt.cEt.cEt",
         "sp.sp.sp.sp.sp.sp.sp.sp.sp.sp.sp.sp.sp.sp.sp.",
         "1.0"
        ],
        [
         "3",
         "16",
         "['C', 'G', 'A', 'T', 'd', 'cEt', 'sp']",
         "31.25",
         "18.75",
         "12.5",
         "37.5",
         "31.25",
         "G.G.T.G.A.A.T.A.T.C.T.T.C.A.A.A",
         "cEt.cEt.cEt.d.d.d.d.d.d.d.d.d.d.cEt.cEt.cEt",
         "sp.sp.sp.sp.sp.sp.sp.sp.sp.sp.sp.sp.sp.sp.sp.",
         "1.0"
        ],
        [
         "4",
         "16",
         "['T', 'C', 'G', 'A', 'd', 'cEt', 'sp']",
         "37.5",
         "18.75",
         "18.75",
         "25.0",
         "37.5",
         "C.A.C.T.T.G.T.A.C.T.A.G.T.A.T.G",
         "cEt.cEt.cEt.d.d.d.d.d.d.d.d.d.d.cEt.cEt.cEt",
         "sp.sp.sp.sp.sp.sp.sp.sp.sp.sp.sp.sp.sp.sp.sp.",
         "1.0"
        ]
       ],
       "shape": {
        "columns": 11,
        "rows": 5
       }
      },
      "text/html": [
       "<div>\n",
       "<style scoped>\n",
       "    .dataframe tbody tr th:only-of-type {\n",
       "        vertical-align: middle;\n",
       "    }\n",
       "\n",
       "    .dataframe tbody tr th {\n",
       "        vertical-align: top;\n",
       "    }\n",
       "\n",
       "    .dataframe thead th {\n",
       "        text-align: right;\n",
       "    }\n",
       "</style>\n",
       "<table border=\"1\" class=\"dataframe\">\n",
       "  <thead>\n",
       "    <tr style=\"text-align: right;\">\n",
       "      <th></th>\n",
       "      <th>RNA1_nt_seq_len</th>\n",
       "      <th>RNA1_unique_monomers</th>\n",
       "      <th>RNA1_GC_content</th>\n",
       "      <th>RNA1_G_content</th>\n",
       "      <th>RNA1_C_content</th>\n",
       "      <th>RNA1_A_content</th>\n",
       "      <th>RNA1_TU_content</th>\n",
       "      <th>RNA1_xna_base</th>\n",
       "      <th>RNA1_xna_sugar</th>\n",
       "      <th>RNA1_xna_phosphate</th>\n",
       "      <th>uniqueness</th>\n",
       "    </tr>\n",
       "  </thead>\n",
       "  <tbody>\n",
       "    <tr>\n",
       "      <th>0</th>\n",
       "      <td>16</td>\n",
       "      <td>[C, G, A, T, d, cEt, sp]</td>\n",
       "      <td>31.25</td>\n",
       "      <td>12.50</td>\n",
       "      <td>18.75</td>\n",
       "      <td>50.0</td>\n",
       "      <td>18.75</td>\n",
       "      <td>G.C.T.A.A.A.A.C.A.A.A.T.G.C.T.A</td>\n",
       "      <td>cEt.cEt.cEt.d.d.d.d.d.d.d.d.d.d.cEt.cEt.cEt</td>\n",
       "      <td>sp.sp.sp.sp.sp.sp.sp.sp.sp.sp.sp.sp.sp.sp.sp.</td>\n",
       "      <td>1.0</td>\n",
       "    </tr>\n",
       "    <tr>\n",
       "      <th>1</th>\n",
       "      <td>16</td>\n",
       "      <td>[C, G, A, T, d, cEt, sp]</td>\n",
       "      <td>25.00</td>\n",
       "      <td>18.75</td>\n",
       "      <td>6.25</td>\n",
       "      <td>37.5</td>\n",
       "      <td>37.50</td>\n",
       "      <td>T.A.T.A.A.T.G.G.T.G.A.A.T.A.T.C</td>\n",
       "      <td>cEt.cEt.cEt.d.d.d.d.d.d.d.d.d.d.cEt.cEt.cEt</td>\n",
       "      <td>sp.sp.sp.sp.sp.sp.sp.sp.sp.sp.sp.sp.sp.sp.sp.</td>\n",
       "      <td>1.0</td>\n",
       "    </tr>\n",
       "    <tr>\n",
       "      <th>2</th>\n",
       "      <td>16</td>\n",
       "      <td>[C, T, G, A, d, cEt, sp]</td>\n",
       "      <td>43.75</td>\n",
       "      <td>31.25</td>\n",
       "      <td>12.50</td>\n",
       "      <td>25.0</td>\n",
       "      <td>31.25</td>\n",
       "      <td>G.C.A.T.G.A.A.G.A.T.T.T.C.T.G.G</td>\n",
       "      <td>cEt.cEt.cEt.d.d.d.d.d.d.d.d.d.d.cEt.cEt.cEt</td>\n",
       "      <td>sp.sp.sp.sp.sp.sp.sp.sp.sp.sp.sp.sp.sp.sp.sp.</td>\n",
       "      <td>1.0</td>\n",
       "    </tr>\n",
       "    <tr>\n",
       "      <th>3</th>\n",
       "      <td>16</td>\n",
       "      <td>[C, G, A, T, d, cEt, sp]</td>\n",
       "      <td>31.25</td>\n",
       "      <td>18.75</td>\n",
       "      <td>12.50</td>\n",
       "      <td>37.5</td>\n",
       "      <td>31.25</td>\n",
       "      <td>G.G.T.G.A.A.T.A.T.C.T.T.C.A.A.A</td>\n",
       "      <td>cEt.cEt.cEt.d.d.d.d.d.d.d.d.d.d.cEt.cEt.cEt</td>\n",
       "      <td>sp.sp.sp.sp.sp.sp.sp.sp.sp.sp.sp.sp.sp.sp.sp.</td>\n",
       "      <td>1.0</td>\n",
       "    </tr>\n",
       "    <tr>\n",
       "      <th>4</th>\n",
       "      <td>16</td>\n",
       "      <td>[T, C, G, A, d, cEt, sp]</td>\n",
       "      <td>37.50</td>\n",
       "      <td>18.75</td>\n",
       "      <td>18.75</td>\n",
       "      <td>25.0</td>\n",
       "      <td>37.50</td>\n",
       "      <td>C.A.C.T.T.G.T.A.C.T.A.G.T.A.T.G</td>\n",
       "      <td>cEt.cEt.cEt.d.d.d.d.d.d.d.d.d.d.cEt.cEt.cEt</td>\n",
       "      <td>sp.sp.sp.sp.sp.sp.sp.sp.sp.sp.sp.sp.sp.sp.sp.</td>\n",
       "      <td>1.0</td>\n",
       "    </tr>\n",
       "  </tbody>\n",
       "</table>\n",
       "</div>"
      ],
      "text/plain": [
       "   RNA1_nt_seq_len      RNA1_unique_monomers  RNA1_GC_content  RNA1_G_content  \\\n",
       "0               16  [C, G, A, T, d, cEt, sp]            31.25           12.50   \n",
       "1               16  [C, G, A, T, d, cEt, sp]            25.00           18.75   \n",
       "2               16  [C, T, G, A, d, cEt, sp]            43.75           31.25   \n",
       "3               16  [C, G, A, T, d, cEt, sp]            31.25           18.75   \n",
       "4               16  [T, C, G, A, d, cEt, sp]            37.50           18.75   \n",
       "\n",
       "   RNA1_C_content  RNA1_A_content  RNA1_TU_content  \\\n",
       "0           18.75            50.0            18.75   \n",
       "1            6.25            37.5            37.50   \n",
       "2           12.50            25.0            31.25   \n",
       "3           12.50            37.5            31.25   \n",
       "4           18.75            25.0            37.50   \n",
       "\n",
       "                     RNA1_xna_base  \\\n",
       "0  G.C.T.A.A.A.A.C.A.A.A.T.G.C.T.A   \n",
       "1  T.A.T.A.A.T.G.G.T.G.A.A.T.A.T.C   \n",
       "2  G.C.A.T.G.A.A.G.A.T.T.T.C.T.G.G   \n",
       "3  G.G.T.G.A.A.T.A.T.C.T.T.C.A.A.A   \n",
       "4  C.A.C.T.T.G.T.A.C.T.A.G.T.A.T.G   \n",
       "\n",
       "                                RNA1_xna_sugar  \\\n",
       "0  cEt.cEt.cEt.d.d.d.d.d.d.d.d.d.d.cEt.cEt.cEt   \n",
       "1  cEt.cEt.cEt.d.d.d.d.d.d.d.d.d.d.cEt.cEt.cEt   \n",
       "2  cEt.cEt.cEt.d.d.d.d.d.d.d.d.d.d.cEt.cEt.cEt   \n",
       "3  cEt.cEt.cEt.d.d.d.d.d.d.d.d.d.d.cEt.cEt.cEt   \n",
       "4  cEt.cEt.cEt.d.d.d.d.d.d.d.d.d.d.cEt.cEt.cEt   \n",
       "\n",
       "                              RNA1_xna_phosphate  uniqueness  \n",
       "0  sp.sp.sp.sp.sp.sp.sp.sp.sp.sp.sp.sp.sp.sp.sp.         1.0  \n",
       "1  sp.sp.sp.sp.sp.sp.sp.sp.sp.sp.sp.sp.sp.sp.sp.         1.0  \n",
       "2  sp.sp.sp.sp.sp.sp.sp.sp.sp.sp.sp.sp.sp.sp.sp.         1.0  \n",
       "3  sp.sp.sp.sp.sp.sp.sp.sp.sp.sp.sp.sp.sp.sp.sp.         1.0  \n",
       "4  sp.sp.sp.sp.sp.sp.sp.sp.sp.sp.sp.sp.sp.sp.sp.         1.0  "
      ]
     },
     "execution_count": 13,
     "metadata": {},
     "output_type": "execute_result"
    }
   ],
   "source": [
    "dataset_helm_stats = dataset.get_helm_stats(format='individual')\n",
    "dataset_helm_stats.head()"
   ]
  },
  {
   "cell_type": "code",
   "execution_count": 14,
   "metadata": {},
   "outputs": [
    {
     "data": {
      "application/vnd.microsoft.datawrangler.viewer.v0+json": {
       "columns": [
        {
         "name": "index",
         "rawType": "int64",
         "type": "integer"
        },
        {
         "name": "nobs",
         "rawType": "int64",
         "type": "integer"
        },
        {
         "name": "minmax",
         "rawType": "object",
         "type": "unknown"
        },
        {
         "name": "mean",
         "rawType": "float64",
         "type": "float"
        },
        {
         "name": "variance",
         "rawType": "float64",
         "type": "float"
        },
        {
         "name": "skewness",
         "rawType": "float64",
         "type": "float"
        },
        {
         "name": "kurtosis",
         "rawType": "float64",
         "type": "float"
        },
        {
         "name": "num_zeros",
         "rawType": "int64",
         "type": "integer"
        }
       ],
       "conversionMethod": "pd.DataFrame",
       "ref": "3e671326-de4e-4332-82e2-ed47b47b82fb",
       "rows": [
        [
         "0",
         "32602",
         "(0.0, 100.0)",
         "45.37804797193773",
         "810.9479452601888",
         "0.04464719844991161",
         "-1.0589660885330823",
         "2451"
        ]
       ],
       "shape": {
        "columns": 7,
        "rows": 1
       }
      },
      "text/html": [
       "<div>\n",
       "<style scoped>\n",
       "    .dataframe tbody tr th:only-of-type {\n",
       "        vertical-align: middle;\n",
       "    }\n",
       "\n",
       "    .dataframe tbody tr th {\n",
       "        vertical-align: top;\n",
       "    }\n",
       "\n",
       "    .dataframe thead th {\n",
       "        text-align: right;\n",
       "    }\n",
       "</style>\n",
       "<table border=\"1\" class=\"dataframe\">\n",
       "  <thead>\n",
       "    <tr style=\"text-align: right;\">\n",
       "      <th></th>\n",
       "      <th>nobs</th>\n",
       "      <th>minmax</th>\n",
       "      <th>mean</th>\n",
       "      <th>variance</th>\n",
       "      <th>skewness</th>\n",
       "      <th>kurtosis</th>\n",
       "      <th>num_zeros</th>\n",
       "    </tr>\n",
       "  </thead>\n",
       "  <tbody>\n",
       "    <tr>\n",
       "      <th>0</th>\n",
       "      <td>32602</td>\n",
       "      <td>(0.0, 100.0)</td>\n",
       "      <td>45.378048</td>\n",
       "      <td>810.947945</td>\n",
       "      <td>0.044647</td>\n",
       "      <td>-1.058966</td>\n",
       "      <td>2451</td>\n",
       "    </tr>\n",
       "  </tbody>\n",
       "</table>\n",
       "</div>"
      ],
      "text/plain": [
       "    nobs        minmax       mean    variance  skewness  kurtosis  num_zeros\n",
       "0  32602  (0.0, 100.0)  45.378048  810.947945  0.044647 -1.058966       2451"
      ]
     },
     "execution_count": 14,
     "metadata": {},
     "output_type": "execute_result"
    }
   ],
   "source": [
    "dataset.get_label_stats()"
   ]
  },
  {
   "cell_type": "markdown",
   "metadata": {},
   "source": [
    "## Splitting datasets\n",
    "\n",
    "The Dataset class has a function to split dataset into train and test set using different strategies, namely: \n",
    "* Random: Random splitting of dataset\n",
    "* Stratified: Split classification dataset so that the labels distribution are the same for train and test.\n",
    "* Target: Split dataset with targets labels so that each set contain data from different group of mRNA targets\n",
    "* Backbone: Split dataset based on ribose and phosphate pattern \n",
    "* Nucleobase: Split dataset based on k-mer frequency counts of each HELM sequences.\n",
    "\n",
    "The function determine the splitting strategy from the ```rec_split``` attribute by default.This can be override by using the ```split_strategy``` argument. The ```return_index=True``` argument can be used to retrieve the train, test and val index if needed. By default the test_size is 20% of the data but this can also be specified."
   ]
  },
  {
   "cell_type": "code",
   "execution_count": 15,
   "metadata": {},
   "outputs": [],
   "source": [
    "X_train, X_test, y_train, y_test, train_idx, test_idx = dataset.split(return_index=True, test_size=0.3)"
   ]
  },
  {
   "cell_type": "code",
   "execution_count": 16,
   "metadata": {},
   "outputs": [
    {
     "name": "stdout",
     "output_type": "stream",
     "text": [
      "Train size: 22821\n",
      "Test size: 9781\n"
     ]
    }
   ],
   "source": [
    "print(f\"Train size: {len(X_train)}\")\n",
    "print(f\"Test size: {len(X_test)}\")"
   ]
  },
  {
   "cell_type": "markdown",
   "metadata": {},
   "source": [
    "### Overriding the default split strategy with \"Target\" split"
   ]
  },
  {
   "cell_type": "code",
   "execution_count": 17,
   "metadata": {},
   "outputs": [],
   "source": [
    "X_train, X_test, y_train, y_test, train_idx, test_idx = dataset.split(split_strategy='Target',return_index=True)"
   ]
  },
  {
   "cell_type": "code",
   "execution_count": 18,
   "metadata": {},
   "outputs": [
    {
     "name": "stdout",
     "output_type": "stream",
     "text": [
      "Train targets\n",
      "{'HSD17B13', 'APOL1', 'SNHG14', 'MALAT1', 'KLKB1', 'ANGPTL2', 'KRAS', 'MAPT', 'HTRA1', 'IRF5', 'IRF4', 'SOD1', 'negative_control', 'HBV'}\n"
     ]
    }
   ],
   "source": [
    "print('Train targets')\n",
    "print(set(dataset.targets[train_idx]))"
   ]
  },
  {
   "cell_type": "code",
   "execution_count": 19,
   "metadata": {},
   "outputs": [
    {
     "name": "stdout",
     "output_type": "stream",
     "text": [
      "Test targets\n",
      "{'MYH7', 'DGAT2', 'YAP1', 'HIF1A'}\n"
     ]
    }
   ],
   "source": [
    "print('Test targets')\n",
    "print(set(dataset.targets[test_idx]))"
   ]
  },
  {
   "cell_type": "markdown",
   "metadata": {},
   "source": [
    "### Calling each splitting function directly from the split module"
   ]
  },
  {
   "cell_type": "code",
   "execution_count": 20,
   "metadata": {},
   "outputs": [],
   "source": [
    "from oligogym.split import backbone_split"
   ]
  },
  {
   "cell_type": "code",
   "execution_count": 21,
   "metadata": {},
   "outputs": [],
   "source": [
    "X_train, X_test, y_train, y_test, train_idx, test_idx = backbone_split(dataset.x,dataset.y,test_size=0.2,return_index=True)"
   ]
  },
  {
   "cell_type": "code",
   "execution_count": 22,
   "metadata": {},
   "outputs": [
    {
     "name": "stdout",
     "output_type": "stream",
     "text": [
      "Train size: 29475\n",
      "Test size: 3127\n"
     ]
    }
   ],
   "source": [
    "print(f\"Train size: {len(X_train)}\")\n",
    "print(f\"Test size: {len(X_test)}\")"
   ]
  },
  {
   "cell_type": "markdown",
   "metadata": {},
   "source": [
    "### val_size argument can be used to do train/test/validation split"
   ]
  },
  {
   "cell_type": "code",
   "execution_count": 23,
   "metadata": {},
   "outputs": [],
   "source": [
    "X_train, X_val, X_test, y_train, y_val, y_test = dataset.split(return_index=False,test_size=0.2,val_size=0.1)"
   ]
  },
  {
   "cell_type": "code",
   "execution_count": 24,
   "metadata": {},
   "outputs": [
    {
     "name": "stdout",
     "output_type": "stream",
     "text": [
      "Train size: 22821\n",
      "Validation size: 6520\n",
      "Test size: 3261\n"
     ]
    }
   ],
   "source": [
    "print(f\"Train size: {len(X_train)}\")\n",
    "print(f\"Validation size: {len(X_val)}\")\n",
    "print(f\"Test size: {len(X_test)}\")"
   ]
  }
 ],
 "metadata": {
  "kernelspec": {
   "display_name": ".venv",
   "language": "python",
   "name": "python3"
  },
  "language_info": {
   "codemirror_mode": {
    "name": "ipython",
    "version": 3
   },
   "file_extension": ".py",
   "mimetype": "text/x-python",
   "name": "python",
   "nbconvert_exporter": "python",
   "pygments_lexer": "ipython3",
   "version": "3.11.4"
  }
 },
 "nbformat": 4,
 "nbformat_minor": 2
}
