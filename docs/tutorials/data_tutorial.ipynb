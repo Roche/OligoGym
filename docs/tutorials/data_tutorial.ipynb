{
 "cells": [
  {
   "cell_type": "markdown",
   "metadata": {},
   "source": [
    "# Working with Dataset object in OligoGym\n",
    "\n",
    "The OligoGym.data module several custom classes for working with oligonucleotide datasets.\n"
   ]
  },
  {
   "cell_type": "code",
   "execution_count": 1,
   "metadata": {},
   "outputs": [],
   "source": [
    "import pandas as pd\n",
    "import json\n",
    "\n",
    "from oligogym.data import Dataset, DatasetDownloader"
   ]
  },
  {
   "cell_type": "markdown",
   "metadata": {},
   "source": [
    "## Working with your own dataset"
   ]
  },
  {
   "cell_type": "code",
   "execution_count": 2,
   "metadata": {},
   "outputs": [
    {
     "data": {
      "text/html": [
       "<div>\n",
       "<style scoped>\n",
       "    .dataframe tbody tr th:only-of-type {\n",
       "        vertical-align: middle;\n",
       "    }\n",
       "\n",
       "    .dataframe tbody tr th {\n",
       "        vertical-align: top;\n",
       "    }\n",
       "\n",
       "    .dataframe thead th {\n",
       "        text-align: right;\n",
       "    }\n",
       "</style>\n",
       "<table border=\"1\" class=\"dataframe\">\n",
       "  <thead>\n",
       "    <tr style=\"text-align: right;\">\n",
       "      <th></th>\n",
       "      <th>x</th>\n",
       "      <th>y</th>\n",
       "      <th>targets</th>\n",
       "    </tr>\n",
       "  </thead>\n",
       "  <tbody>\n",
       "    <tr>\n",
       "      <th>0</th>\n",
       "      <td>RNA1{r(A)p.r(A)p.r(A)p.r(U)p.r(C)p.r(A)p.r(A)p...</td>\n",
       "      <td>46.2</td>\n",
       "      <td>BD135193</td>\n",
       "    </tr>\n",
       "    <tr>\n",
       "      <th>1</th>\n",
       "      <td>RNA1{r(A)p.r(U)p.r(A)p.r(A)p.r(A)p.r(U)p.r(C)p...</td>\n",
       "      <td>38.4</td>\n",
       "      <td>BD135193</td>\n",
       "    </tr>\n",
       "    <tr>\n",
       "      <th>2</th>\n",
       "      <td>RNA1{r(G)p.r(A)p.r(A)p.r(A)p.r(G)p.r(G)p.r(A)p...</td>\n",
       "      <td>51.4</td>\n",
       "      <td>BD135193</td>\n",
       "    </tr>\n",
       "    <tr>\n",
       "      <th>3</th>\n",
       "      <td>RNA1{r(A)p.r(U)p.r(A)p.r(A)p.r(A)p.r(A)p.r(U)p...</td>\n",
       "      <td>36.4</td>\n",
       "      <td>BD135193</td>\n",
       "    </tr>\n",
       "    <tr>\n",
       "      <th>4</th>\n",
       "      <td>RNA1{r(C)p.r(U)p.r(U)p.r(A)p.r(U)p.r(U)p.r(U)p...</td>\n",
       "      <td>52.2</td>\n",
       "      <td>BD135193</td>\n",
       "    </tr>\n",
       "  </tbody>\n",
       "</table>\n",
       "</div>"
      ],
      "text/plain": [
       "                                                   x     y   targets\n",
       "0  RNA1{r(A)p.r(A)p.r(A)p.r(U)p.r(C)p.r(A)p.r(A)p...  46.2  BD135193\n",
       "1  RNA1{r(A)p.r(U)p.r(A)p.r(A)p.r(A)p.r(U)p.r(C)p...  38.4  BD135193\n",
       "2  RNA1{r(G)p.r(A)p.r(A)p.r(A)p.r(G)p.r(G)p.r(A)p...  51.4  BD135193\n",
       "3  RNA1{r(A)p.r(U)p.r(A)p.r(A)p.r(A)p.r(A)p.r(U)p...  36.4  BD135193\n",
       "4  RNA1{r(C)p.r(U)p.r(U)p.r(A)p.r(U)p.r(U)p.r(U)p...  52.2  BD135193"
      ]
     },
     "execution_count": 2,
     "metadata": {},
     "output_type": "execute_result"
    }
   ],
   "source": [
    "example_data = pd.read_csv('../data/example_data.csv')\n",
    "example_data.head()"
   ]
  },
  {
   "cell_type": "code",
   "execution_count": 3,
   "metadata": {},
   "outputs": [],
   "source": [
    "x = example_data.x\n",
    "y = example_data.y\n",
    "targets = example_data.targets"
   ]
  },
  {
   "cell_type": "code",
   "execution_count": 4,
   "metadata": {},
   "outputs": [
    {
     "data": {
      "text/plain": [
       "{'name': 'Ichihara_2007_1',\n",
       " 'desc': 'A precurated collection of unmodified siRNA potency data. The dataset can be split into two. Ichihara_2007_1 is a dataset from Huesken_2005 of siRNA screen using GFP reporter assay.',\n",
       " 'modality': 'siRNA',\n",
       " 'size': 2431,\n",
       " 'label_desc': 'Percentage inhibition relative to control using an eCFP-eYFP dual reporter assay.',\n",
       " 'model_system': 'In vitro',\n",
       " 'collection': 'Potency',\n",
       " 'num_targets': 30,\n",
       " 'task': 'Regression',\n",
       " 'rec_split': 'Nucleobase',\n",
       " 'rec_metric': 'Spearmanr',\n",
       " 'featurizers': ['OneHotEncoder', 'KMerCounts'],\n",
       " 'source': 'https://doi.org/10.1093/nar/gkm699'}"
      ]
     },
     "execution_count": 4,
     "metadata": {},
     "output_type": "execute_result"
    }
   ],
   "source": [
    "f = open('../data/example_data.json')\n",
    "example_json = json.load(f)\n",
    "example_json"
   ]
  },
  {
   "cell_type": "markdown",
   "metadata": {},
   "source": [
    "### Building Dataset() object\n",
    "\n",
    "* you can simply build a dataset by first creating a Dataset object on your json file. This can either be a path to the json file or a dictionary\n",
    "* the Dataset object read the content in the json file and store it as attribute\n",
    "* you can call build(x,y,targets) to store the information in the Dataset object as pandas dataframe"
   ]
  },
  {
   "cell_type": "code",
   "execution_count": 5,
   "metadata": {},
   "outputs": [
    {
     "data": {
      "text/html": [
       "<div>\n",
       "<style scoped>\n",
       "    .dataframe tbody tr th:only-of-type {\n",
       "        vertical-align: middle;\n",
       "    }\n",
       "\n",
       "    .dataframe tbody tr th {\n",
       "        vertical-align: top;\n",
       "    }\n",
       "\n",
       "    .dataframe thead th {\n",
       "        text-align: right;\n",
       "    }\n",
       "</style>\n",
       "<table border=\"1\" class=\"dataframe\">\n",
       "  <thead>\n",
       "    <tr style=\"text-align: right;\">\n",
       "      <th></th>\n",
       "      <th>x</th>\n",
       "      <th>y</th>\n",
       "      <th>targets</th>\n",
       "    </tr>\n",
       "  </thead>\n",
       "  <tbody>\n",
       "    <tr>\n",
       "      <th>0</th>\n",
       "      <td>RNA1{r(A)p.r(A)p.r(A)p.r(U)p.r(C)p.r(A)p.r(A)p...</td>\n",
       "      <td>46.2</td>\n",
       "      <td>BD135193</td>\n",
       "    </tr>\n",
       "    <tr>\n",
       "      <th>1</th>\n",
       "      <td>RNA1{r(A)p.r(U)p.r(A)p.r(A)p.r(A)p.r(U)p.r(C)p...</td>\n",
       "      <td>38.4</td>\n",
       "      <td>BD135193</td>\n",
       "    </tr>\n",
       "    <tr>\n",
       "      <th>2</th>\n",
       "      <td>RNA1{r(G)p.r(A)p.r(A)p.r(A)p.r(G)p.r(G)p.r(A)p...</td>\n",
       "      <td>51.4</td>\n",
       "      <td>BD135193</td>\n",
       "    </tr>\n",
       "    <tr>\n",
       "      <th>3</th>\n",
       "      <td>RNA1{r(A)p.r(U)p.r(A)p.r(A)p.r(A)p.r(A)p.r(U)p...</td>\n",
       "      <td>36.4</td>\n",
       "      <td>BD135193</td>\n",
       "    </tr>\n",
       "    <tr>\n",
       "      <th>4</th>\n",
       "      <td>RNA1{r(C)p.r(U)p.r(U)p.r(A)p.r(U)p.r(U)p.r(U)p...</td>\n",
       "      <td>52.2</td>\n",
       "      <td>BD135193</td>\n",
       "    </tr>\n",
       "  </tbody>\n",
       "</table>\n",
       "</div>"
      ],
      "text/plain": [
       "                                                   x     y   targets\n",
       "0  RNA1{r(A)p.r(A)p.r(A)p.r(U)p.r(C)p.r(A)p.r(A)p...  46.2  BD135193\n",
       "1  RNA1{r(A)p.r(U)p.r(A)p.r(A)p.r(A)p.r(U)p.r(C)p...  38.4  BD135193\n",
       "2  RNA1{r(G)p.r(A)p.r(A)p.r(A)p.r(G)p.r(G)p.r(A)p...  51.4  BD135193\n",
       "3  RNA1{r(A)p.r(U)p.r(A)p.r(A)p.r(A)p.r(A)p.r(U)p...  36.4  BD135193\n",
       "4  RNA1{r(C)p.r(U)p.r(U)p.r(A)p.r(U)p.r(U)p.r(U)p...  52.2  BD135193"
      ]
     },
     "execution_count": 5,
     "metadata": {},
     "output_type": "execute_result"
    }
   ],
   "source": [
    "dataset = Dataset(example_json)\n",
    "dataset.build(x, y, targets)\n",
    "dataset.data.head()"
   ]
  },
  {
   "cell_type": "markdown",
   "metadata": {},
   "source": [
    "you can also assign your dataframe to Datset object directly if your dataframe already has x, y and target as column headers"
   ]
  },
  {
   "cell_type": "code",
   "execution_count": 6,
   "metadata": {},
   "outputs": [
    {
     "data": {
      "text/html": [
       "<div>\n",
       "<style scoped>\n",
       "    .dataframe tbody tr th:only-of-type {\n",
       "        vertical-align: middle;\n",
       "    }\n",
       "\n",
       "    .dataframe tbody tr th {\n",
       "        vertical-align: top;\n",
       "    }\n",
       "\n",
       "    .dataframe thead th {\n",
       "        text-align: right;\n",
       "    }\n",
       "</style>\n",
       "<table border=\"1\" class=\"dataframe\">\n",
       "  <thead>\n",
       "    <tr style=\"text-align: right;\">\n",
       "      <th></th>\n",
       "      <th>x</th>\n",
       "      <th>y</th>\n",
       "      <th>targets</th>\n",
       "    </tr>\n",
       "  </thead>\n",
       "  <tbody>\n",
       "    <tr>\n",
       "      <th>0</th>\n",
       "      <td>RNA1{r(A)p.r(A)p.r(A)p.r(U)p.r(C)p.r(A)p.r(A)p...</td>\n",
       "      <td>46.2</td>\n",
       "      <td>BD135193</td>\n",
       "    </tr>\n",
       "    <tr>\n",
       "      <th>1</th>\n",
       "      <td>RNA1{r(A)p.r(U)p.r(A)p.r(A)p.r(A)p.r(U)p.r(C)p...</td>\n",
       "      <td>38.4</td>\n",
       "      <td>BD135193</td>\n",
       "    </tr>\n",
       "    <tr>\n",
       "      <th>2</th>\n",
       "      <td>RNA1{r(G)p.r(A)p.r(A)p.r(A)p.r(G)p.r(G)p.r(A)p...</td>\n",
       "      <td>51.4</td>\n",
       "      <td>BD135193</td>\n",
       "    </tr>\n",
       "    <tr>\n",
       "      <th>3</th>\n",
       "      <td>RNA1{r(A)p.r(U)p.r(A)p.r(A)p.r(A)p.r(A)p.r(U)p...</td>\n",
       "      <td>36.4</td>\n",
       "      <td>BD135193</td>\n",
       "    </tr>\n",
       "    <tr>\n",
       "      <th>4</th>\n",
       "      <td>RNA1{r(C)p.r(U)p.r(U)p.r(A)p.r(U)p.r(U)p.r(U)p...</td>\n",
       "      <td>52.2</td>\n",
       "      <td>BD135193</td>\n",
       "    </tr>\n",
       "  </tbody>\n",
       "</table>\n",
       "</div>"
      ],
      "text/plain": [
       "                                                   x     y   targets\n",
       "0  RNA1{r(A)p.r(A)p.r(A)p.r(U)p.r(C)p.r(A)p.r(A)p...  46.2  BD135193\n",
       "1  RNA1{r(A)p.r(U)p.r(A)p.r(A)p.r(A)p.r(U)p.r(C)p...  38.4  BD135193\n",
       "2  RNA1{r(G)p.r(A)p.r(A)p.r(A)p.r(G)p.r(G)p.r(A)p...  51.4  BD135193\n",
       "3  RNA1{r(A)p.r(U)p.r(A)p.r(A)p.r(A)p.r(A)p.r(U)p...  36.4  BD135193\n",
       "4  RNA1{r(C)p.r(U)p.r(U)p.r(A)p.r(U)p.r(U)p.r(U)p...  52.2  BD135193"
      ]
     },
     "execution_count": 6,
     "metadata": {},
     "output_type": "execute_result"
    }
   ],
   "source": [
    "dataset = Dataset(example_json)\n",
    "dataset.data = example_data\n",
    "dataset.data.head()"
   ]
  },
  {
   "cell_type": "markdown",
   "metadata": {},
   "source": [
    "## Working with provided datasets\n",
    "\n",
    "The datasets and their corresponding metadata are stored in the package resources module."
   ]
  },
  {
   "cell_type": "code",
   "execution_count": 7,
   "metadata": {},
   "outputs": [
    {
     "data": {
      "text/html": [
       "<div>\n",
       "<style scoped>\n",
       "    .dataframe tbody tr th:only-of-type {\n",
       "        vertical-align: middle;\n",
       "    }\n",
       "\n",
       "    .dataframe tbody tr th {\n",
       "        vertical-align: top;\n",
       "    }\n",
       "\n",
       "    .dataframe thead th {\n",
       "        text-align: right;\n",
       "    }\n",
       "</style>\n",
       "<table border=\"1\" class=\"dataframe\">\n",
       "  <thead>\n",
       "    <tr style=\"text-align: right;\">\n",
       "      <th></th>\n",
       "      <th>key</th>\n",
       "      <th>name</th>\n",
       "      <th>desc</th>\n",
       "      <th>modality</th>\n",
       "      <th>size</th>\n",
       "      <th>label_desc</th>\n",
       "      <th>model_system</th>\n",
       "      <th>collection</th>\n",
       "      <th>num_targets</th>\n",
       "      <th>task</th>\n",
       "      <th>rec_split</th>\n",
       "      <th>rec_metric</th>\n",
       "      <th>featurizers</th>\n",
       "      <th>source</th>\n",
       "    </tr>\n",
       "  </thead>\n",
       "  <tbody>\n",
       "    <tr>\n",
       "      <th>0</th>\n",
       "      <td>acute_neurotox_moe</td>\n",
       "      <td>MOE_AcuteNeurotox_1</td>\n",
       "      <td>Acute neurotox data for MOE modifed ASOs scrap...</td>\n",
       "      <td>ASO</td>\n",
       "      <td>2437</td>\n",
       "      <td>Rounded 3h FOB score in mice (7 categories: 0 ...</td>\n",
       "      <td>In vivo</td>\n",
       "      <td>Acute Neurotoxicity</td>\n",
       "      <td>13</td>\n",
       "      <td>Regression</td>\n",
       "      <td>Nucleobase</td>\n",
       "      <td>['Spearmanr', 'Pearsonr']</td>\n",
       "      <td>['OneHotEncoder', 'KMersCounts']</td>\n",
       "      <td>['https://patents.google.com/patent/WO20201725...</td>\n",
       "    </tr>\n",
       "    <tr>\n",
       "      <th>1</th>\n",
       "      <td>siRNA2</td>\n",
       "      <td>Ichihara_2007_2</td>\n",
       "      <td>A precurated collection of unmodified siRNA po...</td>\n",
       "      <td>siRNA</td>\n",
       "      <td>419</td>\n",
       "      <td>Percentage inhibition relative to control from...</td>\n",
       "      <td>In vitro</td>\n",
       "      <td>Activity</td>\n",
       "      <td>12</td>\n",
       "      <td>Regression</td>\n",
       "      <td>Nucleobase</td>\n",
       "      <td>['Spearmanr', 'Pearsonr']</td>\n",
       "      <td>['OneHotEncoder', 'KMersCounts']</td>\n",
       "      <td>https://doi.org/10.1093/nar/gkm699</td>\n",
       "    </tr>\n",
       "    <tr>\n",
       "      <th>2</th>\n",
       "      <td>immune_modulation_TLR8</td>\n",
       "      <td>Alharbi_2020_2</td>\n",
       "      <td>2'OMe gapmer screen of TLR7 inhibition</td>\n",
       "      <td>ASO</td>\n",
       "      <td>192</td>\n",
       "      <td>TLR7 level after induction with 100nM ASO as m...</td>\n",
       "      <td>In vitro</td>\n",
       "      <td>Immunomodulation</td>\n",
       "      <td>4</td>\n",
       "      <td>Regression</td>\n",
       "      <td>Random</td>\n",
       "      <td>['Spearmanr', 'Pearsonr']</td>\n",
       "      <td>['OneHotEncoder', 'KMersCounts']</td>\n",
       "      <td>https://doi.org/10.1093/nar/gkaa523</td>\n",
       "    </tr>\n",
       "    <tr>\n",
       "      <th>3</th>\n",
       "      <td>siRNA3</td>\n",
       "      <td>Shmushkovich_2018_1</td>\n",
       "      <td>Study of cholesterol-conjugated siRNA efficacy...</td>\n",
       "      <td>siRNA</td>\n",
       "      <td>356</td>\n",
       "      <td>Percentage remaining relative to control of si...</td>\n",
       "      <td>In vitro</td>\n",
       "      <td>Activity</td>\n",
       "      <td>0</td>\n",
       "      <td>Regression</td>\n",
       "      <td>Random</td>\n",
       "      <td>['Spearmanr', 'Pearsonr']</td>\n",
       "      <td>['OneHotEncoder', 'KMerCounts']</td>\n",
       "      <td>https://doi.org/10.1093/nar/gky745</td>\n",
       "    </tr>\n",
       "    <tr>\n",
       "      <th>4</th>\n",
       "      <td>asoptimizer</td>\n",
       "      <td>Hwang_2024_1</td>\n",
       "      <td>A collection of inhibitory activity for differ...</td>\n",
       "      <td>ASO</td>\n",
       "      <td>32602</td>\n",
       "      <td>Percentage inhibition of target mRNA relative ...</td>\n",
       "      <td>In vitro</td>\n",
       "      <td>Activity</td>\n",
       "      <td>18</td>\n",
       "      <td>Regression</td>\n",
       "      <td>Nucleobase</td>\n",
       "      <td>['Spearmanr', 'Pearsonr']</td>\n",
       "      <td>['OneHotEncoder', 'KMerCounts']</td>\n",
       "      <td>https://doi.org/10.1016/j.omtn.2024.102186</td>\n",
       "    </tr>\n",
       "    <tr>\n",
       "      <th>5</th>\n",
       "      <td>acute_neurotox_lna</td>\n",
       "      <td>Hagedorn_2022_1</td>\n",
       "      <td>Acute nuerotox of LNA gapmer as measured by ca...</td>\n",
       "      <td>ASO</td>\n",
       "      <td>1825</td>\n",
       "      <td>Calcium oscillation score</td>\n",
       "      <td>In vitro</td>\n",
       "      <td>Toxicity</td>\n",
       "      <td>2</td>\n",
       "      <td>Regression</td>\n",
       "      <td>Nucleobase</td>\n",
       "      <td>['Spearmanr', 'Pearsonr']</td>\n",
       "      <td>['OneHotEncoder', 'KMersCounts']</td>\n",
       "      <td>https://doi.org/10.1089/nat.2021.0071</td>\n",
       "    </tr>\n",
       "    <tr>\n",
       "      <th>6</th>\n",
       "      <td>immune_modulation_TLR7</td>\n",
       "      <td>Alharbi_2020_1</td>\n",
       "      <td>2'OMe gapmer screen of TLR8 potentiation</td>\n",
       "      <td>ASO</td>\n",
       "      <td>192</td>\n",
       "      <td>TLR8 level after induction with 100nM ASO as m...</td>\n",
       "      <td>In vitro</td>\n",
       "      <td>Immunomodulation</td>\n",
       "      <td>4</td>\n",
       "      <td>Regression</td>\n",
       "      <td>Random</td>\n",
       "      <td>['Spearmanr', 'Pearsonr']</td>\n",
       "      <td>['OneHotEncoder', 'KMersCounts']</td>\n",
       "      <td>https://doi.org/10.1093/nar/gkaa523</td>\n",
       "    </tr>\n",
       "    <tr>\n",
       "      <th>7</th>\n",
       "      <td>siRNA1</td>\n",
       "      <td>Ichihara_2007_1</td>\n",
       "      <td>A precurated collection of unmodified siRNA po...</td>\n",
       "      <td>siRNA</td>\n",
       "      <td>2431</td>\n",
       "      <td>Percentage inhibition relative to control usin...</td>\n",
       "      <td>In vitro</td>\n",
       "      <td>Activity</td>\n",
       "      <td>30</td>\n",
       "      <td>Regression</td>\n",
       "      <td>Nucleobase</td>\n",
       "      <td>['Spearmanr', 'Pearsonr']</td>\n",
       "      <td>['OneHotEncoder', 'KMersCounts']</td>\n",
       "      <td>https://doi.org/10.1093/nar/gkm699</td>\n",
       "    </tr>\n",
       "    <tr>\n",
       "      <th>8</th>\n",
       "      <td>openASO</td>\n",
       "      <td>McQuisten_2007_1</td>\n",
       "      <td>An ASO-activity dataset collected by IDT from ...</td>\n",
       "      <td>ASO</td>\n",
       "      <td>3913</td>\n",
       "      <td>Activity range from 0 (complete target inhibit...</td>\n",
       "      <td>undefined</td>\n",
       "      <td>Activity</td>\n",
       "      <td>110</td>\n",
       "      <td>Regression</td>\n",
       "      <td>Nucleobase</td>\n",
       "      <td>['Spearmanr', 'Pearsonr']</td>\n",
       "      <td>['OneHotEncoder', 'KMersCounts']</td>\n",
       "      <td>['https://doi.org/10.1186/1471-2105-8-184', 'h...</td>\n",
       "    </tr>\n",
       "    <tr>\n",
       "      <th>9</th>\n",
       "      <td>cytotox_lna</td>\n",
       "      <td>Papargyri_2020_1</td>\n",
       "      <td>A study looking at the relationship between nu...</td>\n",
       "      <td>ASO</td>\n",
       "      <td>768</td>\n",
       "      <td>Minmax-scaled average caspase level (N=3) meas...</td>\n",
       "      <td>In vitro</td>\n",
       "      <td>Toxicity</td>\n",
       "      <td>1</td>\n",
       "      <td>Regression</td>\n",
       "      <td>Backbone</td>\n",
       "      <td>['Spearmanr', 'Pearsonr']</td>\n",
       "      <td>['OneHotEncoder', 'KMersCounts']</td>\n",
       "      <td>https://doi.org/10.1016/j.omtn.2019.12.011</td>\n",
       "    </tr>\n",
       "    <tr>\n",
       "      <th>10</th>\n",
       "      <td>siRNAmod</td>\n",
       "      <td>Martinelli_2023_1</td>\n",
       "      <td>A curated siRNA potency dataset that contain o...</td>\n",
       "      <td>siRNA</td>\n",
       "      <td>907</td>\n",
       "      <td>Percentage knockdown of the target mRNA</td>\n",
       "      <td>undefined</td>\n",
       "      <td>Activity</td>\n",
       "      <td>1</td>\n",
       "      <td>Regression</td>\n",
       "      <td>Random</td>\n",
       "      <td>['Spearmanr', 'Pearsonr']</td>\n",
       "      <td>['OneHotEncoder', 'KMersCounts']</td>\n",
       "      <td>https://www.biorxiv.org/content/10.1101/2023.0...</td>\n",
       "    </tr>\n",
       "    <tr>\n",
       "      <th>11</th>\n",
       "      <td>sherwood</td>\n",
       "      <td>Knott_2014_1</td>\n",
       "      <td>A biased screening of shRNA using the miR-30 s...</td>\n",
       "      <td>shRNA</td>\n",
       "      <td>291551</td>\n",
       "      <td>MinMax-scaled score from the raw score obtaine...</td>\n",
       "      <td>In vitro</td>\n",
       "      <td>Activity</td>\n",
       "      <td>17802</td>\n",
       "      <td>Regression</td>\n",
       "      <td>Target</td>\n",
       "      <td>['Spearmanr', 'Pearsonr']</td>\n",
       "      <td>['OneHotEncoder', 'KMersCounts']</td>\n",
       "      <td>https://doi.org/10.1016/j.molcel.2011.02.008</td>\n",
       "    </tr>\n",
       "  </tbody>\n",
       "</table>\n",
       "</div>"
      ],
      "text/plain": [
       "                       key                 name  \\\n",
       "0       acute_neurotox_moe  MOE_AcuteNeurotox_1   \n",
       "1                   siRNA2      Ichihara_2007_2   \n",
       "2   immune_modulation_TLR8       Alharbi_2020_2   \n",
       "3                   siRNA3  Shmushkovich_2018_1   \n",
       "4              asoptimizer         Hwang_2024_1   \n",
       "5       acute_neurotox_lna      Hagedorn_2022_1   \n",
       "6   immune_modulation_TLR7       Alharbi_2020_1   \n",
       "7                   siRNA1      Ichihara_2007_1   \n",
       "8                  openASO     McQuisten_2007_1   \n",
       "9              cytotox_lna     Papargyri_2020_1   \n",
       "10                siRNAmod    Martinelli_2023_1   \n",
       "11                sherwood         Knott_2014_1   \n",
       "\n",
       "                                                 desc modality    size  \\\n",
       "0   Acute neurotox data for MOE modifed ASOs scrap...      ASO    2437   \n",
       "1   A precurated collection of unmodified siRNA po...    siRNA     419   \n",
       "2              2'OMe gapmer screen of TLR7 inhibition      ASO     192   \n",
       "3   Study of cholesterol-conjugated siRNA efficacy...    siRNA     356   \n",
       "4   A collection of inhibitory activity for differ...      ASO   32602   \n",
       "5   Acute nuerotox of LNA gapmer as measured by ca...      ASO    1825   \n",
       "6            2'OMe gapmer screen of TLR8 potentiation      ASO     192   \n",
       "7   A precurated collection of unmodified siRNA po...    siRNA    2431   \n",
       "8   An ASO-activity dataset collected by IDT from ...      ASO    3913   \n",
       "9   A study looking at the relationship between nu...      ASO     768   \n",
       "10  A curated siRNA potency dataset that contain o...    siRNA     907   \n",
       "11  A biased screening of shRNA using the miR-30 s...    shRNA  291551   \n",
       "\n",
       "                                           label_desc model_system  \\\n",
       "0   Rounded 3h FOB score in mice (7 categories: 0 ...      In vivo   \n",
       "1   Percentage inhibition relative to control from...     In vitro   \n",
       "2   TLR7 level after induction with 100nM ASO as m...     In vitro   \n",
       "3   Percentage remaining relative to control of si...     In vitro   \n",
       "4   Percentage inhibition of target mRNA relative ...     In vitro   \n",
       "5                           Calcium oscillation score     In vitro   \n",
       "6   TLR8 level after induction with 100nM ASO as m...     In vitro   \n",
       "7   Percentage inhibition relative to control usin...     In vitro   \n",
       "8   Activity range from 0 (complete target inhibit...    undefined   \n",
       "9   Minmax-scaled average caspase level (N=3) meas...     In vitro   \n",
       "10            Percentage knockdown of the target mRNA    undefined   \n",
       "11  MinMax-scaled score from the raw score obtaine...     In vitro   \n",
       "\n",
       "             collection  num_targets        task   rec_split  \\\n",
       "0   Acute Neurotoxicity           13  Regression  Nucleobase   \n",
       "1              Activity           12  Regression  Nucleobase   \n",
       "2      Immunomodulation            4  Regression      Random   \n",
       "3              Activity            0  Regression      Random   \n",
       "4              Activity           18  Regression  Nucleobase   \n",
       "5              Toxicity            2  Regression  Nucleobase   \n",
       "6      Immunomodulation            4  Regression      Random   \n",
       "7              Activity           30  Regression  Nucleobase   \n",
       "8              Activity          110  Regression  Nucleobase   \n",
       "9              Toxicity            1  Regression    Backbone   \n",
       "10             Activity            1  Regression      Random   \n",
       "11             Activity        17802  Regression      Target   \n",
       "\n",
       "                   rec_metric                       featurizers  \\\n",
       "0   ['Spearmanr', 'Pearsonr']  ['OneHotEncoder', 'KMersCounts']   \n",
       "1   ['Spearmanr', 'Pearsonr']  ['OneHotEncoder', 'KMersCounts']   \n",
       "2   ['Spearmanr', 'Pearsonr']  ['OneHotEncoder', 'KMersCounts']   \n",
       "3   ['Spearmanr', 'Pearsonr']   ['OneHotEncoder', 'KMerCounts']   \n",
       "4   ['Spearmanr', 'Pearsonr']   ['OneHotEncoder', 'KMerCounts']   \n",
       "5   ['Spearmanr', 'Pearsonr']  ['OneHotEncoder', 'KMersCounts']   \n",
       "6   ['Spearmanr', 'Pearsonr']  ['OneHotEncoder', 'KMersCounts']   \n",
       "7   ['Spearmanr', 'Pearsonr']  ['OneHotEncoder', 'KMersCounts']   \n",
       "8   ['Spearmanr', 'Pearsonr']  ['OneHotEncoder', 'KMersCounts']   \n",
       "9   ['Spearmanr', 'Pearsonr']  ['OneHotEncoder', 'KMersCounts']   \n",
       "10  ['Spearmanr', 'Pearsonr']  ['OneHotEncoder', 'KMersCounts']   \n",
       "11  ['Spearmanr', 'Pearsonr']  ['OneHotEncoder', 'KMersCounts']   \n",
       "\n",
       "                                               source  \n",
       "0   ['https://patents.google.com/patent/WO20201725...  \n",
       "1                  https://doi.org/10.1093/nar/gkm699  \n",
       "2                 https://doi.org/10.1093/nar/gkaa523  \n",
       "3                  https://doi.org/10.1093/nar/gky745  \n",
       "4          https://doi.org/10.1016/j.omtn.2024.102186  \n",
       "5               https://doi.org/10.1089/nat.2021.0071  \n",
       "6                 https://doi.org/10.1093/nar/gkaa523  \n",
       "7                  https://doi.org/10.1093/nar/gkm699  \n",
       "8   ['https://doi.org/10.1186/1471-2105-8-184', 'h...  \n",
       "9          https://doi.org/10.1016/j.omtn.2019.12.011  \n",
       "10  https://www.biorxiv.org/content/10.1101/2023.0...  \n",
       "11       https://doi.org/10.1016/j.molcel.2011.02.008  "
      ]
     },
     "execution_count": 7,
     "metadata": {},
     "output_type": "execute_result"
    }
   ],
   "source": [
    "downloader = DatasetDownloader()\n",
    "downloader.all_datasets_info"
   ]
  },
  {
   "cell_type": "markdown",
   "metadata": {},
   "source": [
    "DatasetDownloader automatically download the dataset and its corresponding metadata from Posit Connect and return a Dataset object.\n",
    "Dataset can be identify either by the 'key' or 'name' of the dataset.\n",
    "\n",
    "```dataset_key=\"all\"``` will return a list of Dataset objects for all available datasets"
   ]
  },
  {
   "cell_type": "code",
   "execution_count": 8,
   "metadata": {},
   "outputs": [
    {
     "name": "stdout",
     "output_type": "stream",
     "text": [
      "Dataset 'MOE_AcuteNeurotox_1' has been successfully downloaded.\n"
     ]
    },
    {
     "data": {
      "text/html": [
       "<div>\n",
       "<style scoped>\n",
       "    .dataframe tbody tr th:only-of-type {\n",
       "        vertical-align: middle;\n",
       "    }\n",
       "\n",
       "    .dataframe tbody tr th {\n",
       "        vertical-align: top;\n",
       "    }\n",
       "\n",
       "    .dataframe thead th {\n",
       "        text-align: right;\n",
       "    }\n",
       "</style>\n",
       "<table border=\"1\" class=\"dataframe\">\n",
       "  <thead>\n",
       "    <tr style=\"text-align: right;\">\n",
       "      <th></th>\n",
       "      <th>x</th>\n",
       "      <th>y</th>\n",
       "      <th>y_raw</th>\n",
       "      <th>targets</th>\n",
       "      <th>smiles</th>\n",
       "      <th>fasta</th>\n",
       "    </tr>\n",
       "  </thead>\n",
       "  <tbody>\n",
       "    <tr>\n",
       "      <th>0</th>\n",
       "      <td>RNA1{[moe]([m5C])[sp].[moe]([m5C])p.[moe](G)p....</td>\n",
       "      <td>3</td>\n",
       "      <td>3.25</td>\n",
       "      <td>C9ORF72</td>\n",
       "      <td>COCCO[C@@H]1[C@H](O)[C@@H](COP(=O)(S)O[C@H]2[C...</td>\n",
       "      <td>CCGGCCCCTAGCGCGCGACT</td>\n",
       "    </tr>\n",
       "    <tr>\n",
       "      <th>1</th>\n",
       "      <td>RNA1{[moe]([m5C])[sp].[moe]([m5C])p.[moe](G)p....</td>\n",
       "      <td>4</td>\n",
       "      <td>4.25</td>\n",
       "      <td>C9ORF72</td>\n",
       "      <td>COCCO[C@@H]1[C@H](O)[C@@H](COP(=O)(S)O[C@H]2[C...</td>\n",
       "      <td>CCGGCCCCTAGCGCGCGACT</td>\n",
       "    </tr>\n",
       "    <tr>\n",
       "      <th>2</th>\n",
       "      <td>RNA1{[moe]([m5C])[sp].[moe]([m5C])p.[moe](G)p....</td>\n",
       "      <td>4</td>\n",
       "      <td>3.50</td>\n",
       "      <td>C9ORF72</td>\n",
       "      <td>COCCO[C@@H]1[C@H](O)[C@@H](COP(=O)(S)O[C@H]2[C...</td>\n",
       "      <td>CCGGCCCCTAGCGCGCGACT</td>\n",
       "    </tr>\n",
       "    <tr>\n",
       "      <th>3</th>\n",
       "      <td>RNA1{[moe]([m5C])[sp].[moe]([m5C])p.[moe](G)p....</td>\n",
       "      <td>2</td>\n",
       "      <td>2.00</td>\n",
       "      <td>C9ORF72</td>\n",
       "      <td>COCCO[C@@H]1[C@H](O)[C@@H](COP(=O)(S)O[C@H]2[C...</td>\n",
       "      <td>CCGGCCCCTAGCGCGCGACT</td>\n",
       "    </tr>\n",
       "    <tr>\n",
       "      <th>4</th>\n",
       "      <td>RNA1{[moe]([m5C])[sp].[moe](G)p.[moe](G)p.[moe...</td>\n",
       "      <td>4</td>\n",
       "      <td>4.00</td>\n",
       "      <td>C9ORF72</td>\n",
       "      <td>COCCO[C@@H]1[C@H](O)[C@@H](COP(=O)(S)O[C@H]2[C...</td>\n",
       "      <td>CGGCCCCTAGCGCGCGACT</td>\n",
       "    </tr>\n",
       "  </tbody>\n",
       "</table>\n",
       "</div>"
      ],
      "text/plain": [
       "                                                   x  y  y_raw  targets  \\\n",
       "0  RNA1{[moe]([m5C])[sp].[moe]([m5C])p.[moe](G)p....  3   3.25  C9ORF72   \n",
       "1  RNA1{[moe]([m5C])[sp].[moe]([m5C])p.[moe](G)p....  4   4.25  C9ORF72   \n",
       "2  RNA1{[moe]([m5C])[sp].[moe]([m5C])p.[moe](G)p....  4   3.50  C9ORF72   \n",
       "3  RNA1{[moe]([m5C])[sp].[moe]([m5C])p.[moe](G)p....  2   2.00  C9ORF72   \n",
       "4  RNA1{[moe]([m5C])[sp].[moe](G)p.[moe](G)p.[moe...  4   4.00  C9ORF72   \n",
       "\n",
       "                                              smiles                 fasta  \n",
       "0  COCCO[C@@H]1[C@H](O)[C@@H](COP(=O)(S)O[C@H]2[C...  CCGGCCCCTAGCGCGCGACT  \n",
       "1  COCCO[C@@H]1[C@H](O)[C@@H](COP(=O)(S)O[C@H]2[C...  CCGGCCCCTAGCGCGCGACT  \n",
       "2  COCCO[C@@H]1[C@H](O)[C@@H](COP(=O)(S)O[C@H]2[C...  CCGGCCCCTAGCGCGCGACT  \n",
       "3  COCCO[C@@H]1[C@H](O)[C@@H](COP(=O)(S)O[C@H]2[C...  CCGGCCCCTAGCGCGCGACT  \n",
       "4  COCCO[C@@H]1[C@H](O)[C@@H](COP(=O)(S)O[C@H]2[C...   CGGCCCCTAGCGCGCGACT  "
      ]
     },
     "execution_count": 8,
     "metadata": {},
     "output_type": "execute_result"
    }
   ],
   "source": [
    "dataset = downloader.download(dataset_key=\"acute_neurotox_moe\", verbose=1)\n",
    "dataset.data.head()"
   ]
  },
  {
   "cell_type": "code",
   "execution_count": 9,
   "metadata": {},
   "outputs": [
    {
     "data": {
      "text/plain": [
       "array(['RNA1{[moe]([m5C])[sp].[moe]([m5C])p.[moe](G)p.d(G)[sp].d([m5C])[sp].d([m5C])[sp].d([m5C])[sp].d([m5C])[sp].d(T)[sp].d(A)[sp].d(G)[sp].d([m5C])[sp].d(G)[sp].[moe]([m5C])p.[moe](G)p.[moe]([m5C])p.[moe](G)p.[moe](A)[sp].[moe]([m5C])}$$$$',\n",
       "       'RNA1{[moe]([m5C])[sp].[moe]([m5C])p.[moe](G)p.[moe](G)p.d([m5C])[sp].d([m5C])[sp].d([m5C])[sp].d([m5C])[sp].d(T)[sp].d(A)[sp].d(G)[sp].d([m5C])[sp].d(G)[sp].d([m5C])[sp].[moe](G)p.[moe]([m5C])p.[moe](G)p.[moe](A)[sp].[moe]([m5C])}$$$$',\n",
       "       'RNA1{[moe]([m5C])[sp].[moe]([m5C])p.[moe](G)p.[moe](G)p.[moe]([m5C])p.[moe]([m5C])p.d([m5C])[sp].d([m5C])[sp].d(T)[sp].d(A)[sp].d(G)[sp].d([m5C])[sp].d(G)[sp].d([m5C])[sp].d(G)[sp].d([m5C])[sp].[moe](G)p.[moe](A)[sp].[moe]([m5C])}$$$$',\n",
       "       'RNA1{[moe]([m5C])[sp].[moe]([m5C])p.[moe](G)p.[moe](G)p.[moe]([m5C])p.[moe]([m5C])p.[moe]([m5C])p.d([m5C])[sp].d(T)[sp].d(A)[sp].d(G)[sp].d([m5C])[sp].d(G)[sp].d([m5C])[sp].d(G)[sp].d([m5C])[sp].d(G)[sp].[moe](A)[sp].[moe]([m5C])}$$$$',\n",
       "       'RNA1{[moe]([m5C])[sp].[moe](G)p.[moe](G)p.[moe]([m5C])p.[moe]([m5C])p.d([m5C])[sp].d([m5C])[sp].d(T)[sp].d(A)[sp].d(G)[sp].d([m5C])[sp].d(G)[sp].d([m5C])[sp].d(G)[sp].[moe]([m5C])p.[moe](G)p.[moe](A)[sp].[moe]([m5C])}$$$$'],\n",
       "      dtype=object)"
      ]
     },
     "execution_count": 9,
     "metadata": {},
     "output_type": "execute_result"
    }
   ],
   "source": [
    "dataset.x[:5]"
   ]
  },
  {
   "cell_type": "code",
   "execution_count": 10,
   "metadata": {},
   "outputs": [
    {
     "data": {
      "text/plain": [
       "array([3, 4, 4, 2, 4])"
      ]
     },
     "execution_count": 10,
     "metadata": {},
     "output_type": "execute_result"
    }
   ],
   "source": [
    "dataset.y[:5]"
   ]
  },
  {
   "cell_type": "code",
   "execution_count": 11,
   "metadata": {},
   "outputs": [
    {
     "data": {
      "text/plain": [
       "array(['C9ORF72', 'C9ORF72', 'C9ORF72', 'C9ORF72', 'C9ORF72'],\n",
       "      dtype=object)"
      ]
     },
     "execution_count": 11,
     "metadata": {},
     "output_type": "execute_result"
    }
   ],
   "source": [
    "dataset.targets[:5]"
   ]
  },
  {
   "cell_type": "markdown",
   "metadata": {},
   "source": [
    "## Explore dataset statistics\n",
    "\n",
    "The function .get_helm_stats() and .get_label_stats() can be called from the Dataset object to calculate basic statistics for the helm sequences and the task labels respectively. The .get_helm_stats() have a 'format' argument that can take either 'aggregate' or 'individual' as input to display the statistics for the whole dataset or for individual helm sequences. There is an argument cosine_dist, which default to False. If set to True, this calculate the cosine distance for each helm sequence to it's nearest neighbor in the list based on kmer frequency counts. This can be slow for larger dataset like sherwood.\n",
    "\n",
    "The .get_label_stats() determine the type of labels in the dataset directly from the Dataset 'task' attribute and display the relevant statistics for specific tasks."
   ]
  },
  {
   "cell_type": "code",
   "execution_count": 12,
   "metadata": {},
   "outputs": [
    {
     "data": {
      "text/html": [
       "<div>\n",
       "<style scoped>\n",
       "    .dataframe tbody tr th:only-of-type {\n",
       "        vertical-align: middle;\n",
       "    }\n",
       "\n",
       "    .dataframe tbody tr th {\n",
       "        vertical-align: top;\n",
       "    }\n",
       "\n",
       "    .dataframe thead th {\n",
       "        text-align: right;\n",
       "    }\n",
       "</style>\n",
       "<table border=\"1\" class=\"dataframe\">\n",
       "  <thead>\n",
       "    <tr style=\"text-align: right;\">\n",
       "      <th></th>\n",
       "      <th>avg_nt_seq_len</th>\n",
       "      <th>combined_unique_monomers</th>\n",
       "      <th>avg_GC_content</th>\n",
       "      <th>avg_G_content</th>\n",
       "      <th>avg_C_content</th>\n",
       "      <th>avg_A_content</th>\n",
       "      <th>avg_TU_content</th>\n",
       "      <th>num_duplicates</th>\n",
       "    </tr>\n",
       "  </thead>\n",
       "  <tbody>\n",
       "    <tr>\n",
       "      <th>0</th>\n",
       "      <td>18.651621</td>\n",
       "      <td>[A, G, T, U, d, m5C, moe, p, sp]</td>\n",
       "      <td>40.747013</td>\n",
       "      <td>17.101861</td>\n",
       "      <td>32.196083</td>\n",
       "      <td>22.219714</td>\n",
       "      <td>37.033273</td>\n",
       "      <td>39</td>\n",
       "    </tr>\n",
       "  </tbody>\n",
       "</table>\n",
       "</div>"
      ],
      "text/plain": [
       "   avg_nt_seq_len          combined_unique_monomers  avg_GC_content  \\\n",
       "0       18.651621  [A, G, T, U, d, m5C, moe, p, sp]       40.747013   \n",
       "\n",
       "   avg_G_content  avg_C_content  avg_A_content  avg_TU_content  num_duplicates  \n",
       "0      17.101861      32.196083      22.219714       37.033273              39  "
      ]
     },
     "execution_count": 12,
     "metadata": {},
     "output_type": "execute_result"
    }
   ],
   "source": [
    "dataset_helm_stats = dataset.get_helm_stats(format='aggregate')\n",
    "dataset_helm_stats"
   ]
  },
  {
   "cell_type": "code",
   "execution_count": 13,
   "metadata": {},
   "outputs": [
    {
     "data": {
      "text/html": [
       "<div>\n",
       "<style scoped>\n",
       "    .dataframe tbody tr th:only-of-type {\n",
       "        vertical-align: middle;\n",
       "    }\n",
       "\n",
       "    .dataframe tbody tr th {\n",
       "        vertical-align: top;\n",
       "    }\n",
       "\n",
       "    .dataframe thead th {\n",
       "        text-align: right;\n",
       "    }\n",
       "</style>\n",
       "<table border=\"1\" class=\"dataframe\">\n",
       "  <thead>\n",
       "    <tr style=\"text-align: right;\">\n",
       "      <th></th>\n",
       "      <th>RNA1_nt_seq_len</th>\n",
       "      <th>RNA1_unique_monomers</th>\n",
       "      <th>RNA1_GC_content</th>\n",
       "      <th>RNA1_G_content</th>\n",
       "      <th>RNA1_C_content</th>\n",
       "      <th>RNA1_A_content</th>\n",
       "      <th>RNA1_TU_content</th>\n",
       "      <th>RNA1_xna_base</th>\n",
       "      <th>RNA1_xna_sugar</th>\n",
       "      <th>RNA1_xna_phosphate</th>\n",
       "      <th>uniqueness</th>\n",
       "    </tr>\n",
       "  </thead>\n",
       "  <tbody>\n",
       "    <tr>\n",
       "      <th>0</th>\n",
       "      <td>19</td>\n",
       "      <td>[m5C, A, G, T, d, moe, p, sp]</td>\n",
       "      <td>84.210526</td>\n",
       "      <td>31.578947</td>\n",
       "      <td>52.631579</td>\n",
       "      <td>10.526316</td>\n",
       "      <td>5.263158</td>\n",
       "      <td>m5C.m5C.G.G.m5C.m5C.m5C.m5C.T.A.G.m5C.G.m5C.G....</td>\n",
       "      <td>moe.moe.moe.d.d.d.d.d.d.d.d.d.d.moe.moe.moe.mo...</td>\n",
       "      <td>sp.p.p.sp.sp.sp.sp.sp.sp.sp.sp.sp.sp.p.p.p.p.sp.</td>\n",
       "      <td>1.0</td>\n",
       "    </tr>\n",
       "    <tr>\n",
       "      <th>1</th>\n",
       "      <td>19</td>\n",
       "      <td>[m5C, A, G, T, d, moe, p, sp]</td>\n",
       "      <td>84.210526</td>\n",
       "      <td>31.578947</td>\n",
       "      <td>52.631579</td>\n",
       "      <td>10.526316</td>\n",
       "      <td>5.263158</td>\n",
       "      <td>m5C.m5C.G.G.m5C.m5C.m5C.m5C.T.A.G.m5C.G.m5C.G....</td>\n",
       "      <td>moe.moe.moe.moe.d.d.d.d.d.d.d.d.d.d.moe.moe.mo...</td>\n",
       "      <td>sp.p.p.p.sp.sp.sp.sp.sp.sp.sp.sp.sp.sp.p.p.p.sp.</td>\n",
       "      <td>1.0</td>\n",
       "    </tr>\n",
       "    <tr>\n",
       "      <th>2</th>\n",
       "      <td>19</td>\n",
       "      <td>[m5C, A, G, T, d, moe, p, sp]</td>\n",
       "      <td>84.210526</td>\n",
       "      <td>31.578947</td>\n",
       "      <td>52.631579</td>\n",
       "      <td>10.526316</td>\n",
       "      <td>5.263158</td>\n",
       "      <td>m5C.m5C.G.G.m5C.m5C.m5C.m5C.T.A.G.m5C.G.m5C.G....</td>\n",
       "      <td>moe.moe.moe.moe.moe.moe.d.d.d.d.d.d.d.d.d.d.mo...</td>\n",
       "      <td>sp.p.p.p.p.p.sp.sp.sp.sp.sp.sp.sp.sp.sp.sp.p.sp.</td>\n",
       "      <td>1.0</td>\n",
       "    </tr>\n",
       "    <tr>\n",
       "      <th>3</th>\n",
       "      <td>19</td>\n",
       "      <td>[m5C, A, G, T, d, moe, p, sp]</td>\n",
       "      <td>84.210526</td>\n",
       "      <td>31.578947</td>\n",
       "      <td>52.631579</td>\n",
       "      <td>10.526316</td>\n",
       "      <td>5.263158</td>\n",
       "      <td>m5C.m5C.G.G.m5C.m5C.m5C.m5C.T.A.G.m5C.G.m5C.G....</td>\n",
       "      <td>moe.moe.moe.moe.moe.moe.moe.d.d.d.d.d.d.d.d.d....</td>\n",
       "      <td>sp.p.p.p.p.p.p.sp.sp.sp.sp.sp.sp.sp.sp.sp.sp.sp.</td>\n",
       "      <td>1.0</td>\n",
       "    </tr>\n",
       "    <tr>\n",
       "      <th>4</th>\n",
       "      <td>18</td>\n",
       "      <td>[m5C, A, G, T, d, moe, p, sp]</td>\n",
       "      <td>83.333333</td>\n",
       "      <td>33.333333</td>\n",
       "      <td>50.000000</td>\n",
       "      <td>11.111111</td>\n",
       "      <td>5.555556</td>\n",
       "      <td>m5C.G.G.m5C.m5C.m5C.m5C.T.A.G.m5C.G.m5C.G.m5C....</td>\n",
       "      <td>moe.moe.moe.moe.moe.d.d.d.d.d.d.d.d.d.moe.moe....</td>\n",
       "      <td>sp.p.p.p.p.sp.sp.sp.sp.sp.sp.sp.sp.sp.p.p.sp.</td>\n",
       "      <td>1.0</td>\n",
       "    </tr>\n",
       "  </tbody>\n",
       "</table>\n",
       "</div>"
      ],
      "text/plain": [
       "   RNA1_nt_seq_len           RNA1_unique_monomers  RNA1_GC_content  \\\n",
       "0               19  [m5C, A, G, T, d, moe, p, sp]        84.210526   \n",
       "1               19  [m5C, A, G, T, d, moe, p, sp]        84.210526   \n",
       "2               19  [m5C, A, G, T, d, moe, p, sp]        84.210526   \n",
       "3               19  [m5C, A, G, T, d, moe, p, sp]        84.210526   \n",
       "4               18  [m5C, A, G, T, d, moe, p, sp]        83.333333   \n",
       "\n",
       "   RNA1_G_content  RNA1_C_content  RNA1_A_content  RNA1_TU_content  \\\n",
       "0       31.578947       52.631579       10.526316         5.263158   \n",
       "1       31.578947       52.631579       10.526316         5.263158   \n",
       "2       31.578947       52.631579       10.526316         5.263158   \n",
       "3       31.578947       52.631579       10.526316         5.263158   \n",
       "4       33.333333       50.000000       11.111111         5.555556   \n",
       "\n",
       "                                       RNA1_xna_base  \\\n",
       "0  m5C.m5C.G.G.m5C.m5C.m5C.m5C.T.A.G.m5C.G.m5C.G....   \n",
       "1  m5C.m5C.G.G.m5C.m5C.m5C.m5C.T.A.G.m5C.G.m5C.G....   \n",
       "2  m5C.m5C.G.G.m5C.m5C.m5C.m5C.T.A.G.m5C.G.m5C.G....   \n",
       "3  m5C.m5C.G.G.m5C.m5C.m5C.m5C.T.A.G.m5C.G.m5C.G....   \n",
       "4  m5C.G.G.m5C.m5C.m5C.m5C.T.A.G.m5C.G.m5C.G.m5C....   \n",
       "\n",
       "                                      RNA1_xna_sugar  \\\n",
       "0  moe.moe.moe.d.d.d.d.d.d.d.d.d.d.moe.moe.moe.mo...   \n",
       "1  moe.moe.moe.moe.d.d.d.d.d.d.d.d.d.d.moe.moe.mo...   \n",
       "2  moe.moe.moe.moe.moe.moe.d.d.d.d.d.d.d.d.d.d.mo...   \n",
       "3  moe.moe.moe.moe.moe.moe.moe.d.d.d.d.d.d.d.d.d....   \n",
       "4  moe.moe.moe.moe.moe.d.d.d.d.d.d.d.d.d.moe.moe....   \n",
       "\n",
       "                                 RNA1_xna_phosphate  uniqueness  \n",
       "0  sp.p.p.sp.sp.sp.sp.sp.sp.sp.sp.sp.sp.p.p.p.p.sp.         1.0  \n",
       "1  sp.p.p.p.sp.sp.sp.sp.sp.sp.sp.sp.sp.sp.p.p.p.sp.         1.0  \n",
       "2  sp.p.p.p.p.p.sp.sp.sp.sp.sp.sp.sp.sp.sp.sp.p.sp.         1.0  \n",
       "3  sp.p.p.p.p.p.p.sp.sp.sp.sp.sp.sp.sp.sp.sp.sp.sp.         1.0  \n",
       "4     sp.p.p.p.p.sp.sp.sp.sp.sp.sp.sp.sp.sp.p.p.sp.         1.0  "
      ]
     },
     "execution_count": 13,
     "metadata": {},
     "output_type": "execute_result"
    }
   ],
   "source": [
    "dataset_helm_stats = dataset.get_helm_stats(format='individual')\n",
    "dataset_helm_stats.head()"
   ]
  },
  {
   "cell_type": "code",
   "execution_count": 14,
   "metadata": {},
   "outputs": [
    {
     "data": {
      "text/html": [
       "<div>\n",
       "<style scoped>\n",
       "    .dataframe tbody tr th:only-of-type {\n",
       "        vertical-align: middle;\n",
       "    }\n",
       "\n",
       "    .dataframe tbody tr th {\n",
       "        vertical-align: top;\n",
       "    }\n",
       "\n",
       "    .dataframe thead th {\n",
       "        text-align: right;\n",
       "    }\n",
       "</style>\n",
       "<table border=\"1\" class=\"dataframe\">\n",
       "  <thead>\n",
       "    <tr style=\"text-align: right;\">\n",
       "      <th></th>\n",
       "      <th>nobs</th>\n",
       "      <th>minmax</th>\n",
       "      <th>mean</th>\n",
       "      <th>variance</th>\n",
       "      <th>skewness</th>\n",
       "      <th>kurtosis</th>\n",
       "      <th>num_zeros</th>\n",
       "    </tr>\n",
       "  </thead>\n",
       "  <tbody>\n",
       "    <tr>\n",
       "      <th>0</th>\n",
       "      <td>2437</td>\n",
       "      <td>(0, 7)</td>\n",
       "      <td>2.338531</td>\n",
       "      <td>4.728946</td>\n",
       "      <td>0.543529</td>\n",
       "      <td>-0.970975</td>\n",
       "      <td>695</td>\n",
       "    </tr>\n",
       "  </tbody>\n",
       "</table>\n",
       "</div>"
      ],
      "text/plain": [
       "   nobs  minmax      mean  variance  skewness  kurtosis  num_zeros\n",
       "0  2437  (0, 7)  2.338531  4.728946  0.543529 -0.970975        695"
      ]
     },
     "execution_count": 14,
     "metadata": {},
     "output_type": "execute_result"
    }
   ],
   "source": [
    "dataset.get_label_stats()"
   ]
  },
  {
   "cell_type": "markdown",
   "metadata": {},
   "source": [
    "## Splitting datasets\n",
    "\n",
    "The Dataset class has a function to split dataset into train and test set using different strategies, namely: \n",
    "* Random: Random splitting of dataset\n",
    "* Stratified: Split classification dataset so that the labels distribution are the same for train and test.\n",
    "* Target: Split dataset with targets labels so that each set contain data from different group of mRNA targets\n",
    "* Backbone: Split dataset based on ribose and phosphate pattern \n",
    "* Nucleobase: Split dataset based on k-mer frequency counts of each HELM sequences.\n",
    "\n",
    "The function determine the splitting strategy from the ```rec_split``` attribute by default.This can be override by using the ```split_strategy``` argument. The ```return_index=True``` argument can be used to retrieve the train, test and val index if needed. By default the test_size is 20% of the data but this can also be specified."
   ]
  },
  {
   "cell_type": "code",
   "execution_count": 15,
   "metadata": {},
   "outputs": [],
   "source": [
    "X_train, X_test, y_train, y_test, train_idx, test_idx = dataset.split(return_index=True, test_size=0.3)"
   ]
  },
  {
   "cell_type": "code",
   "execution_count": 16,
   "metadata": {},
   "outputs": [
    {
     "name": "stdout",
     "output_type": "stream",
     "text": [
      "Train size: 1560\n",
      "Test size: 877\n"
     ]
    }
   ],
   "source": [
    "print(f\"Train size: {len(X_train)}\")\n",
    "print(f\"Test size: {len(X_test)}\")"
   ]
  },
  {
   "cell_type": "markdown",
   "metadata": {},
   "source": [
    "### Overriding the default split strategy with \"Target\" split"
   ]
  },
  {
   "cell_type": "code",
   "execution_count": 17,
   "metadata": {},
   "outputs": [],
   "source": [
    "X_train, X_test, y_train, y_test, train_idx, test_idx = dataset.split(split_strategy='Target',return_index=True)"
   ]
  },
  {
   "cell_type": "code",
   "execution_count": 18,
   "metadata": {},
   "outputs": [
    {
     "name": "stdout",
     "output_type": "stream",
     "text": [
      "Train targets\n",
      "{'HTT', 'C9ORF72', 'LRRK2', 'GFAP', 'UBE3A-ATS', 'SOD1', 'ATXN3', 'PRNP', 'SMN2', 'FUS'}\n"
     ]
    }
   ],
   "source": [
    "print('Train targets')\n",
    "print(set(dataset.targets[train_idx]))"
   ]
  },
  {
   "cell_type": "code",
   "execution_count": 19,
   "metadata": {},
   "outputs": [
    {
     "name": "stdout",
     "output_type": "stream",
     "text": [
      "Test targets\n",
      "{'SCN2A', 'ATXN2', 'APP'}\n"
     ]
    }
   ],
   "source": [
    "print('Test targets')\n",
    "print(set(dataset.targets[test_idx]))"
   ]
  },
  {
   "cell_type": "markdown",
   "metadata": {},
   "source": [
    "### Calling each splitting function directly from the split module"
   ]
  },
  {
   "cell_type": "code",
   "execution_count": 20,
   "metadata": {},
   "outputs": [],
   "source": [
    "from oligogym.split import backbone_split"
   ]
  },
  {
   "cell_type": "code",
   "execution_count": 21,
   "metadata": {},
   "outputs": [],
   "source": [
    "X_train, X_test, y_train, y_test, train_idx, test_idx = backbone_split(dataset.x,dataset.y,test_size=0.2,return_index=True)"
   ]
  },
  {
   "cell_type": "code",
   "execution_count": 22,
   "metadata": {},
   "outputs": [
    {
     "name": "stdout",
     "output_type": "stream",
     "text": [
      "Train size: 1743\n",
      "Test size: 694\n"
     ]
    }
   ],
   "source": [
    "print(f\"Train size: {len(X_train)}\")\n",
    "print(f\"Test size: {len(X_test)}\")"
   ]
  },
  {
   "cell_type": "markdown",
   "metadata": {},
   "source": [
    "### val_size argument can be used to do train/test/validation split"
   ]
  },
  {
   "cell_type": "code",
   "execution_count": 23,
   "metadata": {},
   "outputs": [],
   "source": [
    "X_train, X_val, X_test, y_train, y_val, y_test = dataset.split(return_index=False,test_size=0.2,val_size=0.1)"
   ]
  },
  {
   "cell_type": "code",
   "execution_count": 24,
   "metadata": {},
   "outputs": [
    {
     "name": "stdout",
     "output_type": "stream",
     "text": [
      "Train size: 1367\n",
      "Validation size: 762\n",
      "Test size: 308\n"
     ]
    }
   ],
   "source": [
    "print(f\"Train size: {len(X_train)}\")\n",
    "print(f\"Validation size: {len(X_val)}\")\n",
    "print(f\"Test size: {len(X_test)}\")"
   ]
  },
  {
   "cell_type": "code",
   "execution_count": null,
   "metadata": {},
   "outputs": [],
   "source": []
  }
 ],
 "metadata": {
  "kernelspec": {
   "display_name": "oligogym",
   "language": "python",
   "name": "python3"
  },
  "language_info": {
   "codemirror_mode": {
    "name": "ipython",
    "version": 3
   },
   "file_extension": ".py",
   "mimetype": "text/x-python",
   "name": "python",
   "nbconvert_exporter": "python",
   "pygments_lexer": "ipython3",
   "version": "3.10.16"
  }
 },
 "nbformat": 4,
 "nbformat_minor": 2
}
